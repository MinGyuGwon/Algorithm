{
 "cells": [
  {
   "cell_type": "markdown",
   "id": "80e3963d",
   "metadata": {},
   "source": [
    "https://towardsdatascience.com/powerful-ultimate-binary-search-template-and-many-leetcode-problems-1f850ef95651"
   ]
  },
  {
   "cell_type": "markdown",
   "id": "e33e655b",
   "metadata": {},
   "source": [
    "1201. Ugly Number III https://leetcode.com/problems/ugly-number-iii/"
   ]
  },
  {
   "cell_type": "code",
   "execution_count": 12,
   "id": "d3eb078f",
   "metadata": {},
   "outputs": [],
   "source": [
    "mid  = 9"
   ]
  },
  {
   "cell_type": "code",
   "execution_count": 13,
   "id": "4d72229c",
   "metadata": {},
   "outputs": [
    {
     "data": {
      "text/plain": [
       "1"
      ]
     },
     "execution_count": 13,
     "metadata": {},
     "output_type": "execute_result"
    }
   ],
   "source": [
    "mid % 2 or mid % 4 or mid % 7"
   ]
  },
  {
   "cell_type": "code",
   "execution_count": 14,
   "id": "f9249cf3",
   "metadata": {},
   "outputs": [
    {
     "data": {
      "text/plain": [
       "1"
      ]
     },
     "execution_count": 14,
     "metadata": {},
     "output_type": "execute_result"
    }
   ],
   "source": [
    "mid % 2 or mid % 4 or mid % 3"
   ]
  },
  {
   "cell_type": "code",
   "execution_count": 15,
   "id": "89df721c",
   "metadata": {},
   "outputs": [
    {
     "data": {
      "text/plain": [
       "0"
      ]
     },
     "execution_count": 15,
     "metadata": {},
     "output_type": "execute_result"
    }
   ],
   "source": [
    "mid % 3"
   ]
  },
  {
   "cell_type": "code",
   "execution_count": 11,
   "id": "c8b02cf5",
   "metadata": {},
   "outputs": [],
   "source": [
    "# 15 : 30 \n",
    "class Solution(object):\n",
    "    def nthUglyNumber(self, n, a, b, c):\n",
    "        \"\"\"\n",
    "        :type n: int\n",
    "        :type a: int\n",
    "        :type b: int\n",
    "        :type c: int\n",
    "        :rtype: int\n",
    "        \"\"\"\n",
    "        ### \n",
    "        def feasible(mid):\n",
    "            cnt = 0\n",
    "            for val in range(1,mid):\n",
    "                if mid % a == 0:\n",
    "                    cnt += 1\n",
    "                elif mid % b == 0:\n",
    "                    cnt += 1\n",
    "                elif mid % c == 0:\n",
    "                    cnt += 1\n",
    "                ###\n",
    "                if cnt >= n :\n",
    "                    return True\n",
    "            return False\n",
    "        ### \n",
    "        maxN = max(a,b,c)\n",
    "        minN = min(a,b,c)\n",
    "        left, right = 1, pow(minN,n)\n",
    "        while left < right :\n",
    "            mid = (left + right) // 2\n",
    "            # True\n",
    "            if feasible(mid):  \n",
    "                right = mid \n",
    "            # False\n",
    "            else:            \n",
    "                left = mid + 1 \n",
    "        return left  # left - 1 \n",
    "    \n",
    "# n = 5 \n",
    "# a = 2\n",
    "# b = 11\n",
    "# c = 13\n",
    "# Output : 6 \n",
    "# Expected : 10"
   ]
  },
  {
   "cell_type": "code",
   "execution_count": 45,
   "id": "095dc7d2",
   "metadata": {},
   "outputs": [],
   "source": [
    "# 검산\n",
    "def nthUglyNumber(n, a, b, c):\n",
    "    \"\"\"\n",
    "    :type n: int\n",
    "    :type a: int\n",
    "    :type b: int\n",
    "    :type c: int\n",
    "    :rtype: int\n",
    "    \"\"\"\n",
    "    ### \n",
    "    def feasible(mid):\n",
    "        cnt = 0\n",
    "        print(\"-\"*15)\n",
    "        print(f\"left is {left} right is {right}\")\n",
    "        print(f\"mid is {mid}\")\n",
    "        print(f\"a is {a}  b is {b}  c is {c}\")\n",
    "        for val in range(1,mid+1):\n",
    "            if (val % a) == 0:\n",
    "                print(f\"val is {val}\")\n",
    "                print(\"a 만족\")\n",
    "                cnt += 1\n",
    "            elif (val % b) == 0:\n",
    "                print(f\"val is {val}\")\n",
    "                print(\"b 만족\")\n",
    "                cnt += 1\n",
    "            elif (val % c) == 0:\n",
    "                print(f\"val is {val}\")\n",
    "                print(\"c 만족\")\n",
    "                cnt += 1\n",
    "            ###\n",
    "            if cnt >= n :\n",
    "                return True\n",
    "        return False\n",
    "    ### \n",
    "    maxN = max(a,b,c)\n",
    "    minN = min(a,b,c)\n",
    "    left, right = 1, pow(minN,n)\n",
    "    while left < right :\n",
    "        mid = (left + right) // 2\n",
    "        # True\n",
    "        if feasible(mid):\n",
    "            print(f\"True {mid}\")\n",
    "            right = mid \n",
    "        # False\n",
    "        else:\n",
    "            print(f\"False {mid}\")\n",
    "            left = mid + 1 \n",
    "    return left  # left - 1 "
   ]
  },
  {
   "cell_type": "code",
   "execution_count": 47,
   "id": "46a5ba23",
   "metadata": {},
   "outputs": [
    {
     "name": "stdout",
     "output_type": "stream",
     "text": [
      "---------------\n",
      "left is 1 right is 32\n",
      "mid is 16\n",
      "a is 2  b is 11  c is 13\n",
      "val is 2\n",
      "a 만족\n",
      "val is 4\n",
      "a 만족\n",
      "val is 6\n",
      "a 만족\n",
      "val is 8\n",
      "a 만족\n",
      "val is 10\n",
      "a 만족\n",
      "True 16\n",
      "---------------\n",
      "left is 1 right is 16\n",
      "mid is 8\n",
      "a is 2  b is 11  c is 13\n",
      "val is 2\n",
      "a 만족\n",
      "val is 4\n",
      "a 만족\n",
      "val is 6\n",
      "a 만족\n",
      "val is 8\n",
      "a 만족\n",
      "False 8\n",
      "---------------\n",
      "left is 9 right is 16\n",
      "mid is 12\n",
      "a is 2  b is 11  c is 13\n",
      "val is 2\n",
      "a 만족\n",
      "val is 4\n",
      "a 만족\n",
      "val is 6\n",
      "a 만족\n",
      "val is 8\n",
      "a 만족\n",
      "val is 10\n",
      "a 만족\n",
      "True 12\n",
      "---------------\n",
      "left is 9 right is 12\n",
      "mid is 10\n",
      "a is 2  b is 11  c is 13\n",
      "val is 2\n",
      "a 만족\n",
      "val is 4\n",
      "a 만족\n",
      "val is 6\n",
      "a 만족\n",
      "val is 8\n",
      "a 만족\n",
      "val is 10\n",
      "a 만족\n",
      "True 10\n",
      "---------------\n",
      "left is 9 right is 10\n",
      "mid is 9\n",
      "a is 2  b is 11  c is 13\n",
      "val is 2\n",
      "a 만족\n",
      "val is 4\n",
      "a 만족\n",
      "val is 6\n",
      "a 만족\n",
      "val is 8\n",
      "a 만족\n",
      "False 9\n"
     ]
    },
    {
     "data": {
      "text/plain": [
       "10"
      ]
     },
     "execution_count": 47,
     "metadata": {},
     "output_type": "execute_result"
    }
   ],
   "source": [
    "nthUglyNumber(5, 2, 11, 13)"
   ]
  },
  {
   "cell_type": "code",
   "execution_count": 48,
   "id": "0e25f8c8",
   "metadata": {},
   "outputs": [],
   "source": [
    "# Test Case 통과 \n",
    "# Time Limit Exceeded\n",
    "\n",
    "# 16 : 10 \n",
    "# 16 : 25 다시 시작 \n",
    "'''\n",
    "n =\n",
    "1000000000\n",
    "a =\n",
    "2\n",
    "b =\n",
    "217983653\n",
    "c =\n",
    "336916467\n",
    "'''\n",
    "\n",
    "class Solution(object):\n",
    "    def nthUglyNumber(self, n, a, b, c):\n",
    "        \"\"\"\n",
    "        :type n: int\n",
    "        :type a: int\n",
    "        :type b: int\n",
    "        :type c: int\n",
    "        :rtype: int\n",
    "        \"\"\"\n",
    "        ### \n",
    "\n",
    "        def feasible(mid):\n",
    "            cnt = 0\n",
    "            for val in range(1,mid+1):\n",
    "                if (val % a) == 0:\n",
    "                    cnt += 1\n",
    "                elif (val % b) == 0:\n",
    "                    cnt += 1\n",
    "                elif (val % c) == 0:\n",
    "                    cnt += 1\n",
    "                ###\n",
    "                if cnt >= n :\n",
    "                    return True\n",
    "            return False\n",
    "        ### \n",
    "        maxN = max(a,b,c)\n",
    "        minN = min(a,b,c)\n",
    "        left, right = 1, minN * n\n",
    "        while left < right :\n",
    "            mid = (left + right) // 2\n",
    "            # True\n",
    "            if feasible(mid):\n",
    "                right = mid \n",
    "            # False\n",
    "            else:\n",
    "                left = mid + 1 \n",
    "        return left  "
   ]
  },
  {
   "cell_type": "markdown",
   "id": "7dafcb4a",
   "metadata": {},
   "source": [
    "## 다른 풀이"
   ]
  },
  {
   "cell_type": "code",
   "execution_count": 54,
   "id": "19138064",
   "metadata": {},
   "outputs": [
    {
     "data": {
      "text/plain": [
       "7"
      ]
     },
     "execution_count": 54,
     "metadata": {},
     "output_type": "execute_result"
    }
   ],
   "source": [
    "# 공약수 구하기\n",
    "import math \n",
    "math.gcd(21, 28)"
   ]
  },
  {
   "cell_type": "code",
   "execution_count": 53,
   "id": "57625c07",
   "metadata": {},
   "outputs": [],
   "source": [
    "def nthUglyNumber(n: int, a: int, b: int, c: int) -> int:\n",
    "    # 핵심 \n",
    "    def enough(num) -> bool:\n",
    "        total = mid//a + mid//b + mid//c - mid//ab - mid//ac - mid//bc + mid//abc\n",
    "        return total >= n\n",
    "      \n",
    "    ab = a * b // math.gcd(a, b)\n",
    "    ac = a * c // math.gcd(a, c)\n",
    "    bc = b * c // math.gcd(b, c)\n",
    "    abc = a * bc // math.gcd(a, bc)\n",
    "    ### \n",
    "    left, right = 1, 10 ** 10\n",
    "    while left < right:\n",
    "        mid = left + (right - left) // 2\n",
    "        if enough(mid):\n",
    "            right = mid\n",
    "        else:\n",
    "            left = mid + 1\n",
    "    return left"
   ]
  }
 ],
 "metadata": {
  "kernelspec": {
   "display_name": "Python 3 (ipykernel)",
   "language": "python",
   "name": "python3"
  },
  "language_info": {
   "codemirror_mode": {
    "name": "ipython",
    "version": 3
   },
   "file_extension": ".py",
   "mimetype": "text/x-python",
   "name": "python",
   "nbconvert_exporter": "python",
   "pygments_lexer": "ipython3",
   "version": "3.9.7"
  }
 },
 "nbformat": 4,
 "nbformat_minor": 5
}
