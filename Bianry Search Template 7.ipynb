{
 "cells": [
  {
   "cell_type": "markdown",
   "id": "d67b89a7",
   "metadata": {},
   "source": [
    "https://towardsdatascience.com/powerful-ultimate-binary-search-template-and-many-leetcode-problems-1f850ef95651"
   ]
  },
  {
   "cell_type": "markdown",
   "id": "50fb46fe",
   "metadata": {},
   "source": [
    "719. Find K-th Smallest Pair Distance https://leetcode.com/problems/find-k-th-smallest-pair-distance/"
   ]
  },
  {
   "cell_type": "code",
   "execution_count": 25,
   "id": "8e9305ac",
   "metadata": {},
   "outputs": [],
   "source": [
    "# 14:52 ~ 15:08\n",
    "# 15:18 ~\n",
    "\n",
    "''' \n",
    "Pair 만들기 itertools.combinations\n",
    "'''\n",
    "\n",
    "from itertools import combinations\n",
    "\n",
    "class Solution(object):\n",
    "    def smallestDistancePair(self, nums, k):\n",
    "        \"\"\"\n",
    "        :type nums: List[int]\n",
    "        :type k: int\n",
    "        :rtype: int\n",
    "        \"\"\"\n",
    "        nums2 = list(combinations(nums,2))\n",
    "        numList = list(map(lambda x: abs(x[1] - x[0]),nums2))\n",
    "        def feasible(dist):\n",
    "            cnt = 0\n",
    "                \n",
    "            return True\n",
    "            \n",
    "        minNum = min(nums)\n",
    "        maxNum = max(nums)\n",
    "        right = maxNum - minNum # 최대 거리  \n",
    "        left = 0 # 최소 거리 \n",
    "        while left < right : \n",
    "            mid = left + (right - left)//2\n",
    "            if feasible(mid):\n",
    "                right = mid \n",
    "            else:\n",
    "                left = mid + 1\n",
    "        return left # Kth smallest distance pair "
   ]
  },
  {
   "cell_type": "code",
   "execution_count": 8,
   "id": "067208c5",
   "metadata": {},
   "outputs": [],
   "source": [
    "nums = [1,1,1]"
   ]
  },
  {
   "cell_type": "code",
   "execution_count": 11,
   "id": "1bd5e13b",
   "metadata": {},
   "outputs": [],
   "source": [
    "nums = list(range(10))"
   ]
  },
  {
   "cell_type": "code",
   "execution_count": 12,
   "id": "fcabdd20",
   "metadata": {},
   "outputs": [
    {
     "data": {
      "text/plain": [
       "[0, 1, 2, 3, 4, 5, 6, 7, 8, 9]"
      ]
     },
     "execution_count": 12,
     "metadata": {},
     "output_type": "execute_result"
    }
   ],
   "source": [
    "nums"
   ]
  },
  {
   "cell_type": "code",
   "execution_count": 14,
   "id": "b9888d6f",
   "metadata": {},
   "outputs": [],
   "source": [
    "nums2 = list(combinations(nums,2))"
   ]
  },
  {
   "cell_type": "code",
   "execution_count": 15,
   "id": "f5afedf4",
   "metadata": {},
   "outputs": [
    {
     "data": {
      "text/plain": [
       "[(0, 1),\n",
       " (0, 2),\n",
       " (0, 3),\n",
       " (0, 4),\n",
       " (0, 5),\n",
       " (0, 6),\n",
       " (0, 7),\n",
       " (0, 8),\n",
       " (0, 9),\n",
       " (1, 2),\n",
       " (1, 3),\n",
       " (1, 4),\n",
       " (1, 5),\n",
       " (1, 6),\n",
       " (1, 7),\n",
       " (1, 8),\n",
       " (1, 9),\n",
       " (2, 3),\n",
       " (2, 4),\n",
       " (2, 5),\n",
       " (2, 6),\n",
       " (2, 7),\n",
       " (2, 8),\n",
       " (2, 9),\n",
       " (3, 4),\n",
       " (3, 5),\n",
       " (3, 6),\n",
       " (3, 7),\n",
       " (3, 8),\n",
       " (3, 9),\n",
       " (4, 5),\n",
       " (4, 6),\n",
       " (4, 7),\n",
       " (4, 8),\n",
       " (4, 9),\n",
       " (5, 6),\n",
       " (5, 7),\n",
       " (5, 8),\n",
       " (5, 9),\n",
       " (6, 7),\n",
       " (6, 8),\n",
       " (6, 9),\n",
       " (7, 8),\n",
       " (7, 9),\n",
       " (8, 9)]"
      ]
     },
     "execution_count": 15,
     "metadata": {},
     "output_type": "execute_result"
    }
   ],
   "source": [
    "nums2"
   ]
  },
  {
   "cell_type": "code",
   "execution_count": 22,
   "id": "249110b2",
   "metadata": {},
   "outputs": [],
   "source": [
    "k = 3"
   ]
  },
  {
   "cell_type": "code",
   "execution_count": 23,
   "id": "2e3650f0",
   "metadata": {},
   "outputs": [
    {
     "data": {
      "text/plain": [
       "1"
      ]
     },
     "execution_count": 23,
     "metadata": {},
     "output_type": "execute_result"
    }
   ],
   "source": [
    "list(map(lambda x: abs(x[1] - x[0]),nums2))"
   ]
  },
  {
   "cell_type": "markdown",
   "id": "3b2685ae",
   "metadata": {},
   "source": [
    "## 다른 풀이"
   ]
  },
  {
   "cell_type": "code",
   "execution_count": 26,
   "id": "77783dac",
   "metadata": {},
   "outputs": [],
   "source": [
    "# Memory Limit Exceeded\n",
    "from itertools import combinations\n",
    "\n",
    "class Solution(object):\n",
    "    def smallestDistancePair(self, nums, k):\n",
    "        \"\"\"\n",
    "        :type nums: List[int]\n",
    "        :type k: int\n",
    "        :rtype: int\n",
    "        \"\"\"\n",
    "        nums2 = list(combinations(nums,2))\n",
    "        return sorted(list(map(lambda x: abs(x[1] - x[0]),nums2)))[k-1]"
   ]
  },
  {
   "cell_type": "code",
   "execution_count": 27,
   "id": "362b3798",
   "metadata": {},
   "outputs": [],
   "source": [
    "def enough(distance) -> bool:  # two pointers\n",
    "    count, i, j = 0, 0, 0\n",
    "    while i < n or j < n:\n",
    "        while j < n and nums[j] - nums[i] <= distance: #fast pointer\n",
    "            j += 1\n",
    "        count += j - i - 1  # count pairs\n",
    "        i += 1  # move slow pointer\n",
    "    return count >= k"
   ]
  },
  {
   "cell_type": "code",
   "execution_count": 29,
   "id": "f589da8e",
   "metadata": {},
   "outputs": [],
   "source": [
    "def smallestDistancePair(nums, k):\n",
    "    nums.sort() # 정렬을 하지 않으면, 복잡도가 올라감, NlogN의 시간 복잡도\n",
    "    n = len(nums) \n",
    "    left, right = 0, nums[-1] - nums[0]\n",
    "    while left < right:\n",
    "        mid = left + (right - left) // 2\n",
    "        if enough(mid):\n",
    "            right = mid\n",
    "        else:\n",
    "            left = mid + 1\n",
    "    return left"
   ]
  }
 ],
 "metadata": {
  "kernelspec": {
   "display_name": "Python 3 (ipykernel)",
   "language": "python",
   "name": "python3"
  },
  "language_info": {
   "codemirror_mode": {
    "name": "ipython",
    "version": 3
   },
   "file_extension": ".py",
   "mimetype": "text/x-python",
   "name": "python",
   "nbconvert_exporter": "python",
   "pygments_lexer": "ipython3",
   "version": "3.9.7"
  }
 },
 "nbformat": 4,
 "nbformat_minor": 5
}
