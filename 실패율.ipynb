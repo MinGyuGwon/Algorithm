{
 "cells": [
  {
   "cell_type": "code",
   "execution_count": 70,
   "id": "2f3eb475",
   "metadata": {},
   "outputs": [],
   "source": [
    "# 문제 소요 시간 : 40분 \n",
    "from collections import Counter\n",
    "\n",
    "def solution(N, stages):\n",
    "    answer = []\n",
    "    fail = [0] * (N+1)\n",
    "    \n",
    "    cnt = Counter(stages)\n",
    "    cntKey = cnt.keys()\n",
    "    \n",
    "    temp = 0\n",
    "    # 해당 단계에 도달한 인원들\n",
    "    if N+1 in cntKey:\n",
    "        temp = cnt.get(N+1)\n",
    "\n",
    "    for i in  range(N,0,-1):\n",
    "        if i not in cntKey:\n",
    "            fail[i] = 0\n",
    "        else:\n",
    "            temp += cnt.get(i) \n",
    "            # 막힌 인원들 \n",
    "            present = cnt.get(i)\n",
    "            # 실패율 \n",
    "            fail[i] = present/temp\n",
    "            \n",
    "    my_dict = {}\n",
    "    for i in range(1,len(fail)):\n",
    "        my_dict[i] = fail[i]\n",
    "        \n",
    "    result = sorted(my_dict, key=my_dict.get, reverse = True)\n",
    "    # result.remove(N+1)\n",
    "    answer = result \n",
    "    \n",
    "    return answer"
   ]
  },
  {
   "cell_type": "code",
   "execution_count": 72,
   "id": "8f965f8a",
   "metadata": {},
   "outputs": [
    {
     "data": {
      "text/plain": [
       "[4, 1, 2, 3]"
      ]
     },
     "execution_count": 72,
     "metadata": {},
     "output_type": "execute_result"
    }
   ],
   "source": [
    "solution(N = 4, stages = [4,4,4,4,4])"
   ]
  },
  {
   "cell_type": "code",
   "execution_count": 66,
   "id": "aff88f6f",
   "metadata": {},
   "outputs": [
    {
     "name": "stdout",
     "output_type": "stream",
     "text": [
      "Help on method_descriptor:\n",
      "\n",
      "setdefault(self, key, default=None, /)\n",
      "    Insert key with a value of default if key is not in the dictionary.\n",
      "    \n",
      "    Return the value for key if key is in the dictionary, else default.\n",
      "\n"
     ]
    }
   ],
   "source": [
    "help(Counter.setdefault)"
   ]
  },
  {
   "cell_type": "code",
   "execution_count": null,
   "id": "6143063c",
   "metadata": {},
   "outputs": [],
   "source": [
    "# TypeError: unsupported operand type(s) for +=: 'int' and 'NoneType'\n",
    "\n",
    "from collections import Counter\n",
    "\n",
    "def solution(N, stages):\n",
    "    answer = []\n",
    "    answer = [0]* (N+1)\n",
    "    \n",
    "    cnt = Counter(stages)\n",
    "    cnt.setdefault(0) # 중요 아니면 Nonetype 반환\n",
    "    temp = cnt.get(N+1)\n",
    "\n",
    "    for i in  range(N,0,-1):\n",
    "        # 해당 단계에 도달한 인원들 \n",
    "        temp += cnt.get(i)\n",
    "        # 막힌 인원들 \n",
    "        present = cnt.get(i)\n",
    "        # 실패율 \n",
    "        answer[i-1] = present/temp\n",
    "            \n",
    "    my_dict = {}\n",
    "    for i in range(len(answer)):\n",
    "        my_dict[i+1] = answer[i]\n",
    "        \n",
    "    result = sorted(my_dict, key=my_dict.get, reverse = True)\n",
    "    result.remove(N+1)\n",
    "    answer = result \n",
    "    \n",
    "    return answer"
   ]
  },
  {
   "cell_type": "code",
   "execution_count": 63,
   "id": "18dea35c",
   "metadata": {},
   "outputs": [],
   "source": [
    "# IndexError: list assignment index out of range\n",
    "\n",
    "from collections import Counter\n",
    "\n",
    "def solution(N, stages):\n",
    "    answer = []\n",
    "    \n",
    "    cnt = Counter(stages)\n",
    "\n",
    "    temp = cnt.get(N+1)\n",
    "\n",
    "    for i in  range(N,0,-1):\n",
    "        # 해당 단계에 도달한 인원들 \n",
    "        if cnt.get(i): # 값이 존재하면 \n",
    "            temp += cnt.get(i)\n",
    "            # 막힌 인원들 \n",
    "            present = cnt.get(i)\n",
    "            # 실패율 \n",
    "            answer[i-1] = present/temp\n",
    "\n",
    "\n",
    "        else: # 값이 존재하지 않으면\n",
    "            temp += 0\n",
    "            # 막힌 인원들 \n",
    "            present = 0\n",
    "            # 실패율 \n",
    "            answer[i-1] = present/temp\n",
    "            \n",
    "    my_dict = {}\n",
    "    for i in range(len(answer)):\n",
    "        my_dict[i+1] = answer[i]\n",
    "        \n",
    "    result = sorted(my_dict, key=my_dict.get, reverse = True)\n",
    "    result.remove(N+1)\n",
    "    answer = result \n",
    "    \n",
    "    return answer"
   ]
  },
  {
   "cell_type": "code",
   "execution_count": 1,
   "id": "b90cde99",
   "metadata": {},
   "outputs": [],
   "source": [
    "answer = []"
   ]
  },
  {
   "cell_type": "code",
   "execution_count": 12,
   "id": "3a4f8bf6",
   "metadata": {},
   "outputs": [],
   "source": [
    "N = 5\n",
    "stages = [2, 1, 2, 6, 2, 4, 3, 3]"
   ]
  },
  {
   "cell_type": "code",
   "execution_count": 13,
   "id": "ab34cfc8",
   "metadata": {},
   "outputs": [],
   "source": [
    "from collections import Counter"
   ]
  },
  {
   "cell_type": "code",
   "execution_count": 14,
   "id": "f0fc5521",
   "metadata": {},
   "outputs": [],
   "source": [
    "cnt = Counter(stages)"
   ]
  },
  {
   "cell_type": "code",
   "execution_count": 15,
   "id": "53dff3c3",
   "metadata": {},
   "outputs": [
    {
     "data": {
      "text/plain": [
       "Counter({2: 3, 1: 1, 6: 1, 4: 1, 3: 2})"
      ]
     },
     "execution_count": 15,
     "metadata": {},
     "output_type": "execute_result"
    }
   ],
   "source": [
    "cnt"
   ]
  },
  {
   "cell_type": "code",
   "execution_count": null,
   "id": "9d05cb76",
   "metadata": {},
   "outputs": [],
   "source": [
    "전체 8명 \n",
    "\n",
    "모두 푼 사람 1명   \n",
    "5에 막힌 사람 0명  0\n",
    "4에 막힌 사람 1명  0.5\n",
    "3에 막힌 사람 2명  0.5\n",
    "2에 막힌 사람 3명  3/7\n",
    "1에 막힌 사람 1명  1/8"
   ]
  },
  {
   "cell_type": "code",
   "execution_count": 16,
   "id": "3158e658",
   "metadata": {},
   "outputs": [],
   "source": [
    "temp = cnt.get(7) # 없는 값 찾아도 에러 안 난다"
   ]
  },
  {
   "cell_type": "code",
   "execution_count": 17,
   "id": "4f260210",
   "metadata": {},
   "outputs": [],
   "source": [
    "temp "
   ]
  },
  {
   "cell_type": "code",
   "execution_count": 24,
   "id": "b1415d6b",
   "metadata": {},
   "outputs": [],
   "source": [
    "answer = [0] * (N+1)"
   ]
  },
  {
   "cell_type": "code",
   "execution_count": 25,
   "id": "9a0a08f8",
   "metadata": {},
   "outputs": [
    {
     "data": {
      "text/plain": [
       "[0, 0, 0, 0, 0, 0]"
      ]
     },
     "execution_count": 25,
     "metadata": {},
     "output_type": "execute_result"
    }
   ],
   "source": [
    "answer"
   ]
  },
  {
   "cell_type": "code",
   "execution_count": 33,
   "id": "da239baf",
   "metadata": {},
   "outputs": [],
   "source": [
    "# N+1 은 모든 것을 푼 경우를 의미\n",
    "temp = cnt.get(N+1)\n",
    "\n",
    "for i in  range(N,0,-1):\n",
    "    # 해당 단계에 도달한 인원들 \n",
    "    if cnt.get(i): # 값이 존재하면 \n",
    "        temp += cnt.get(i)\n",
    "        # 막힌 인원들 \n",
    "        present = cnt.get(i)\n",
    "        # 실패율 \n",
    "        answer[i-1] = present/temp\n",
    "    \n",
    "    \n",
    "    else: # 값이 존재하지 않으면\n",
    "        temp += 0\n",
    "        # 막힌 인원들 \n",
    "        present = 0\n",
    "        # 실패율 \n",
    "        answer[i-1] = present/temp"
   ]
  },
  {
   "cell_type": "code",
   "execution_count": 36,
   "id": "22759d5e",
   "metadata": {},
   "outputs": [
    {
     "data": {
      "text/plain": [
       "[0.125, 0.42857142857142855, 0.5, 0.5, 0.0, 0]"
      ]
     },
     "execution_count": 36,
     "metadata": {},
     "output_type": "execute_result"
    }
   ],
   "source": [
    "answer"
   ]
  },
  {
   "cell_type": "code",
   "execution_count": 39,
   "id": "8a01e7d4",
   "metadata": {},
   "outputs": [],
   "source": [
    "# 순위 구하기 "
   ]
  },
  {
   "cell_type": "code",
   "execution_count": 41,
   "id": "6b5cfbbe",
   "metadata": {},
   "outputs": [],
   "source": [
    "my_dict = {}\n",
    "for i in range(len(answer)):\n",
    "    my_dict[i+1] = answer[i]"
   ]
  },
  {
   "cell_type": "code",
   "execution_count": 42,
   "id": "9a9a46e2",
   "metadata": {},
   "outputs": [
    {
     "data": {
      "text/plain": [
       "{1: 0.125, 2: 0.42857142857142855, 3: 0.5, 4: 0.5, 5: 0.0, 6: 0}"
      ]
     },
     "execution_count": 42,
     "metadata": {},
     "output_type": "execute_result"
    }
   ],
   "source": [
    "my_dict"
   ]
  },
  {
   "cell_type": "code",
   "execution_count": 48,
   "id": "af0ed714",
   "metadata": {},
   "outputs": [],
   "source": [
    "# 딕셔너리 Value 값에 따라 key 정렬하기 "
   ]
  },
  {
   "cell_type": "code",
   "execution_count": 56,
   "id": "049d5c41",
   "metadata": {},
   "outputs": [],
   "source": [
    "[1,2,3].remove(3)"
   ]
  },
  {
   "cell_type": "code",
   "execution_count": 61,
   "id": "21bdb73a",
   "metadata": {},
   "outputs": [],
   "source": [
    "result = sorted(my_dict, key=my_dict.get, reverse = True)\n",
    "result.remove(N+1)"
   ]
  },
  {
   "cell_type": "code",
   "execution_count": 62,
   "id": "0122b738",
   "metadata": {},
   "outputs": [
    {
     "data": {
      "text/plain": [
       "[3, 4, 2, 1, 5]"
      ]
     },
     "execution_count": 62,
     "metadata": {},
     "output_type": "execute_result"
    }
   ],
   "source": [
    "result"
   ]
  },
  {
   "cell_type": "markdown",
   "id": "0a9891e0",
   "metadata": {},
   "source": [
    "#### 딕셔너리를 value 값으로 정렬하기"
   ]
  },
  {
   "cell_type": "code",
   "execution_count": 77,
   "id": "5c0cb13c",
   "metadata": {},
   "outputs": [
    {
     "data": {
      "text/plain": [
       "{1: 0.125, 2: 0.42857142857142855, 3: 0.5, 4: 0.5, 5: 0.0, 6: 0}"
      ]
     },
     "execution_count": 77,
     "metadata": {},
     "output_type": "execute_result"
    }
   ],
   "source": [
    "my_dict "
   ]
  },
  {
   "cell_type": "code",
   "execution_count": 58,
   "id": "b45ed3e9",
   "metadata": {},
   "outputs": [
    {
     "data": {
      "text/plain": [
       "[3, 4, 2, 1, 5, 6]"
      ]
     },
     "execution_count": 58,
     "metadata": {},
     "output_type": "execute_result"
    }
   ],
   "source": [
    "sorted(my_dict, key=my_dict.get,reverse = True)"
   ]
  },
  {
   "cell_type": "code",
   "execution_count": 73,
   "id": "e963e81f",
   "metadata": {},
   "outputs": [
    {
     "data": {
      "text/plain": [
       "{1: 0.125, 2: 0.42857142857142855, 3: 0.5, 4: 0.5, 5: 0.0, 6: 0}"
      ]
     },
     "execution_count": 73,
     "metadata": {},
     "output_type": "execute_result"
    }
   ],
   "source": [
    "my_dict"
   ]
  },
  {
   "cell_type": "code",
   "execution_count": 76,
   "id": "b00a96b6",
   "metadata": {},
   "outputs": [
    {
     "data": {
      "text/plain": [
       "dict_items([(1, 0.125), (2, 0.42857142857142855), (3, 0.5), (4, 0.5), (5, 0.0), (6, 0)])"
      ]
     },
     "execution_count": 76,
     "metadata": {},
     "output_type": "execute_result"
    }
   ],
   "source": [
    "my_dict.items()"
   ]
  },
  {
   "cell_type": "code",
   "execution_count": 75,
   "id": "908321cf",
   "metadata": {},
   "outputs": [
    {
     "data": {
      "text/plain": [
       "[(5, 0.0), (6, 0), (1, 0.125), (2, 0.42857142857142855), (3, 0.5), (4, 0.5)]"
      ]
     },
     "execution_count": 75,
     "metadata": {},
     "output_type": "execute_result"
    }
   ],
   "source": [
    "sorted(my_dict.items(), key=lambda item: item[1])"
   ]
  },
  {
   "cell_type": "code",
   "execution_count": 79,
   "id": "53a1c91b",
   "metadata": {},
   "outputs": [
    {
     "data": {
      "text/plain": [
       "{5: 0.0, 6: 0, 1: 0.125, 2: 0.42857142857142855, 3: 0.5, 4: 0.5}"
      ]
     },
     "execution_count": 79,
     "metadata": {},
     "output_type": "execute_result"
    }
   ],
   "source": [
    "{k: v for k, v in sorted(my_dict.items(), key=lambda item: item[1])}"
   ]
  },
  {
   "cell_type": "code",
   "execution_count": 81,
   "id": "efadda36",
   "metadata": {
    "scrolled": true
   },
   "outputs": [
    {
     "data": {
      "text/plain": [
       "[(5, 0.0), (6, 0), (1, 0.125), (2, 0.42857142857142855), (3, 0.5), (4, 0.5)]"
      ]
     },
     "execution_count": 81,
     "metadata": {},
     "output_type": "execute_result"
    }
   ],
   "source": [
    "sorted(my_dict.items(), key=lambda x: x[1])"
   ]
  },
  {
   "cell_type": "markdown",
   "id": "1331c47f",
   "metadata": {},
   "source": [
    "#### 다른 사람의 풀이"
   ]
  },
  {
   "cell_type": "code",
   "execution_count": 82,
   "id": "dd28a8ea",
   "metadata": {},
   "outputs": [],
   "source": [
    "def solution(N, stages):\n",
    "    result = {}\n",
    "    denominator = len(stages) # 분모\n",
    "    for stage in range(1, N+1):\n",
    "        if denominator != 0:\n",
    "            count = stages.count(stage)\n",
    "            result[stage] = count / denominator\n",
    "            denominator -= count # 중요\n",
    "        else:\n",
    "            result[stage] = 0\n",
    "    return sorted(result, key=lambda x : result[x], reverse=True)"
   ]
  },
  {
   "cell_type": "code",
   "execution_count": 83,
   "id": "43236776",
   "metadata": {},
   "outputs": [],
   "source": [
    "def solution(N, stages):\n",
    "    answer = []\n",
    "    fail = []  # 딕셔너리를 쓰지 않고, List에 (Key, Value)를 넣어주는 방식\n",
    "    info = [0] * (N + 2)\n",
    "    for stage in stages:\n",
    "        info[stage] += 1\n",
    "    for i in range(N):\n",
    "        be = sum(info[(i + 1):]) # 해당 단계에 도달한 인원들\n",
    "        yet = info[i + 1]        # 해당 단계에서 멈춘 인원들 \n",
    "        if be == 0:\n",
    "            fail.append((str(i + 1), 0))\n",
    "        else:\n",
    "            fail.append((str(i + 1), yet / be))\n",
    "    for item in sorted(fail, key=lambda x: x[1], reverse=True):\n",
    "        answer.append(int(item[0]))\n",
    "    return answer\n"
   ]
  }
 ],
 "metadata": {
  "kernelspec": {
   "display_name": "Python 3 (ipykernel)",
   "language": "python",
   "name": "python3"
  },
  "language_info": {
   "codemirror_mode": {
    "name": "ipython",
    "version": 3
   },
   "file_extension": ".py",
   "mimetype": "text/x-python",
   "name": "python",
   "nbconvert_exporter": "python",
   "pygments_lexer": "ipython3",
   "version": "3.9.7"
  }
 },
 "nbformat": 4,
 "nbformat_minor": 5
}
