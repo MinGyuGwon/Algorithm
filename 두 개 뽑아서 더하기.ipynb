{
 "cells": [
  {
   "cell_type": "code",
   "execution_count": 19,
   "id": "b4da1450",
   "metadata": {},
   "outputs": [],
   "source": [
    "# 문제 풀이 시간 : 3분 \n",
    "def solution(numbers):\n",
    "    answer = []\n",
    "    length = len(numbers)\n",
    "    for i in range(length-1):\n",
    "        for j in range(i+1,length):\n",
    "            answer.append(numbers[i]+numbers[j])\n",
    "    answer = list(set(answer))\n",
    "    answer.sort()\n",
    "    return answer"
   ]
  },
  {
   "cell_type": "code",
   "execution_count": 13,
   "id": "38c46cee",
   "metadata": {},
   "outputs": [],
   "source": [
    "answer = []\n",
    "numbers  = [5,0,2,7]"
   ]
  },
  {
   "cell_type": "code",
   "execution_count": 14,
   "id": "b5a11504",
   "metadata": {},
   "outputs": [],
   "source": [
    "length = len(numbers)"
   ]
  },
  {
   "cell_type": "code",
   "execution_count": 15,
   "id": "27957b80",
   "metadata": {},
   "outputs": [],
   "source": [
    "for i in range(length-1):\n",
    "    for j in range(i+1,length):\n",
    "        answer.append(numbers[i]+numbers[j])"
   ]
  },
  {
   "cell_type": "code",
   "execution_count": 16,
   "id": "b8628764",
   "metadata": {},
   "outputs": [],
   "source": [
    "answer = list(set(answer))"
   ]
  },
  {
   "cell_type": "code",
   "execution_count": 17,
   "id": "d00681e1",
   "metadata": {},
   "outputs": [],
   "source": [
    "answer.sort()"
   ]
  },
  {
   "cell_type": "code",
   "execution_count": 18,
   "id": "90cd791e",
   "metadata": {},
   "outputs": [
    {
     "data": {
      "text/plain": [
       "[2, 5, 7, 9, 12]"
      ]
     },
     "execution_count": 18,
     "metadata": {},
     "output_type": "execute_result"
    }
   ],
   "source": [
    "answer"
   ]
  },
  {
   "cell_type": "markdown",
   "id": "d4a3cfcf",
   "metadata": {},
   "source": [
    "#### 다른 사람의 풀이"
   ]
  },
  {
   "cell_type": "code",
   "execution_count": 20,
   "id": "9dba1746",
   "metadata": {},
   "outputs": [],
   "source": [
    "from itertools import combinations\n",
    "\n",
    "def solution(numbers):\n",
    "    answer = []\n",
    "    l = list(combinations(numbers, 2))\n",
    "\n",
    "    for i in l:\n",
    "        answer.append(i[0]+i[1])\n",
    "    answer = list(set(answer))\n",
    "    answer.sort()\n",
    "\n",
    "    return answer"
   ]
  },
  {
   "cell_type": "code",
   "execution_count": 21,
   "id": "564648b4",
   "metadata": {},
   "outputs": [],
   "source": [
    "def solution(numbers):\n",
    "    sum_set = set([])\n",
    "\n",
    "    for i in range(len(numbers)):\n",
    "        for j in range(i+1, len(numbers)):\n",
    "            sum_set.add(numbers[i]+numbers[j])\n",
    "    return sorted(list(sum_set))"
   ]
  }
 ],
 "metadata": {
  "kernelspec": {
   "display_name": "Python 3 (ipykernel)",
   "language": "python",
   "name": "python3"
  },
  "language_info": {
   "codemirror_mode": {
    "name": "ipython",
    "version": 3
   },
   "file_extension": ".py",
   "mimetype": "text/x-python",
   "name": "python",
   "nbconvert_exporter": "python",
   "pygments_lexer": "ipython3",
   "version": "3.9.7"
  }
 },
 "nbformat": 4,
 "nbformat_minor": 5
}
