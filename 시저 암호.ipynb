{
 "cells": [
  {
   "cell_type": "code",
   "execution_count": 77,
   "id": "115dc3c1",
   "metadata": {},
   "outputs": [],
   "source": [
    "# 문제 풀이 시간 14분 \n",
    "def solution(s, n):\n",
    "    answer = ''\n",
    "    for i in s:\n",
    "        if i != \" \":\n",
    "            if ord('a')<=ord(i)<= ord('z') and ord(i) + n > ord('z'):\n",
    "                answer += chr(ord(i) + n -26)\n",
    "            elif ord('A')<=ord(i)<= ord('Z') and ord(i) + n > ord('Z'):\n",
    "                answer += chr(ord(i) + n -26)      \n",
    "            else:\n",
    "                answer += chr(ord(i)+ n)\n",
    "        else:\n",
    "            answer += i \n",
    "    return answer"
   ]
  },
  {
   "cell_type": "markdown",
   "id": "e975cfd9",
   "metadata": {},
   "source": [
    "#### 다른 사람의 풀이"
   ]
  },
  {
   "cell_type": "code",
   "execution_count": 78,
   "id": "63640130",
   "metadata": {},
   "outputs": [
    {
     "name": "stdout",
     "output_type": "stream",
     "text": [
      "s는 \"a B z\", n은 4인 경우: e F d\n"
     ]
    }
   ],
   "source": [
    "# Iterable의 길이를 초과하는 index를 처리하는 방법 \n",
    "# element가 아닌 index 접근 방식과 % 연산자 활용 \n",
    "def caesar(s, n):\n",
    "    s = list(s)\n",
    "    for i in range(len(s)):\n",
    "        if s[i].isupper():\n",
    "            s[i]=chr((ord(s[i])-ord('A')+ n)%26+ord('A'))\n",
    "        elif s[i].islower():\n",
    "            s[i]=chr((ord(s[i])-ord('a')+ n)%26+ord('a'))\n",
    "\n",
    "    return \"\".join(s)\n",
    "    # 주어진 문장을 암호화하여 반환하세요.\n",
    "\n",
    "\n",
    "# 실행을 위한 테스트코드입니다.\n",
    "print('s는 \"a B z\", n은 4인 경우: ' + caesar(\"a B z\", 4))"
   ]
  },
  {
   "cell_type": "code",
   "execution_count": 81,
   "id": "f23b24d4",
   "metadata": {},
   "outputs": [
    {
     "name": "stderr",
     "output_type": "stream",
     "text": [
      "<>:9: SyntaxWarning: \"is\" with a literal. Did you mean \"==\"?\n",
      "<>:9: SyntaxWarning: \"is\" with a literal. Did you mean \"==\"?\n",
      "/tmp/ipykernel_47/3351672962.py:9: SyntaxWarning: \"is\" with a literal. Did you mean \"==\"?\n",
      "  if i is \" \":\n"
     ]
    }
   ],
   "source": [
    "# islower() 함수의 활용 \n",
    "def caesar(s, n):\n",
    "    lower_list = \"abcdefghijklmnopqrstuvwxyz\"\n",
    "    upper_list = \"ABCDEFGHIJKLMNOPQRSTUVWXYZ\"\n",
    "\n",
    "    result = []\n",
    "\n",
    "    for i in s:\n",
    "        if i is \" \":\n",
    "            result.append(\" \")\n",
    "        elif i.islower() is True:\n",
    "            new_ = lower_list.find(i) + n\n",
    "            result.append(lower_list[new_ % 26])\n",
    "        else:\n",
    "            new_ = upper_list.find(i) + n\n",
    "            result.append(upper_list[new_ % 26])\n",
    "    return \"\".join(result)"
   ]
  },
  {
   "cell_type": "code",
   "execution_count": 80,
   "id": "0dac1465",
   "metadata": {},
   "outputs": [],
   "source": [
    "def solution(s, n):\n",
    "    answer = ''\n",
    "    for i in s:\n",
    "        if i:\n",
    "            if i >= 'A' and i <= 'Z':\n",
    "                answer += chr((ord(i) - ord('A') + n) % 26 + ord('A'))\n",
    "            elif i >= 'a' and i <= 'z':\n",
    "                answer += chr((ord(i) - ord('a') + n) % 26 + ord('a'))\n",
    "            else : answer += ' '\n",
    "    return answer"
   ]
  }
 ],
 "metadata": {
  "kernelspec": {
   "display_name": "Python 3 (ipykernel)",
   "language": "python",
   "name": "python3"
  },
  "language_info": {
   "codemirror_mode": {
    "name": "ipython",
    "version": 3
   },
   "file_extension": ".py",
   "mimetype": "text/x-python",
   "name": "python",
   "nbconvert_exporter": "python",
   "pygments_lexer": "ipython3",
   "version": "3.9.7"
  }
 },
 "nbformat": 4,
 "nbformat_minor": 5
}
