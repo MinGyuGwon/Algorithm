{
 "cells": [
  {
   "cell_type": "code",
   "execution_count": 12,
   "id": "a9ed5234",
   "metadata": {},
   "outputs": [],
   "source": [
    "# 문제 풀이 시간 : 12분 \n",
    "def solution(lottos, win_nums):\n",
    "    answer = []\n",
    "    \n",
    "    _lottos = [i for i in lottos if i not in win_nums]\n",
    "    _win_nums = [i for i in win_nums if i not in lottos]\n",
    "    # 이미 맞춘 개수\n",
    "    same = 6 - len(_lottos)\n",
    "    # 최대로 맞출 수 있는 개수\n",
    "    max_num = same + _lottos.count(0)\n",
    "\n",
    "    answer.append(min(6-max_num+1 ,6))\n",
    "    answer.append(min(6-same+1 ,6)) \n",
    "    return answer"
   ]
  },
  {
   "cell_type": "code",
   "execution_count": 1,
   "id": "89439d95",
   "metadata": {},
   "outputs": [],
   "source": [
    "lottos = [44, 1, 0, 0, 31, 25]\n",
    "win_nums = [31, 10, 45, 1, 6, 19]"
   ]
  },
  {
   "cell_type": "code",
   "execution_count": 2,
   "id": "3953cad2",
   "metadata": {},
   "outputs": [],
   "source": [
    "answer = []"
   ]
  },
  {
   "cell_type": "code",
   "execution_count": 3,
   "id": "f8bb8a51",
   "metadata": {},
   "outputs": [],
   "source": [
    "_lottos = [i for i in lottos if i not in win_nums]\n",
    "_win_nums = [i for i in win_nums if i not in lottos]"
   ]
  },
  {
   "cell_type": "code",
   "execution_count": 6,
   "id": "af189644",
   "metadata": {},
   "outputs": [],
   "source": [
    "# 이미 맞춘 개수\n",
    "same = 6 - len(_lottos)"
   ]
  },
  {
   "cell_type": "code",
   "execution_count": 7,
   "id": "334f0d87",
   "metadata": {},
   "outputs": [
    {
     "data": {
      "text/plain": [
       "2"
      ]
     },
     "execution_count": 7,
     "metadata": {},
     "output_type": "execute_result"
    }
   ],
   "source": [
    "same"
   ]
  },
  {
   "cell_type": "code",
   "execution_count": 5,
   "id": "4926c615",
   "metadata": {},
   "outputs": [
    {
     "data": {
      "text/plain": [
       "[10, 45, 6, 19]"
      ]
     },
     "execution_count": 5,
     "metadata": {},
     "output_type": "execute_result"
    }
   ],
   "source": [
    "_win_nums "
   ]
  },
  {
   "cell_type": "code",
   "execution_count": 4,
   "id": "3eafd8fc",
   "metadata": {},
   "outputs": [
    {
     "data": {
      "text/plain": [
       "[44, 0, 0, 25]"
      ]
     },
     "execution_count": 4,
     "metadata": {},
     "output_type": "execute_result"
    }
   ],
   "source": [
    "_lottos"
   ]
  },
  {
   "cell_type": "code",
   "execution_count": 8,
   "id": "53ebeca1",
   "metadata": {},
   "outputs": [],
   "source": [
    "max_num = same + _lottos.count(0)"
   ]
  },
  {
   "cell_type": "code",
   "execution_count": 9,
   "id": "1a9c3f17",
   "metadata": {},
   "outputs": [
    {
     "data": {
      "text/plain": [
       "4"
      ]
     },
     "execution_count": 9,
     "metadata": {},
     "output_type": "execute_result"
    }
   ],
   "source": [
    "max_num"
   ]
  },
  {
   "cell_type": "code",
   "execution_count": 10,
   "id": "00737178",
   "metadata": {},
   "outputs": [
    {
     "data": {
      "text/plain": [
       "3"
      ]
     },
     "execution_count": 10,
     "metadata": {},
     "output_type": "execute_result"
    }
   ],
   "source": [
    "6 - max_num + 1"
   ]
  },
  {
   "cell_type": "code",
   "execution_count": 11,
   "id": "e328cc8b",
   "metadata": {},
   "outputs": [
    {
     "data": {
      "text/plain": [
       "5"
      ]
     },
     "execution_count": 11,
     "metadata": {},
     "output_type": "execute_result"
    }
   ],
   "source": [
    "6 - same + 1"
   ]
  },
  {
   "cell_type": "code",
   "execution_count": null,
   "id": "863d6bde",
   "metadata": {},
   "outputs": [],
   "source": [
    "max(6-)"
   ]
  },
  {
   "cell_type": "markdown",
   "id": "784453cf",
   "metadata": {},
   "source": [
    "#### 다른 사람의 풀이"
   ]
  },
  {
   "cell_type": "code",
   "execution_count": null,
   "id": "f4f4bf81",
   "metadata": {},
   "outputs": [],
   "source": [
    "def solution(lottos, win_nums):\n",
    "\n",
    "    rank=[6,6,5,4,3,2,1]\n",
    "\n",
    "    cnt_0 = lottos.count(0)\n",
    "    ans = 0\n",
    "    for x in win_nums:\n",
    "        if x in lottos:\n",
    "            ans += 1\n",
    "    return rank[cnt_0 + ans],rank[ans]"
   ]
  }
 ],
 "metadata": {
  "kernelspec": {
   "display_name": "Python 3 (ipykernel)",
   "language": "python",
   "name": "python3"
  },
  "language_info": {
   "codemirror_mode": {
    "name": "ipython",
    "version": 3
   },
   "file_extension": ".py",
   "mimetype": "text/x-python",
   "name": "python",
   "nbconvert_exporter": "python",
   "pygments_lexer": "ipython3",
   "version": "3.9.7"
  }
 },
 "nbformat": 4,
 "nbformat_minor": 5
}
