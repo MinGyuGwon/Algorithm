{
 "cells": [
  {
   "cell_type": "code",
   "execution_count": 64,
   "id": "ae860e8c",
   "metadata": {},
   "outputs": [],
   "source": [
    "import re\n",
    "\n",
    "def solution(new_id):\n",
    "    answer = ''\n",
    "    \n",
    "    answer = new_id.lower()\n",
    "    answer = re.sub(r'[^a-z1-9-_\\.]', '', answer)\n",
    "    answer = re.sub('\\.(\\.)+','.' ,answer) # repl왜 r prefix 붙이면 안되는거지...\n",
    "    answer = re.sub('^\\.','', answer) # 시작 지점 ^\n",
    "    answer = re.sub('\\.$','', answer) # 끝 지점 $\n",
    "    \n",
    "    if answer == \"\":\n",
    "        answer = 'a'\n",
    "    elif len(answer) >= 16:\n",
    "        answer = answer[:15]\n",
    "        answer = re.sub('\\.$','', answer) # 끝 지점 $\n",
    "    elif len(answer) <= 2:\n",
    "        answer = answer + (3 - len(answer))*answer[-1]\n",
    "    \n",
    "    return answer\n",
    "\n",
    "\n",
    "'''\n",
    "입력값 〉\t\"=.=\"\n",
    "기댓값 〉\t\"aaa\"\n",
    "실행 결과 〉\t실행한 결괏값 \"a\"이 기댓값 \"aaa\"과 다릅니다.\n",
    "'''"
   ]
  },
  {
   "cell_type": "code",
   "execution_count": 79,
   "id": "94d01194",
   "metadata": {},
   "outputs": [],
   "source": [
    "# 85/100 \n",
    "# 6, 18, 26 실패\n",
    "import re\n",
    "\n",
    "def solution(new_id):\n",
    "    answer = ''\n",
    "    \n",
    "    answer = new_id.lower()\n",
    "    answer = re.sub(r'[^a-z1-9-_\\.]', '', answer)\n",
    "    answer = re.sub('\\.(\\.)+','.' ,answer) # repl왜 r prefix 붙이면 안되는거지...\n",
    "    answer = re.sub('^\\.','', answer) # 시작 지점 ^\n",
    "    answer = re.sub('\\.$','', answer) # 끝 지점 $\n",
    "    \n",
    "    if answer == \"\":\n",
    "        answer = 'a'\n",
    "    if len(answer) >= 16:\n",
    "        answer = answer[:15]\n",
    "        answer = re.sub('\\.$','', answer) # 끝 지점 $\n",
    "    elif len(answer) <= 2:\n",
    "        answer = answer + (3 - len(answer))*answer[-1]\n",
    "    \n",
    "    return answer"
   ]
  },
  {
   "cell_type": "code",
   "execution_count": 82,
   "id": "f65ff426",
   "metadata": {},
   "outputs": [],
   "source": [
    "import re\n",
    "# 숫자 0을 빼먹어서 발생한 문제였음.....\n",
    "# 문제 풀이 소요시간 : 35분 \n",
    "\n",
    "def solution(new_id):\n",
    "    answer = ''\n",
    "    \n",
    "    answer = new_id.lower()\n",
    "    answer = re.sub(r'[^a-z0-9-_\\.]', '', answer)  \n",
    "    answer = re.sub('\\.(\\.)+','.' ,answer) # repl왜 r prefix 붙이면 안되는거지...\n",
    "    answer = re.sub('^\\.','', answer) # 시작 지점 ^\n",
    "    answer = re.sub('\\.$','', answer) # 끝 지점 $ \n",
    "    if re.sub(' ','', answer) == \"\":\n",
    "        answer = 'a'\n",
    "    if len(answer) >= 16:\n",
    "        answer = answer[:15]\n",
    "        answer = re.sub('\\.$','', answer) # 끝 지점 $\n",
    "    elif len(answer) <= 2:\n",
    "        answer = answer + (3 - len(answer))*answer[-1]\n",
    "    \n",
    "    return answer"
   ]
  },
  {
   "cell_type": "code",
   "execution_count": 47,
   "id": "cf83d5fc",
   "metadata": {},
   "outputs": [],
   "source": [
    "answer = ''"
   ]
  },
  {
   "cell_type": "code",
   "execution_count": 48,
   "id": "a4af8631",
   "metadata": {},
   "outputs": [],
   "source": [
    "import re "
   ]
  },
  {
   "cell_type": "code",
   "execution_count": 65,
   "id": "98fc5f3f",
   "metadata": {},
   "outputs": [],
   "source": [
    "new_id = '=.='"
   ]
  },
  {
   "cell_type": "code",
   "execution_count": 66,
   "id": "60af1ff2",
   "metadata": {},
   "outputs": [],
   "source": [
    "new_id = new_id.lower()"
   ]
  },
  {
   "cell_type": "code",
   "execution_count": 67,
   "id": "29c4c9e7",
   "metadata": {},
   "outputs": [
    {
     "data": {
      "text/plain": [
       "'=.='"
      ]
     },
     "execution_count": 67,
     "metadata": {},
     "output_type": "execute_result"
    }
   ],
   "source": [
    "new_id"
   ]
  },
  {
   "cell_type": "code",
   "execution_count": 68,
   "id": "ebc99e3b",
   "metadata": {},
   "outputs": [],
   "source": [
    "new_id = re.sub(r'[^a-z1-9-_\\.]', '', new_id)"
   ]
  },
  {
   "cell_type": "code",
   "execution_count": 69,
   "id": "e00a6f5e",
   "metadata": {},
   "outputs": [
    {
     "data": {
      "text/plain": [
       "'.'"
      ]
     },
     "execution_count": 69,
     "metadata": {},
     "output_type": "execute_result"
    }
   ],
   "source": [
    "new_id"
   ]
  },
  {
   "cell_type": "code",
   "execution_count": 70,
   "id": "ce9dcaa0",
   "metadata": {},
   "outputs": [],
   "source": [
    "new_id = re.sub('\\.(\\.)+','.' ,new_id) # repl왜 r prefix 붙이면 안되는거지..."
   ]
  },
  {
   "cell_type": "code",
   "execution_count": 71,
   "id": "ffa28dd7",
   "metadata": {},
   "outputs": [
    {
     "data": {
      "text/plain": [
       "'.'"
      ]
     },
     "execution_count": 71,
     "metadata": {},
     "output_type": "execute_result"
    }
   ],
   "source": [
    "new_id"
   ]
  },
  {
   "cell_type": "code",
   "execution_count": 72,
   "id": "f5d57e9b",
   "metadata": {},
   "outputs": [],
   "source": [
    "new_id = re.sub('^\\.','', new_id) # 시작 지점 ^"
   ]
  },
  {
   "cell_type": "code",
   "execution_count": 73,
   "id": "ba0ea042",
   "metadata": {},
   "outputs": [
    {
     "data": {
      "text/plain": [
       "''"
      ]
     },
     "execution_count": 73,
     "metadata": {},
     "output_type": "execute_result"
    }
   ],
   "source": [
    "new_id"
   ]
  },
  {
   "cell_type": "code",
   "execution_count": 74,
   "id": "7b878e16",
   "metadata": {},
   "outputs": [],
   "source": [
    "new_id = re.sub('\\.$','', new_id) # 끝 지점 $"
   ]
  },
  {
   "cell_type": "code",
   "execution_count": 75,
   "id": "c52fef3f",
   "metadata": {},
   "outputs": [
    {
     "data": {
      "text/plain": [
       "''"
      ]
     },
     "execution_count": 75,
     "metadata": {},
     "output_type": "execute_result"
    }
   ],
   "source": [
    "new_id"
   ]
  },
  {
   "cell_type": "code",
   "execution_count": 76,
   "id": "9991eebe",
   "metadata": {},
   "outputs": [],
   "source": [
    "if new_id == \"\":\n",
    "    new_id = 'a'\n",
    "\n",
    "if len(new_id) >= 16:\n",
    "    new_id = new_id[:15]\n",
    "    new_id = re.sub('\\.$','', new_id) # 끝 지점 $\n",
    "elif len(new_id) <= 2:\n",
    "    new_id = new_id + (3 - len(new_id))*new_id[-1]"
   ]
  },
  {
   "cell_type": "code",
   "execution_count": 78,
   "id": "ae4a1dd8",
   "metadata": {},
   "outputs": [
    {
     "data": {
      "text/plain": [
       "'aaa'"
      ]
     },
     "execution_count": 78,
     "metadata": {},
     "output_type": "execute_result"
    }
   ],
   "source": [
    "new_id "
   ]
  },
  {
   "cell_type": "code",
   "execution_count": null,
   "id": "004f7948",
   "metadata": {},
   "outputs": [],
   "source": []
  },
  {
   "cell_type": "code",
   "execution_count": null,
   "id": "da575a10",
   "metadata": {},
   "outputs": [],
   "source": []
  },
  {
   "cell_type": "markdown",
   "id": "8403ad94",
   "metadata": {},
   "source": [
    "### 왜 동작 x"
   ]
  },
  {
   "cell_type": "code",
   "execution_count": 114,
   "id": "d9f176c5",
   "metadata": {},
   "outputs": [],
   "source": [
    "new_id = '...bat..y.abcdefghijklm'"
   ]
  },
  {
   "cell_type": "code",
   "execution_count": 115,
   "id": "a36174d3",
   "metadata": {},
   "outputs": [],
   "source": [
    "new_id = re.sub('\\.{2,}','\\.', new_id) #2개 이상을 나타낼 때는 {2:} 가 아닌 {2,}로 나타내야 한다. "
   ]
  },
  {
   "cell_type": "code",
   "execution_count": 116,
   "id": "c6e5dd6d",
   "metadata": {},
   "outputs": [
    {
     "data": {
      "text/plain": [
       "'\\\\.bat\\\\.y.abcdefghijklm'"
      ]
     },
     "execution_count": 116,
     "metadata": {},
     "output_type": "execute_result"
    }
   ],
   "source": [
    "new_id "
   ]
  },
  {
   "cell_type": "code",
   "execution_count": 143,
   "id": "b1db056b",
   "metadata": {},
   "outputs": [],
   "source": [
    "new_id = '...bat..y.abcdefghijklm'"
   ]
  },
  {
   "cell_type": "code",
   "execution_count": 144,
   "id": "f4acc5ff",
   "metadata": {},
   "outputs": [],
   "source": [
    "new_id = re.sub('\\.','\\.', new_id)"
   ]
  },
  {
   "cell_type": "code",
   "execution_count": 145,
   "id": "1496a2b9",
   "metadata": {},
   "outputs": [
    {
     "data": {
      "text/plain": [
       "'\\\\.\\\\.\\\\.bat\\\\.\\\\.y\\\\.abcdefghijklm'"
      ]
     },
     "execution_count": 145,
     "metadata": {},
     "output_type": "execute_result"
    }
   ],
   "source": [
    "new_id"
   ]
  },
  {
   "cell_type": "code",
   "execution_count": 146,
   "id": "fe927be2",
   "metadata": {},
   "outputs": [
    {
     "name": "stdout",
     "output_type": "stream",
     "text": [
      "\\.\\.\\.bat\\.\\.y\\.abcdefghijklm\n"
     ]
    }
   ],
   "source": [
    "print(new_id)"
   ]
  },
  {
   "cell_type": "code",
   "execution_count": 154,
   "id": "2b6fceaa",
   "metadata": {},
   "outputs": [],
   "source": [
    "new_id = '...bat..y.abcdefghijklm'"
   ]
  },
  {
   "cell_type": "code",
   "execution_count": 155,
   "id": "2798d41f",
   "metadata": {},
   "outputs": [],
   "source": [
    "new_id = re.sub('\\.','\\.', new_id)"
   ]
  },
  {
   "cell_type": "code",
   "execution_count": 156,
   "id": "57112df6",
   "metadata": {},
   "outputs": [
    {
     "data": {
      "text/plain": [
       "'\\\\.\\\\.\\\\.bat\\\\.\\\\.y\\\\.abcdefghijklm'"
      ]
     },
     "execution_count": 156,
     "metadata": {},
     "output_type": "execute_result"
    }
   ],
   "source": [
    "new_id"
   ]
  },
  {
   "cell_type": "code",
   "execution_count": 157,
   "id": "851ca619",
   "metadata": {},
   "outputs": [
    {
     "name": "stdout",
     "output_type": "stream",
     "text": [
      "\\.\\.\\.bat\\.\\.y\\.abcdefghijklm\n"
     ]
    }
   ],
   "source": [
    "print(new_id)"
   ]
  },
  {
   "cell_type": "code",
   "execution_count": 167,
   "id": "99e7349c",
   "metadata": {},
   "outputs": [
    {
     "name": "stdout",
     "output_type": "stream",
     "text": [
      "\\n\n"
     ]
    }
   ],
   "source": [
    "print(\"\\\\n\")"
   ]
  },
  {
   "cell_type": "code",
   "execution_count": 168,
   "id": "6bee3645",
   "metadata": {},
   "outputs": [
    {
     "name": "stdout",
     "output_type": "stream",
     "text": [
      "\n",
      "\n"
     ]
    }
   ],
   "source": [
    "print(\"\\n\")"
   ]
  },
  {
   "cell_type": "code",
   "execution_count": 169,
   "id": "7b34dbf4",
   "metadata": {},
   "outputs": [
    {
     "name": "stdout",
     "output_type": "stream",
     "text": [
      "\\n\n"
     ]
    }
   ],
   "source": [
    "print(r\"\\n\")"
   ]
  },
  {
   "cell_type": "markdown",
   "id": "12077339",
   "metadata": {},
   "source": [
    "#### 다른 사람의 풀이"
   ]
  },
  {
   "cell_type": "code",
   "execution_count": null,
   "id": "ab68edea",
   "metadata": {},
   "outputs": [],
   "source": [
    "import re\n",
    "\n",
    "def solution(new_id):\n",
    "    st = new_id\n",
    "    st = st.lower()\n",
    "    st = re.sub('[^a-z0-9\\-_.]', '', st)\n",
    "    st = re.sub('\\.+', '.', st)\n",
    "    st = re.sub('^[.]|[.]$', '', st)\n",
    "    st = 'a' if len(st) == 0 else st[:15]\n",
    "    st = re.sub('^[.]|[.]$', '', st)\n",
    "    st = st if len(st) > 2 else st + \"\".join([st[-1] for i in range(3-len(st))])\n",
    "    return st"
   ]
  }
 ],
 "metadata": {
  "kernelspec": {
   "display_name": "Python 3 (ipykernel)",
   "language": "python",
   "name": "python3"
  },
  "language_info": {
   "codemirror_mode": {
    "name": "ipython",
    "version": 3
   },
   "file_extension": ".py",
   "mimetype": "text/x-python",
   "name": "python",
   "nbconvert_exporter": "python",
   "pygments_lexer": "ipython3",
   "version": "3.9.7"
  }
 },
 "nbformat": 4,
 "nbformat_minor": 5
}
