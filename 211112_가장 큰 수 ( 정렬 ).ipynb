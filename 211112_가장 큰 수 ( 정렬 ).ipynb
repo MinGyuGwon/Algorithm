{
 "cells": [
  {
   "cell_type": "markdown",
   "metadata": {},
   "source": [
    "## 가장 큰 수"
   ]
  },
  {
   "cell_type": "markdown",
   "metadata": {},
   "source": [
    "#### URL :   https://programmers.co.kr/learn/courses/30/lessons/42746"
   ]
  },
  {
   "cell_type": "code",
   "execution_count": 1,
   "metadata": {},
   "outputs": [],
   "source": [
    "def solution(numbers):\n",
    "    answer = ''\n",
    "    str_numbers = list(map(str, numbers)) # 정수 자료형을 문자열 자료형으로 변환\n",
    "    str_numbers.sort(key=lambda x: x*3, reverse = True) # 큰 숫자를 기준으로 내림차순으로 정렬 \n",
    "    # ChekPoint 1\n",
    "    answer =  str(int(\"\".join(str_numbers))) # 가장 큰 숫자부터 연결하여, asswer 반환\n",
    "    return answer"
   ]
  },
  {
   "cell_type": "markdown",
   "metadata": {},
   "source": [
    "### 입출력 예시"
   ]
  },
  {
   "cell_type": "code",
   "execution_count": 2,
   "metadata": {},
   "outputs": [
    {
     "data": {
      "text/plain": [
       "'6210'"
      ]
     },
     "execution_count": 2,
     "metadata": {},
     "output_type": "execute_result"
    }
   ],
   "source": [
    "solution([6, 10, 2])"
   ]
  },
  {
   "cell_type": "code",
   "execution_count": 3,
   "metadata": {},
   "outputs": [
    {
     "data": {
      "text/plain": [
       "'9534330'"
      ]
     },
     "execution_count": 3,
     "metadata": {},
     "output_type": "execute_result"
    }
   ],
   "source": [
    "solution([3, 30, 34, 5, 9])"
   ]
  },
  {
   "cell_type": "markdown",
   "metadata": {},
   "source": [
    "## 포인트"
   ]
  },
  {
   "cell_type": "markdown",
   "metadata": {},
   "source": [
    "#### 1. 문자열 '숫자'의 비교"
   ]
  },
  {
   "cell_type": "markdown",
   "metadata": {},
   "source": [
    "int 자료형은 자릿수(일의 자리 숫자, 십의 자리 숫자 , 백의 자리 숫자)에 따라 크기를 비교한다. \n",
    "그와 대비되어, 아스키코드로 구성된 문자열은 '자릿수'에 관계없이 맨 앞을 구성하는 '단일' 문자열들부터 먼저 비교한다. \n",
    "\n",
    "따라서 다음과 같은 차이가 나타난다."
   ]
  },
  {
   "cell_type": "markdown",
   "metadata": {},
   "source": [
    "###### 'int' 자료형의 크기 비교"
   ]
  },
  {
   "cell_type": "code",
   "execution_count": 5,
   "metadata": {},
   "outputs": [
    {
     "data": {
      "text/plain": [
       "False"
      ]
     },
     "execution_count": 5,
     "metadata": {},
     "output_type": "execute_result"
    }
   ],
   "source": [
    "404 > 4024"
   ]
  },
  {
   "cell_type": "markdown",
   "metadata": {},
   "source": [
    "###### 'str' 자료형의 크기 비교"
   ]
  },
  {
   "cell_type": "code",
   "execution_count": 6,
   "metadata": {},
   "outputs": [
    {
     "data": {
      "text/plain": [
       "True"
      ]
     },
     "execution_count": 6,
     "metadata": {},
     "output_type": "execute_result"
    }
   ],
   "source": [
    "'404'>'4024'"
   ]
  },
  {
   "cell_type": "markdown",
   "metadata": {},
   "source": [
    "특히, 입력으로 들어오는 numbers 배열의 각 원소의 크기가 '0 이상 1,000 이하'로 제한되어 있기 때문에, \n",
    "문자열을 3번 곱한 문자열을 비교하는 것으로, 다음과 같은 경우를 문제점을 예방할 수 있다."
   ]
  },
  {
   "cell_type": "code",
   "execution_count": 7,
   "metadata": {},
   "outputs": [
    {
     "data": {
      "text/plain": [
       "True"
      ]
     },
     "execution_count": 7,
     "metadata": {},
     "output_type": "execute_result"
    }
   ],
   "source": [
    "'4' < '404'"
   ]
  },
  {
   "cell_type": "markdown",
   "metadata": {},
   "source": [
    "위와 같은 문제점은 '정수를 이어 붙여 가장 큰 정수를 만드는 것'을 방해할 수 있다\n",
    "\n",
    "따라서,문자열을 3번 반복한 문자열(x*3)을 기준으로 정렬을 진행하였다. "
   ]
  },
  {
   "cell_type": "markdown",
   "metadata": {},
   "source": [
    "#### 2. int( )의 사용을 통해 에러케이스 방지"
   ]
  },
  {
   "cell_type": "markdown",
   "metadata": {},
   "source": [
    "위 코드에서  'ChekPoint 1' 지점에서 int()를 사용하지 않았다면, \n",
    "numbers = [0,0,0]과 같이 0으로구만 구성된 배열이 주어졌을 때 다음과  같은 문제점이 발생할 수 있었다"
   ]
  },
  {
   "cell_type": "code",
   "execution_count": 12,
   "metadata": {},
   "outputs": [],
   "source": [
    "def without_int(numbers):\n",
    "    answer = ''\n",
    "    str_numbers = list(map(str, numbers)) # 정수 자료형을 문자열 자료형으로 변환\n",
    "    str_numbers.sort(key=lambda x: x*3, reverse = True) # 큰 숫자를 기준으로 내림차순으로 정렬 \n",
    "    # ChekPoint 1\n",
    "    answer =  str((\"\".join(str_numbers))) # 가장 큰 숫자부터 연결하여, asswer 반환\n",
    "    return answer"
   ]
  },
  {
   "cell_type": "code",
   "execution_count": 13,
   "metadata": {},
   "outputs": [],
   "source": [
    "numbers = [0, 0 , 0]"
   ]
  },
  {
   "cell_type": "code",
   "execution_count": 15,
   "metadata": {},
   "outputs": [
    {
     "data": {
      "text/plain": [
       "'000'"
      ]
     },
     "execution_count": 15,
     "metadata": {},
     "output_type": "execute_result"
    }
   ],
   "source": [
    "# 에러 예시\n",
    "without_int(numbers)"
   ]
  }
 ],
 "metadata": {
  "kernelspec": {
   "display_name": "Python 3",
   "language": "python",
   "name": "python3"
  },
  "language_info": {
   "codemirror_mode": {
    "name": "ipython",
    "version": 3
   },
   "file_extension": ".py",
   "mimetype": "text/x-python",
   "name": "python",
   "nbconvert_exporter": "python",
   "pygments_lexer": "ipython3",
   "version": "3.6.5"
  }
 },
 "nbformat": 4,
 "nbformat_minor": 4
}
