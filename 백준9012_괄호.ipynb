{
 "cells": [
  {
   "cell_type": "code",
   "execution_count": 1,
   "id": "fbbc67b4",
   "metadata": {},
   "outputs": [],
   "source": [
    "def decide(string):\n",
    "    open_cnt = 0\n",
    "    close_cnt = 0\n",
    "    \n",
    "    for i in string:\n",
    "        if i == \"(\":\n",
    "            open_cnt +=1\n",
    "        elif i == \")\": # sys.stdin.readline() 마지막 개행 문자 \n",
    "            close_cnt +=1\n",
    "            \n",
    "        if open_cnt < close_cnt \n",
    "            return \"NO\"\n",
    "        \n",
    "    if open_cnt != close_cnt:\n",
    "        return \"NO\"\n",
    "    return \"YES\""
   ]
  },
  {
   "cell_type": "code",
   "execution_count": 2,
   "id": "ee5bd514",
   "metadata": {},
   "outputs": [
    {
     "name": "stdout",
     "output_type": "stream",
     "text": [
      "6\n",
      "(())())\n",
      "NO\n",
      "(((()())()\n",
      "NO\n",
      "(()())((()))\n",
      "YES\n",
      "((()()(()))(((())))()\n",
      "NO\n",
      "()()()()(()()())()\n",
      "YES\n",
      "(()((())()(\n",
      "NO\n"
     ]
    }
   ],
   "source": [
    "N = int(input())\n",
    "\n",
    "for _ in range(N):\n",
    "    string = input()\n",
    "    print(decide(string))"
   ]
  },
  {
   "cell_type": "code",
   "execution_count": null,
   "id": "a675f5fa",
   "metadata": {},
   "outputs": [],
   "source": [
    "import sys\n",
    "\n",
    "N = int(sys.stdin.readline())\n",
    "\n",
    "for _ in range(N):\n",
    "    string = sys.stdin.readline()\n",
    "    print(decide(string))"
   ]
  }
 ],
 "metadata": {
  "kernelspec": {
   "display_name": "Python 3 (ipykernel)",
   "language": "python",
   "name": "python3"
  },
  "language_info": {
   "codemirror_mode": {
    "name": "ipython",
    "version": 3
   },
   "file_extension": ".py",
   "mimetype": "text/x-python",
   "name": "python",
   "nbconvert_exporter": "python",
   "pygments_lexer": "ipython3",
   "version": "3.9.7"
  }
 },
 "nbformat": 4,
 "nbformat_minor": 5
}
