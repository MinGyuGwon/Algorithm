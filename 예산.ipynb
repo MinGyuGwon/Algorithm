{
 "cells": [
  {
   "cell_type": "markdown",
   "id": "345778ef",
   "metadata": {},
   "source": [
    "15:34"
   ]
  },
  {
   "cell_type": "code",
   "execution_count": 9,
   "id": "06cd8c22",
   "metadata": {},
   "outputs": [],
   "source": [
    "# 문제 풀이 시간 : 3분\n",
    "def solution(d, budget):\n",
    "    answer = 0\n",
    "    \n",
    "    d.sort()\n",
    "    \n",
    "    temp = 0\n",
    "\n",
    "    for i in d:\n",
    "        if temp + i <= budget:\n",
    "            answer+= 1\n",
    "            temp += i \n",
    "    \n",
    "    return answer"
   ]
  },
  {
   "cell_type": "code",
   "execution_count": 1,
   "id": "af5177ee",
   "metadata": {},
   "outputs": [],
   "source": [
    "d  = [1,3,2,5,4]"
   ]
  },
  {
   "cell_type": "code",
   "execution_count": 2,
   "id": "03fd7d99",
   "metadata": {},
   "outputs": [],
   "source": [
    "d.sort()"
   ]
  },
  {
   "cell_type": "code",
   "execution_count": 3,
   "id": "e71ea06a",
   "metadata": {},
   "outputs": [],
   "source": [
    "budget = 9"
   ]
  },
  {
   "cell_type": "code",
   "execution_count": 4,
   "id": "933f48d8",
   "metadata": {},
   "outputs": [],
   "source": [
    "cnt = 0\n",
    "temp = 0\n",
    "\n",
    "for i in d:\n",
    "    if temp + i <= budget:\n",
    "        cnt+= 1\n",
    "        temp += i "
   ]
  },
  {
   "cell_type": "code",
   "execution_count": 8,
   "id": "2453faa9",
   "metadata": {},
   "outputs": [
    {
     "data": {
      "text/plain": [
       "3"
      ]
     },
     "execution_count": 8,
     "metadata": {},
     "output_type": "execute_result"
    }
   ],
   "source": [
    "cnt"
   ]
  }
 ],
 "metadata": {
  "kernelspec": {
   "display_name": "Python 3 (ipykernel)",
   "language": "python",
   "name": "python3"
  },
  "language_info": {
   "codemirror_mode": {
    "name": "ipython",
    "version": 3
   },
   "file_extension": ".py",
   "mimetype": "text/x-python",
   "name": "python",
   "nbconvert_exporter": "python",
   "pygments_lexer": "ipython3",
   "version": "3.9.7"
  }
 },
 "nbformat": 4,
 "nbformat_minor": 5
}
