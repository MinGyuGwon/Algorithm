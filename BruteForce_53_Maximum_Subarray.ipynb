{
  "nbformat": 4,
  "nbformat_minor": 0,
  "metadata": {
    "colab": {
      "name": "Untitled0_BruteForce_53_Maximum Subarray.ipynb",
      "provenance": [],
      "collapsed_sections": []
    },
    "kernelspec": {
      "name": "python3",
      "display_name": "Python 3"
    },
    "language_info": {
      "name": "python"
    }
  },
  "cells": [
    {
      "cell_type": "markdown",
      "source": [
        "https://leetcode.com/problems/maximum-subarray/"
      ],
      "metadata": {
        "id": "uQpLbdxqLuhI"
      }
    },
    {
      "cell_type": "code",
      "execution_count": 88,
      "metadata": {
        "id": "JvdRjrzhLpSx"
      },
      "outputs": [],
      "source": [
        "# TimeLimit Error\n",
        "def maxSubArray(nums):\n",
        "  # subarray의 합을 비교하는 것이기 때문, PrefixSum으로 접근\n",
        "  prefix_sum =  []\n",
        "\n",
        "  cumul = 0\n",
        "  prefix_sum.append(cumul)\n",
        "  for i in nums:\n",
        "    cumul += i \n",
        "    prefix_sum.append(cumul)\n",
        "  # print(f\"prefix_sum은 {prefix_sum}\")\n",
        "  # 예약어를 변수명으로 사용하면, int' object is not callable 에러 발생\n",
        "  # max를 변수명으로 사용하여 문제 발생\n",
        "  max_num =max(nums) # 첫 max값을 무엇으로 설정하는지 중요 \n",
        "\n",
        "  # prefix_sum[end +1] - prefix_sum[start] \n",
        "\n",
        "  # PrefixSum와 이중 for문을 함께 사용 시 \n",
        "  # for문의 범위를 어떻게 설정할지 고민됨\n",
        "  # 다음과 같이 이중 for문을 구성하면 subarray의 최소 길이가 2이다\n",
        "  # 따라서 위에서, max를 List내의 모든 요소 중 Max값을 최초의 최대값으로 설정\n",
        "  for i in range(len(nums)):\n",
        "    for j in range(i+1, len(nums)):\n",
        "      # print(f\"i와 j는 {i} {j}\")\n",
        "      temp = prefix_sum[j+1] - prefix_sum[i]\n",
        "      if temp > max_num :\n",
        "        max_num = temp\n",
        "  return max_num"
      ]
    },
    {
      "cell_type": "code",
      "source": [
        "maxSubArray([-1,-2]) # Expected : -1"
      ],
      "metadata": {
        "colab": {
          "base_uri": "https://localhost:8080/"
        },
        "id": "bJuQDbO4S2DP",
        "outputId": "30fc7cd7-73dd-4f3c-a45b-e992cddaf16c"
      },
      "execution_count": 89,
      "outputs": [
        {
          "output_type": "execute_result",
          "data": {
            "text/plain": [
              "-1"
            ]
          },
          "metadata": {},
          "execution_count": 89
        }
      ]
    },
    {
      "cell_type": "code",
      "source": [
        "maxSubArray([-2,1,-3,4,-1,2,1,-5,4]) # Expected : 6"
      ],
      "metadata": {
        "colab": {
          "base_uri": "https://localhost:8080/"
        },
        "id": "bT6vLkY_TQzZ",
        "outputId": "c87b6137-f550-46dd-a5be-fa5c4f006b63"
      },
      "execution_count": 90,
      "outputs": [
        {
          "output_type": "execute_result",
          "data": {
            "text/plain": [
              "6"
            ]
          },
          "metadata": {},
          "execution_count": 90
        }
      ]
    },
    {
      "cell_type": "code",
      "source": [
        "maxSubArray(nums = [1]) # Expected : 1"
      ],
      "metadata": {
        "colab": {
          "base_uri": "https://localhost:8080/"
        },
        "id": "c8RVyu5FTQ2K",
        "outputId": "44e95a0b-1030-4a51-e44a-4f2c92122e4e"
      },
      "execution_count": 91,
      "outputs": [
        {
          "output_type": "execute_result",
          "data": {
            "text/plain": [
              "1"
            ]
          },
          "metadata": {},
          "execution_count": 91
        }
      ]
    },
    {
      "cell_type": "code",
      "source": [
        "maxSubArray(nums = [5,4,-1,7,8]) # Expected : 23"
      ],
      "metadata": {
        "id": "zrTLsbJeS2F3",
        "colab": {
          "base_uri": "https://localhost:8080/"
        },
        "outputId": "98c7a29b-d6d9-42d0-92d4-a8bc5f1f1b06"
      },
      "execution_count": 92,
      "outputs": [
        {
          "output_type": "execute_result",
          "data": {
            "text/plain": [
              "23"
            ]
          },
          "metadata": {},
          "execution_count": 92
        }
      ]
    },
    {
      "cell_type": "code",
      "source": [
        "# 잘못된 풀이 \n",
        "def maxSubArray(nums):\n",
        "  prefix_sum =  []\n",
        "\n",
        "  cumul = 0\n",
        "  prefix_sum.append(cumul)\n",
        "  for i in nums:\n",
        "    cumul += i \n",
        "    prefix_sum.append(cumul)\n",
        "\n",
        "  max = prefix_sum[-1] # !중요 -1로 설정한 것 \n",
        "\n",
        "  for i in range(len(nums)):\n",
        "    for j in range(i+1, len(nums)):\n",
        "      temp = prefix_sum[j+1] - prefix_sum[i]\n",
        "      if temp > max :\n",
        "        max = temp\n",
        "  return max"
      ],
      "metadata": {
        "id": "7YGRk9XGNBxj"
      },
      "execution_count": null,
      "outputs": []
    },
    {
      "cell_type": "markdown",
      "source": [
        "![image.png](data:image/png;base64,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)"
      ],
      "metadata": {
        "id": "9Re9LAfLOgkA"
      }
    },
    {
      "cell_type": "code",
      "source": [
        "def maxSubArray(nums):\n",
        "  prefix_sum =  []\n",
        "\n",
        "  cumul = 0\n",
        "  prefix_sum.append(cumul)\n",
        "  for i in nums:\n",
        "    cumul += i \n",
        "    prefix_sum.append(cumul)\n",
        "\n",
        "  max = nums[-1] # max값을 어떻게 설정할지 중요 \n",
        "\n",
        "  for i in range(len(nums)):\n",
        "    for j in range(i+1, len(nums)):\n",
        "      temp = prefix_sum[j+1] - prefix_sum[i]\n",
        "      if temp > max :\n",
        "        max = temp\n",
        "  return max"
      ],
      "metadata": {
        "id": "nelN-kppL0EX"
      },
      "execution_count": null,
      "outputs": []
    },
    {
      "cell_type": "code",
      "source": [
        "maxSubArray([-2,1]) # Expected : 1"
      ],
      "metadata": {
        "colab": {
          "base_uri": "https://localhost:8080/"
        },
        "id": "baOpVHq-Pb6F",
        "outputId": "792cb314-5e2c-47fb-d746-9d6726166a28"
      },
      "execution_count": null,
      "outputs": [
        {
          "output_type": "execute_result",
          "data": {
            "text/plain": [
              "1"
            ]
          },
          "metadata": {},
          "execution_count": 25
        }
      ]
    },
    {
      "cell_type": "code",
      "source": [
        "maxSubArray([-2,1,-3,4,-1,2,1,-5,4]) # Expected :  6"
      ],
      "metadata": {
        "colab": {
          "base_uri": "https://localhost:8080/"
        },
        "id": "eag450CdPfbi",
        "outputId": "e819000d-ac10-4f1d-b6c0-8bbbf4f47ce7"
      },
      "execution_count": null,
      "outputs": [
        {
          "output_type": "execute_result",
          "data": {
            "text/plain": [
              "6"
            ]
          },
          "metadata": {},
          "execution_count": 26
        }
      ]
    },
    {
      "cell_type": "code",
      "source": [
        "maxSubArray(nums = [5,4,-1,7,8]) # Expected : 23"
      ],
      "metadata": {
        "colab": {
          "base_uri": "https://localhost:8080/"
        },
        "id": "Ta4hbWitPfde",
        "outputId": "89bf67ca-cb83-4434-9e16-ebb9bb23779f"
      },
      "execution_count": null,
      "outputs": [
        {
          "output_type": "execute_result",
          "data": {
            "text/plain": [
              "23"
            ]
          },
          "metadata": {},
          "execution_count": 27
        }
      ]
    },
    {
      "cell_type": "markdown",
      "source": [
        "![image.png](data:image/png;base64,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)"
      ],
      "metadata": {
        "id": "wkIvrc22P6wl"
      }
    },
    {
      "cell_type": "code",
      "source": [
        "maxSubArray(nums = [-1,-2]) # Expected : -1"
      ],
      "metadata": {
        "colab": {
          "base_uri": "https://localhost:8080/"
        },
        "id": "kjx5IysKP9qT",
        "outputId": "4c87f03b-5ac5-4aeb-bc25-52384d3988a5"
      },
      "execution_count": null,
      "outputs": [
        {
          "output_type": "execute_result",
          "data": {
            "text/plain": [
              "-2"
            ]
          },
          "metadata": {},
          "execution_count": 28
        }
      ]
    },
    {
      "cell_type": "code",
      "source": [
        "nums = [-1,-2]\n",
        "\n",
        "prefix_sum =  []\n",
        "\n",
        "cumul = 0\n",
        "prefix_sum.append(cumul)\n",
        "for i in nums:\n",
        "  cumul += i \n",
        "  prefix_sum.append(cumul)"
      ],
      "metadata": {
        "id": "KP6bjIi4QJb0"
      },
      "execution_count": null,
      "outputs": []
    },
    {
      "cell_type": "code",
      "source": [
        "prefix_sum"
      ],
      "metadata": {
        "colab": {
          "base_uri": "https://localhost:8080/"
        },
        "id": "dKbJ5KEzQJdz",
        "outputId": "2977b16c-2108-4aa2-b877-d6cba670ee0a"
      },
      "execution_count": null,
      "outputs": [
        {
          "output_type": "execute_result",
          "data": {
            "text/plain": [
              "[0, -1, -3]"
            ]
          },
          "metadata": {},
          "execution_count": 43
        }
      ]
    },
    {
      "cell_type": "code",
      "source": [
        "type(nums)"
      ],
      "metadata": {
        "colab": {
          "base_uri": "https://localhost:8080/"
        },
        "id": "f6qpJRTdRmxJ",
        "outputId": "961fe85e-e5ab-45b4-8d17-b4f6a5811184"
      },
      "execution_count": null,
      "outputs": [
        {
          "output_type": "execute_result",
          "data": {
            "text/plain": [
              "list"
            ]
          },
          "metadata": {},
          "execution_count": 44
        }
      ]
    },
    {
      "cell_type": "code",
      "source": [
        "type(nums[0])"
      ],
      "metadata": {
        "colab": {
          "base_uri": "https://localhost:8080/"
        },
        "id": "aoyRpkrZRpHm",
        "outputId": "ed3913b7-de8b-4d2f-9897-9a065797d83e"
      },
      "execution_count": null,
      "outputs": [
        {
          "output_type": "execute_result",
          "data": {
            "text/plain": [
              "int"
            ]
          },
          "metadata": {},
          "execution_count": 46
        }
      ]
    },
    {
      "cell_type": "code",
      "source": [
        "max_num = max(nums) # max값을 어떻게 설정할지 중요 \n",
        "\n",
        "for i in range(len(prefix_sum)):\n",
        "  for j in range(i+1, len(prefix_sum)-1):\n",
        "    temp = prefix_sum[j+1] - prefix_sum[i]\n",
        "    print(\"---------\")\n",
        "    print(f\"{j+1} - {i} : {prefix_sum[j+1]} - {prefix_sum[i]}\")\n",
        "    print(f\"{i},{j} : temp\")\n",
        "    print(\"---------\")\n",
        "    if temp > max_num :\n",
        "      max_num = temp\n",
        "print(max_num)"
      ],
      "metadata": {
        "colab": {
          "base_uri": "https://localhost:8080/"
        },
        "id": "Xt8OnWkBQJfY",
        "outputId": "9ec2e94e-00f7-47d5-bffe-cb706e2f9c06"
      },
      "execution_count": null,
      "outputs": [
        {
          "output_type": "stream",
          "name": "stdout",
          "text": [
            "---------\n",
            "2 - 0 : -3 - 0\n",
            "0,1 : temp\n",
            "---------\n",
            "-1\n"
          ]
        }
      ]
    },
    {
      "cell_type": "code",
      "source": [
        "def maxSubArray(nums):\n",
        "  prefix_sum =  []\n",
        "\n",
        "  cumul = 0\n",
        "  prefix_sum.append(cumul)\n",
        "  for i in nums:\n",
        "    cumul += i \n",
        "    prefix_sum.append(cumul)\n",
        "\n",
        "  # 예약어를 변수명으로 사용하면, int' object is not callable 에러 발생\n",
        "  max_num =max(nums) # max값을 어떻게 설정할지 중요 \n",
        "\n",
        "  for i in range(len(nums)):\n",
        "    for j in range(i+1, len(nums)):\n",
        "      temp = prefix_sum[j+1] - prefix_sum[i]\n",
        "      if temp > max_num :\n",
        "        max_num = temp\n",
        "  return max_num"
      ],
      "metadata": {
        "id": "IAersGRKTl4Q"
      },
      "execution_count": null,
      "outputs": []
    },
    {
      "cell_type": "markdown",
      "source": [
        "![image.png](data:image/png;base64,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)"
      ],
      "metadata": {
        "id": "GXI2GDMSToeE"
      }
    },
    {
      "cell_type": "code",
      "source": [
        "def maxSubArray(nums):\n",
        "  prefix_sum =  []\n",
        "\n",
        "  cumul = 0\n",
        "  prefix_sum.append(cumul)\n",
        "  for i in nums:\n",
        "    cumul += i \n",
        "    prefix_sum.append(cumul)\n",
        "\n",
        "  # 예약어를 변수명으로 사용하면, int' object is not callable 에러 발생\n",
        "  max_num =max(nums) # max값을 어떻게 설정할지 중요 \n",
        "\n",
        "  for i in range(len(nums)):\n",
        "    for j in range(i+1, len(nums)):\n",
        "      temp = prefix_sum[j+1] - prefix_sum[i]\n",
        "      if temp > max_num :\n",
        "        max_num = temp\n",
        "  return max_num"
      ],
      "metadata": {
        "id": "F8xI5_yaUYZ7"
      },
      "execution_count": null,
      "outputs": []
    },
    {
      "cell_type": "code",
      "source": [
        "def maxSubArray(nums):\n",
        "  prefix_sum =  []\n",
        "\n",
        "  cumul = 0\n",
        "  prefix_sum.append(cumul)\n",
        "  for i in nums:\n",
        "    cumul += i \n",
        "    prefix_sum.append(cumul)\n",
        "\n",
        "  # 예약어를 변수명으로 사용하면, int' object is not callable 에러 발생\n",
        "  max_num =max(nums) # max값을 어떻게 설정할지 중요 \n",
        "\n",
        "  for i in range(len(nums)):\n",
        "    for j in range(i+1, len(nums)):\n",
        "      temp = prefix_sum[j+1] - prefix_sum[i]\n",
        "      if temp > max_num :\n",
        "        max_num = temp\n",
        "  return max_num"
      ],
      "metadata": {
        "id": "0kJEjiVLVOgK"
      },
      "execution_count": null,
      "outputs": []
    },
    {
      "cell_type": "markdown",
      "source": [
        "## **다른 풀이**"
      ],
      "metadata": {
        "id": "lKgBpLzslDwn"
      }
    },
    {
      "cell_type": "code",
      "source": [
        "# 완전탐색\n",
        "\n",
        "# input\n",
        "nums = [5,4,-1,7,8]\n",
        "# nums = [-2,1,-3,4,-1,2,1,-5,4]"
      ],
      "metadata": {
        "id": "iuw5ATM0lHf-"
      },
      "execution_count": null,
      "outputs": []
    },
    {
      "cell_type": "code",
      "source": [
        "n = len(nums)"
      ],
      "metadata": {
        "id": "YuUUV88elHiO"
      },
      "execution_count": null,
      "outputs": []
    },
    {
      "cell_type": "code",
      "source": [
        "'''\n",
        "list \n",
        "'''\n",
        "li_total = []\n",
        "for k in range(n):\n",
        "    for i in range(n):\n",
        "        li=[]\n",
        "        for j in range(i, i+k+1):\n",
        "            if i+k+1 > len(nums):\n",
        "                break\n",
        "            li.append(nums[j])\n",
        "        li_total.append(li)\n",
        "        \n",
        "print(li_total)"
      ],
      "metadata": {
        "id": "5VeG63jXlHkJ"
      },
      "execution_count": null,
      "outputs": []
    },
    {
      "cell_type": "code",
      "source": [
        "'''\n",
        "sum\n",
        "'''\n",
        "li_total = []\n",
        "for k in range(n):\n",
        "    for i in range(n):\n",
        "        sum = 0\n",
        "        for j in range(i, i+k+1):\n",
        "            if i+k+1 > len(nums):\n",
        "                break\n",
        "            sum += nums[j]\n",
        "        li_total.append(sum)\n",
        "        \n",
        "print(li_total)\n"
      ],
      "metadata": {
        "id": "aR0zKAJAlHmz"
      },
      "execution_count": null,
      "outputs": []
    },
    {
      "cell_type": "code",
      "source": [
        "li_total.sort(reverse=True)\n",
        "print(li_total)\n",
        "print(li_total[0])"
      ],
      "metadata": {
        "id": "s-dOT2BalHou"
      },
      "execution_count": null,
      "outputs": []
    },
    {
      "cell_type": "code",
      "source": [
        "# 구간 판별 \n",
        "\n",
        "# maxsum: 가장 큰 sum 값\n",
        "# thissum: 현재까지 구간의 sum 값\n",
        "# num들을 더해가면서 음수가 나오면 그 구간을 버리고 새로운 구간을 채택\n",
        "\n",
        "nums = [1,-3,4,-1,2,1,-5]\n",
        "# nums = [-2,1,-3,4,-1,2,1,-5,4]\n",
        "# nums = [-1,-2]\n",
        "# nums = [-2,-1]\n",
        "# nums = [-1]\n",
        "\n",
        "maxsum = 0\n",
        "thissum = 0\n",
        "\n",
        "start = -1\n",
        "end = -1\n",
        "\n",
        "i = 0\n",
        "for j in range(len(nums)):\n",
        "    thissum += nums[j]\n",
        "    if thissum > maxsum:\n",
        "        maxsum = thissum\n",
        "        s = i\n",
        "        e = j\n",
        "    elif thissum < 0:\n",
        "        i = j+1\n",
        "        thissum = 0\n",
        "\n",
        "if max(nums) < 0: \n",
        "    print(f'index: {nums.index(max(nums))} maxsum: {max(nums)}')\n",
        "else:\n",
        "    print(f'start: {s} end: {e} maxsum: {maxsum}')"
      ],
      "metadata": {
        "id": "eDnIx4JmlHqW"
      },
      "execution_count": null,
      "outputs": []
    },
    {
      "cell_type": "code",
      "source": [
        "# 구간 판별 \n",
        "\n",
        "# maxsum: 가장 큰 sum 값\n",
        "# thissum: 현재까지 구간의 sum 값\n",
        "# nextsum: 지금까지 구한 sum과 다음 num을 합친값\n",
        "\n",
        "# 구간을 늘릴건지 버릴건지 판별\n",
        "# maxsum update"
      ],
      "metadata": {
        "id": "KWowKFD-lHwR"
      },
      "execution_count": null,
      "outputs": []
    },
    {
      "cell_type": "code",
      "source": [
        "nums = [1,-3,4,-1,2,1,-5]\n",
        "# nums = [-2,1,-3,4,-1,2,1,-5,4]\n",
        "# nums = [-1,-2]\n",
        "# nums = [-2,-1]\n",
        "# nums = [-1]\n",
        "\n",
        "maxsum = nums[0]\n",
        "thissum = nums[0]\n",
        "\n",
        "for j in range(1, len(nums)):\n",
        "    nextsum = thissum + nums[j]\n",
        "    # print(f'전 -> num: {nums[j]} nextsum: {nextsum} thissum: {thissum} maxsum: {maxsum}')\n",
        "    if nums[j] < nextsum:\n",
        "        thissum = nextsum\n",
        "    else: \n",
        "        thissum = nums[j]\n",
        "\n",
        "    if maxsum < thissum:\n",
        "        maxsum = thissum\n",
        "    # print(f'후 -> num: {nums[j]} nextsum: {nextsum} thissum: {thissum} maxsum: {maxsum}\\n')\n",
        "\n",
        "print(f'maxsum:{maxsum}')"
      ],
      "metadata": {
        "id": "JOx9vQlglHyp"
      },
      "execution_count": null,
      "outputs": []
    },
    {
      "cell_type": "code",
      "source": [
        "# kadane's algorithm\n",
        "\n",
        "# dynamic programming: 반복되는 수를 저장해놨다가 재사용하는 기법\n",
        "# 원소들을 돌면서 원소들로 시작하는 새로운 구간 탐지\n",
        "\n",
        "# nums = [5,4,-1,7,8]\n",
        "# nums = [-2,1,-3,4,-1,2,1,-5,4]\n",
        "# nums = [-1,-2]\n",
        "# nums = [-2,-1]\n",
        "# nums = [-1]\n",
        "\n",
        "for i in range(1, len(nums)):\n",
        "    if nums[i-1] > 0:\n",
        "        nums[i] += nums[i-1]\n",
        "    # print(nums)\n",
        "\n",
        "print(f'maxsum:{max(nums)}')"
      ],
      "metadata": {
        "id": "u63vQsL6lH0L"
      },
      "execution_count": null,
      "outputs": []
    }
  ]
}