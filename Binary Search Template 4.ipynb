{
 "cells": [
  {
   "cell_type": "markdown",
   "id": "96e39522",
   "metadata": {},
   "source": [
    "Template "
   ]
  },
  {
   "cell_type": "code",
   "execution_count": 1,
   "id": "4da44604",
   "metadata": {},
   "outputs": [],
   "source": [
    "def binary(array):\n",
    "    def condition(mid):\n",
    "        pass\n",
    "    left, right = 0, len(array)\n",
    "    while left < right :\n",
    "        mid = left + (right - left)//2\n",
    "        if condition(mid):\n",
    "            mid = right \n",
    "        else: \n",
    "            mid = left + 1\n",
    "    return left "
   ]
  },
  {
   "cell_type": "markdown",
   "id": "592afcd1",
   "metadata": {},
   "source": [
    "## 예시 1"
   ]
  },
  {
   "cell_type": "code",
   "execution_count": 5,
   "id": "b5be29e7",
   "metadata": {},
   "outputs": [],
   "source": [
    "# 풀이 시간 : 12분\n",
    "class Solution(object):\n",
    "    def minEatingSpeed(self, piles, h):\n",
    "        \"\"\"\n",
    "        :type piles: List[int]\n",
    "        :type h: int\n",
    "        :rtype: int\n",
    "        \"\"\"\n",
    "        def feasible(mid):\n",
    "            cnt = 0\n",
    "            for val in piles:\n",
    "                if val > mid:\n",
    "                    if val % mid == 0:\n",
    "                        cnt += val//mid\n",
    "                        if cnt > h :\n",
    "                            return False\n",
    "                    else:\n",
    "                        cnt += (val//mid + 1)\n",
    "                        if cnt > h :\n",
    "                            return False\n",
    "                elif val == mid:\n",
    "                    cnt += 1\n",
    "                    if cnt > h :\n",
    "                        return False\n",
    "                else:\n",
    "                    cnt +=1\n",
    "                    if cnt > h:\n",
    "                        return False\n",
    "            return True \n",
    "                    \n",
    "        left , right = 1, max(piles)\n",
    "        while left < right :\n",
    "            mid = left + (right - left)//2\n",
    "            if feasible(mid):\n",
    "                right = mid \n",
    "            else:\n",
    "                left = mid + 1\n",
    "        return left "
   ]
  },
  {
   "cell_type": "code",
   "execution_count": null,
   "id": "e4900184",
   "metadata": {},
   "outputs": [],
   "source": []
  }
 ],
 "metadata": {
  "kernelspec": {
   "display_name": "Python 3 (ipykernel)",
   "language": "python",
   "name": "python3"
  },
  "language_info": {
   "codemirror_mode": {
    "name": "ipython",
    "version": 3
   },
   "file_extension": ".py",
   "mimetype": "text/x-python",
   "name": "python",
   "nbconvert_exporter": "python",
   "pygments_lexer": "ipython3",
   "version": "3.9.7"
  }
 },
 "nbformat": 4,
 "nbformat_minor": 5
}
