{
 "cells": [
  {
   "cell_type": "code",
   "execution_count": null,
   "id": "82e48f8d",
   "metadata": {},
   "outputs": [],
   "source": [
    "# 문제 풀이 시간 : 48분 \n",
    "\n",
    "# 위치들과 이동하는 거리를 계산하는 함수도 필요할 듯 \n",
    "# 맨해튼 거리로 계산하면 될듯 \n",
    "def calc(position, arrive, hand):\n",
    "    left_dis = abs(position[0][0]- arrive[0]) + abs(position[0][1]-arrive[1])\n",
    "    right_dis = abs(position[1][0]- arrive[0]) + abs(position[1][1]-arrive[1])\n",
    "    if left_dis < right_dis : # 왼손 엄지가 더 가깝다면\n",
    "        position[0] = [arrive[0], arrive[1]]\n",
    "        return \"L\"\n",
    "    elif right_dis < left_dis : # 오른손 엄지가 더 가깝다면 \n",
    "        position[1] = [arrive[0], arrive[1]]\n",
    "        return \"R\"\n",
    "    else:\n",
    "        if hand == 'right':\n",
    "            position[1] = [arrive[0], arrive[1]]\n",
    "            return \"R\"\n",
    "        else:\n",
    "            position[0] = [arrive[0], arrive[1]]\n",
    "            return \"L\"\n",
    "\n",
    "\n",
    "def solution(numbers, hand):\n",
    "    answer = ''\n",
    "    left  = [1,4,7]\n",
    "    right  = [3,6,9]\n",
    "    # 엄지 손가락들의 위치를 저장할 자료형이 필요 \n",
    "    position = [[1,4], [3,4]]\n",
    "    my_dict = {0:(2,4),1:(1,1) ,2:(2,1),3:(3,1),4:(1,2),5:(2,2),6:(3,2),7:(1,3),8:(2,3),9:(3,3)}\n",
    "\n",
    "    counter = 0\n",
    "    for num in numbers:\n",
    "        if num in left:\n",
    "            position[0] = my_dict[num] \n",
    "            answer += \"L\"\n",
    "        elif num in right:\n",
    "            position[1] = my_dict[num]\n",
    "            answer += \"R\"\n",
    "        else:\n",
    "            answer += calc(position,my_dict[num], hand)\n",
    "        counter += 1\n",
    "    \n",
    "    return answer"
   ]
  },
  {
   "cell_type": "code",
   "execution_count": 62,
   "id": "659eb7ff",
   "metadata": {},
   "outputs": [],
   "source": [
    "answer = ''\n",
    "numbers = [1, 3, 4, 5, 8, 2, 1, 4, 5, 9, 5]\n",
    "hand = \"right\""
   ]
  },
  {
   "cell_type": "code",
   "execution_count": 63,
   "id": "8b96e3da",
   "metadata": {},
   "outputs": [],
   "source": [
    "left  = [1,4,7]\n",
    "right  = [3,6,9]"
   ]
  },
  {
   "cell_type": "code",
   "execution_count": 64,
   "id": "501d6588",
   "metadata": {},
   "outputs": [],
   "source": [
    "# 엄지 손가락들의 위치를 저장할 자료형이 필요 \n",
    "position = [[1,4], [3,4]]"
   ]
  },
  {
   "cell_type": "code",
   "execution_count": 65,
   "id": "ae6224ed",
   "metadata": {},
   "outputs": [],
   "source": [
    "my_dict = {0:(2,4),1:(1,1) ,2:(1,2),3:(1,3),4:(2,1),5:(2,2),6:(2,3),7:(3,1),8:(3,2),9:(3,3)}"
   ]
  },
  {
   "cell_type": "code",
   "execution_count": 66,
   "id": "a0a92222",
   "metadata": {},
   "outputs": [],
   "source": [
    "# 위치들과 이동하는 거리를 계산하는 함수도 필요할 듯 \n",
    "# 맨해튼 거리로 계산하면 될듯 \n",
    "def calc(position, arrive, hand):\n",
    "    left_dis = abs(position[0][0]- arrive[0]) + abs(position[0][1]-arrive[1])\n",
    "    right_dis = abs(position[1][0]- arrive[0]) + abs(position[1][1]-arrive[1])\n",
    "    if left_dis < right_dis : # 왼손 엄지가 더 가깝다면\n",
    "        position[0] = [arrive[0], arrive[1]]\n",
    "        return \"L\"\n",
    "    elif right_dis < left_dis : # 오른손 엄지가 더 가깝다면 \n",
    "        position[1] = [arrive[0], arrive[1]]\n",
    "        return \"R\"\n",
    "    else:\n",
    "        if hand == 'right':\n",
    "            position[1] = [arrive[0], arrive[1]]\n",
    "            return \"R\"\n",
    "        else:\n",
    "            position[0] = [arrive[0], arrive[1]]\n",
    "            return \"L\""
   ]
  },
  {
   "cell_type": "code",
   "execution_count": 67,
   "id": "41b90916",
   "metadata": {
    "scrolled": true
   },
   "outputs": [
    {
     "name": "stdout",
     "output_type": "stream",
     "text": [
      "0번째 위치는[[1, 4], [3, 4]]\n",
      "다음에 가야할 위치는 (1, 1)\n",
      "1번째 위치는[(1, 1), [3, 4]]\n",
      "다음에 가야할 위치는 (1, 3)\n",
      "2번째 위치는[(1, 1), (1, 3)]\n",
      "다음에 가야할 위치는 (2, 1)\n",
      "3번째 위치는[(2, 1), (1, 3)]\n",
      "다음에 가야할 위치는 (2, 2)\n",
      "4번째 위치는[[2, 2], (1, 3)]\n",
      "다음에 가야할 위치는 (3, 2)\n",
      "5번째 위치는[[3, 2], (1, 3)]\n",
      "다음에 가야할 위치는 (1, 2)\n",
      "6번째 위치는[[3, 2], [1, 2]]\n",
      "다음에 가야할 위치는 (1, 1)\n",
      "7번째 위치는[(1, 1), [1, 2]]\n",
      "다음에 가야할 위치는 (2, 1)\n",
      "8번째 위치는[(2, 1), [1, 2]]\n",
      "다음에 가야할 위치는 (2, 2)\n",
      "9번째 위치는[(2, 1), [2, 2]]\n",
      "다음에 가야할 위치는 (3, 3)\n",
      "10번째 위치는[(2, 1), (3, 3)]\n",
      "다음에 가야할 위치는 (2, 2)\n"
     ]
    }
   ],
   "source": [
    "counter = 0\n",
    "for num in numbers:\n",
    "    print(f\"{counter}번째 위치는{position}\")\n",
    "    print(f\"다음에 가야할 위치는 {my_dict[num]}\")\n",
    "    if num in left:\n",
    "        position[0] = my_dict[num] \n",
    "        answer += \"L\"\n",
    "    elif num in right:\n",
    "        position[1] = my_dict[num]\n",
    "        answer += \"R\"\n",
    "    else:\n",
    "        answer += calc(position,my_dict[num], hand)\n",
    "    counter += 1"
   ]
  },
  {
   "cell_type": "code",
   "execution_count": 68,
   "id": "6abf3f83",
   "metadata": {},
   "outputs": [
    {
     "data": {
      "text/plain": [
       "(2, 2)"
      ]
     },
     "execution_count": 68,
     "metadata": {},
     "output_type": "execute_result"
    }
   ],
   "source": [
    "my_dict[5]"
   ]
  },
  {
   "cell_type": "code",
   "execution_count": 69,
   "id": "97f16dd5",
   "metadata": {
    "scrolled": true
   },
   "outputs": [
    {
     "data": {
      "text/plain": [
       "'LRLLLRLLRRL'"
      ]
     },
     "execution_count": 69,
     "metadata": {},
     "output_type": "execute_result"
    }
   ],
   "source": [
    "answer"
   ]
  },
  {
   "cell_type": "markdown",
   "id": "f5e2d1c5",
   "metadata": {},
   "source": [
    "#### 1차 디버깅  (오타 발견)"
   ]
  },
  {
   "cell_type": "code",
   "execution_count": 57,
   "id": "66091569",
   "metadata": {},
   "outputs": [
    {
     "data": {
      "text/plain": [
       "'L'"
      ]
     },
     "execution_count": 57,
     "metadata": {},
     "output_type": "execute_result"
    }
   ],
   "source": [
    "calc(position= [(2, 1), [1, 2]] , arrive =(2, 2), hand = 'right')"
   ]
  },
  {
   "cell_type": "code",
   "execution_count": 58,
   "id": "7abcbfa6",
   "metadata": {},
   "outputs": [],
   "source": [
    "left_dis = abs(2- 2) + abs(1-2)\n",
    "right_dis = abs(1- 2) + abs(2-2)"
   ]
  },
  {
   "cell_type": "code",
   "execution_count": 59,
   "id": "32de1227",
   "metadata": {},
   "outputs": [
    {
     "data": {
      "text/plain": [
       "1"
      ]
     },
     "execution_count": 59,
     "metadata": {},
     "output_type": "execute_result"
    }
   ],
   "source": [
    "left_dis "
   ]
  },
  {
   "cell_type": "code",
   "execution_count": 60,
   "id": "c1cf92eb",
   "metadata": {},
   "outputs": [
    {
     "data": {
      "text/plain": [
       "1"
      ]
     },
     "execution_count": 60,
     "metadata": {},
     "output_type": "execute_result"
    }
   ],
   "source": [
    "right_dis"
   ]
  },
  {
   "cell_type": "code",
   "execution_count": null,
   "id": "c0393547",
   "metadata": {},
   "outputs": [],
   "source": [
    "left_dis = abs(2- 2) + abs(1-2)\n",
    "right_dis = abs(1- 2) + abs(2-2)\n",
    "if left_dis < right_dis : # 왼손 엄지가 더 가깝다면\n",
    "    position[0] = [arrive[0], arrive[1]]\n",
    "    return \"L\"\n",
    "elif right_dis < left_dis : # 오른손 엄지가 더 가깝다면 \n",
    "    position[1] = [arrive[0], arrive[1]]\n",
    "    return \"R\"\n",
    "else:\n",
    "    if hand == 'right':\n",
    "        position[1] = [arrive[0], arrive[1]]\n",
    "        return \"R\"\n",
    "    else:\n",
    "        position[0] = [arrive[0], arrive[1]]\n",
    "        return \"L\""
   ]
  },
  {
   "cell_type": "markdown",
   "id": "df36a95e",
   "metadata": {},
   "source": [
    "#### 2차 디버깅 (my_dict 오타 발견)\n",
    "좌표를 직관적이지 않게 숫자 1을 (1,1)에 대응해서 짜서 오타가 많고 수정이 어려웠음 \n",
    "\n",
    "차라리  {'*': (1,1), 0:(2,1), '#':(3,1), .....} 처럼 직관적으로 작성하였으면 \n",
    "오타를 훨씬 일찍 발견하고 디버깅이 용이했을 듯 "
   ]
  },
  {
   "cell_type": "code",
   "execution_count": null,
   "id": "ebc2bce4",
   "metadata": {},
   "outputs": [],
   "source": [
    "# 위치들과 이동하는 거리를 계산하는 함수도 필요할 듯 \n",
    "# 맨해튼 거리로 계산하면 될듯 \n",
    "def calc(position, arrive, hand):\n",
    "    left_dis = abs(position[0][0]- arrive[0]) + abs(position[0][1]-arrive[1])\n",
    "    right_dis = abs(position[1][0]- arrive[0]) + abs(position[1][1]-arrive[1])\n",
    "    if left_dis < right_dis : # 왼손 엄지가 더 가깝다면\n",
    "        position[0] = [arrive[0], arrive[1]]\n",
    "        return \"L\"\n",
    "    elif right_dis < left_dis : # 오른손 엄지가 더 가깝다면 \n",
    "        position[1] = [arrive[0], arrive[1]]\n",
    "        return \"R\"\n",
    "    else:\n",
    "        if hand == 'right':\n",
    "            position[1] = [arrive[0], arrive[1]]\n",
    "            return \"R\"\n",
    "        else:\n",
    "            position[0] = [arrive[0], arrive[1]]\n",
    "            return \"L\"\n",
    "\n",
    "\n",
    "def solution(numbers, hand):\n",
    "    answer = ''\n",
    "    left  = [1,4,7]\n",
    "    right  = [3,6,9]\n",
    "    # 엄지 손가락들의 위치를 저장할 자료형이 필요 \n",
    "    position = [[1,4], [3,4]]\n",
    "    my_dict = {0:(2,4),1:(1,1) ,2:(1,2),3:(1,3),4:(2,1),5:(2,2),6:(2,3),7:(3,1),8:(3,2),9:(3,3)}\n",
    "\n",
    "    counter = 0\n",
    "    for num in numbers:\n",
    "        if num in left:\n",
    "            position[0] = my_dict[num] \n",
    "            answer += \"L\"\n",
    "        elif num in right:\n",
    "            position[1] = my_dict[num]\n",
    "            answer += \"R\"\n",
    "        else:\n",
    "            answer += calc(position,my_dict[num], hand)\n",
    "        counter += 1\n",
    "    \n",
    "    return answer"
   ]
  },
  {
   "cell_type": "code",
   "execution_count": null,
   "id": "0fe97189",
   "metadata": {},
   "outputs": [],
   "source": [
    "# 입력값 〉\t[7, 0, 8, 2, 8, 3, 1, 5, 7, 6, 2], \"left\"\n",
    "# 기댓값 〉\t\"LRLLRRLLLRR\"\n",
    "# 실행 결과 〉\t실행한 결괏값 \"LRLLLRLLLRR\"이 기댓값 \"LRLLRRLLLRR\"과 다릅니다.\n",
    "\n",
    "\n",
    "# 입력값 〉\t[1, 2, 3, 4, 5, 6, 7, 8, 9, 0], \"right\"\n",
    "# 기댓값 〉\t\"LLRLLRLLRL\"\n",
    "# 실행 결과 〉\t실행한 결괏값 \"LLRLLRLLRR\"이 기댓값 \"LLRLLRLLRL\"과 다릅니다."
   ]
  },
  {
   "cell_type": "code",
   "execution_count": 75,
   "id": "8a233380",
   "metadata": {},
   "outputs": [],
   "source": [
    "answer = ''\n",
    "numbers = [7, 0, 8, 2, 8, 3, 1, 5, 7, 6, 2]\n",
    "hand = \"left\"\n",
    "\n",
    "left  = [1,4,7]\n",
    "right  = [3,6,9]\n",
    "\n",
    "# 엄지 손가락들의 위치를 저장할 자료형이 필요 \n",
    "position = [[1,4], [3,4]]\n",
    "\n",
    "my_dict = {0:(2,4),1:(1,1) ,2:(2,1),3:(3,1),4:(1,2),5:(2,2),6:(3,2),7:(1,3),8:(2,3),9:(3,3)}\n",
    "\n",
    "# 위치들과 이동하는 거리를 계산하는 함수도 필요할 듯 \n",
    "# 맨해튼 거리로 계산하면 될듯 \n",
    "def calc(position, arrive, hand):\n",
    "    left_dis = abs(position[0][0]- arrive[0]) + abs(position[0][1]-arrive[1])\n",
    "    right_dis = abs(position[1][0]- arrive[0]) + abs(position[1][1]-arrive[1])\n",
    "    if left_dis < right_dis : # 왼손 엄지가 더 가깝다면\n",
    "        position[0] = [arrive[0], arrive[1]]\n",
    "        return \"L\"\n",
    "    elif right_dis < left_dis : # 오른손 엄지가 더 가깝다면 \n",
    "        position[1] = [arrive[0], arrive[1]]\n",
    "        return \"R\"\n",
    "    else:\n",
    "        if hand == 'right':\n",
    "            position[1] = [arrive[0], arrive[1]]\n",
    "            return \"R\"\n",
    "        else:\n",
    "            position[0] = [arrive[0], arrive[1]]\n",
    "            return \"L\""
   ]
  },
  {
   "cell_type": "code",
   "execution_count": 76,
   "id": "eb328f33",
   "metadata": {},
   "outputs": [
    {
     "name": "stdout",
     "output_type": "stream",
     "text": [
      "0번째 위치는[[1, 4], [3, 4]]\n",
      "다음에 가야할 위치는 (1, 3)\n",
      "1번째 위치는[(1, 3), [3, 4]]\n",
      "다음에 가야할 위치는 (2, 4)\n",
      "2번째 위치는[(1, 3), [2, 4]]\n",
      "다음에 가야할 위치는 (2, 3)\n",
      "3번째 위치는[[2, 3], [2, 4]]\n",
      "다음에 가야할 위치는 (2, 1)\n",
      "4번째 위치는[[2, 1], [2, 4]]\n",
      "다음에 가야할 위치는 (2, 3)\n",
      "5번째 위치는[[2, 1], [2, 3]]\n",
      "다음에 가야할 위치는 (3, 1)\n",
      "6번째 위치는[[2, 1], (3, 1)]\n",
      "다음에 가야할 위치는 (1, 1)\n",
      "7번째 위치는[(1, 1), (3, 1)]\n",
      "다음에 가야할 위치는 (2, 2)\n",
      "8번째 위치는[[2, 2], (3, 1)]\n",
      "다음에 가야할 위치는 (1, 3)\n",
      "9번째 위치는[(1, 3), (3, 1)]\n",
      "다음에 가야할 위치는 (3, 2)\n",
      "10번째 위치는[(1, 3), (3, 2)]\n",
      "다음에 가야할 위치는 (2, 1)\n"
     ]
    }
   ],
   "source": [
    "counter = 0\n",
    "for num in numbers:\n",
    "    print(f\"{counter}번째 위치는{position}\")\n",
    "    print(f\"다음에 가야할 위치는 {my_dict[num]}\")\n",
    "    if num in left:\n",
    "        position[0] = my_dict[num] \n",
    "        answer += \"L\"\n",
    "    elif num in right:\n",
    "        position[1] = my_dict[num]\n",
    "        answer += \"R\"\n",
    "    else:\n",
    "        answer += calc(position,my_dict[num], hand)\n",
    "    counter += 1"
   ]
  },
  {
   "cell_type": "code",
   "execution_count": 77,
   "id": "94b49b2f",
   "metadata": {},
   "outputs": [
    {
     "data": {
      "text/plain": [
       "'LRLLRRLLLRR'"
      ]
     },
     "execution_count": 77,
     "metadata": {},
     "output_type": "execute_result"
    }
   ],
   "source": [
    "answer"
   ]
  },
  {
   "cell_type": "code",
   "execution_count": 78,
   "id": "41e9fc61",
   "metadata": {},
   "outputs": [
    {
     "data": {
      "text/plain": [
       "'LRLLRRLLLRR'"
      ]
     },
     "execution_count": 78,
     "metadata": {},
     "output_type": "execute_result"
    }
   ],
   "source": [
    "\"LRLLRRLLLRR\""
   ]
  },
  {
   "cell_type": "markdown",
   "id": "641b1f4c",
   "metadata": {},
   "source": [
    "#### 다른 사람의 풀이"
   ]
  },
  {
   "cell_type": "code",
   "execution_count": 79,
   "id": "54a83bbc",
   "metadata": {},
   "outputs": [],
   "source": [
    "# Dictionary를 쓴 나와는 달리, List를 쓴 것이 가장 큰 차이점 \n",
    "\n",
    "def solution(numbers, hand):\n",
    "    answer = ''\n",
    "    location = [[3, 1], [0, 0], [0, 1], [0, 2], [1, 0], [1, 1], [1, 2], [2, 0], [2, 1], [2, 2]]\n",
    "    left, right = [3, 0], [3, 2]\n",
    "    for i in numbers:\n",
    "        if i % 3 == 1:\n",
    "            answer += 'L'\n",
    "            left = location[i]\n",
    "        elif i % 3 == 0 and i != 0:\n",
    "            answer += 'R'\n",
    "            right = location[i]\n",
    "        else:\n",
    "            l = abs(location[i][0] - left[0]) + abs(location[i][1] - left[1])\n",
    "            r = abs(location[i][0] - right[0]) + abs(location[i][1] - right[1])\n",
    "            if l < r:\n",
    "                answer += 'L'\n",
    "                left = location[i]\n",
    "            elif l > r:\n",
    "                answer += 'R'\n",
    "                right = location[i]\n",
    "            else:\n",
    "                answer += hand[0].upper()\n",
    "                if hand == 'right':\n",
    "                    right = location[i]\n",
    "                else:\n",
    "                    left = location[i]                \n",
    "\n",
    "    return answer"
   ]
  },
  {
   "cell_type": "code",
   "execution_count": null,
   "id": "fcd0f5c1",
   "metadata": {},
   "outputs": [],
   "source": []
  },
  {
   "cell_type": "code",
   "execution_count": null,
   "id": "3481b08b",
   "metadata": {},
   "outputs": [],
   "source": []
  },
  {
   "cell_type": "code",
   "execution_count": null,
   "id": "d3aa6bd6",
   "metadata": {},
   "outputs": [],
   "source": []
  },
  {
   "cell_type": "code",
   "execution_count": null,
   "id": "a8d6ad60",
   "metadata": {},
   "outputs": [],
   "source": []
  },
  {
   "cell_type": "code",
   "execution_count": null,
   "id": "aef69e04",
   "metadata": {},
   "outputs": [],
   "source": []
  },
  {
   "cell_type": "code",
   "execution_count": null,
   "id": "57bb5b7a",
   "metadata": {},
   "outputs": [],
   "source": []
  }
 ],
 "metadata": {
  "kernelspec": {
   "display_name": "Python 3 (ipykernel)",
   "language": "python",
   "name": "python3"
  },
  "language_info": {
   "codemirror_mode": {
    "name": "ipython",
    "version": 3
   },
   "file_extension": ".py",
   "mimetype": "text/x-python",
   "name": "python",
   "nbconvert_exporter": "python",
   "pygments_lexer": "ipython3",
   "version": "3.9.7"
  }
 },
 "nbformat": 4,
 "nbformat_minor": 5
}
