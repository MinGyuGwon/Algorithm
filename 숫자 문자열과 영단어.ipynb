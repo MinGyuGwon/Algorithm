{
 "cells": [
  {
   "cell_type": "code",
   "execution_count": 21,
   "id": "01e67652",
   "metadata": {},
   "outputs": [],
   "source": [
    "# 문제 풀이 시간 : 10분\n",
    "def solution(s):\n",
    "    answer = 0\n",
    "    alpha_num = {\"zero\":0,\"one\":1,\"two\":2,\"three\":3,\"four\":4,\"five\":5,\"six\":6,\"seven\":7,\"eight\":8,\"nine\":9}\n",
    "    \n",
    "    for i in alpha_num.keys():\n",
    "        if i in s:\n",
    "            s = s.replace(i, str(alpha_num[i]))\n",
    "    answer = int(s)\n",
    "    return answer "
   ]
  },
  {
   "cell_type": "code",
   "execution_count": 1,
   "id": "dc788427",
   "metadata": {},
   "outputs": [],
   "source": [
    "s = \"one4seveneight\""
   ]
  },
  {
   "cell_type": "code",
   "execution_count": 5,
   "id": "7d2ffc65",
   "metadata": {},
   "outputs": [],
   "source": [
    "alpha_num = {\"zero\":0,\"one\":1,\"two\":2,\"three\":3,\"four\":4,\"five\":5,\"six\":6,\"seven\":7,\"eight\":8,\"nine\":9}"
   ]
  },
  {
   "cell_type": "code",
   "execution_count": 6,
   "id": "352d74cf",
   "metadata": {},
   "outputs": [],
   "source": [
    "import re"
   ]
  },
  {
   "cell_type": "code",
   "execution_count": 7,
   "id": "f42efbd1",
   "metadata": {},
   "outputs": [],
   "source": [
    "#re.sub('[]')"
   ]
  },
  {
   "cell_type": "markdown",
   "id": "4cd91667",
   "metadata": {},
   "source": [
    "연달아 존재하는 문자들은 어떻게 처리할 수 있을까?"
   ]
  },
  {
   "cell_type": "code",
   "execution_count": 8,
   "id": "72252525",
   "metadata": {},
   "outputs": [],
   "source": [
    "# str.replace 사용하자 "
   ]
  },
  {
   "cell_type": "code",
   "execution_count": 9,
   "id": "90005540",
   "metadata": {},
   "outputs": [
    {
     "data": {
      "text/plain": [
       "dict_keys(['zero', 'one', 'two', 'three', 'four', 'five', 'six', 'seven', 'eight', 'nine'])"
      ]
     },
     "execution_count": 9,
     "metadata": {},
     "output_type": "execute_result"
    }
   ],
   "source": [
    "alpha_num.keys()"
   ]
  },
  {
   "cell_type": "code",
   "execution_count": 16,
   "id": "cd77663e",
   "metadata": {},
   "outputs": [],
   "source": [
    "for i in alpha_num.keys():\n",
    "    if i in s:\n",
    "        s = s.replace(i, str(alpha_num[i]))"
   ]
  },
  {
   "cell_type": "code",
   "execution_count": 17,
   "id": "b7e8f605",
   "metadata": {},
   "outputs": [
    {
     "data": {
      "text/plain": [
       "'1478'"
      ]
     },
     "execution_count": 17,
     "metadata": {},
     "output_type": "execute_result"
    }
   ],
   "source": [
    "s"
   ]
  },
  {
   "cell_type": "code",
   "execution_count": null,
   "id": "33591260",
   "metadata": {},
   "outputs": [],
   "source": []
  }
 ],
 "metadata": {
  "kernelspec": {
   "display_name": "Python 3 (ipykernel)",
   "language": "python",
   "name": "python3"
  },
  "language_info": {
   "codemirror_mode": {
    "name": "ipython",
    "version": 3
   },
   "file_extension": ".py",
   "mimetype": "text/x-python",
   "name": "python",
   "nbconvert_exporter": "python",
   "pygments_lexer": "ipython3",
   "version": "3.9.7"
  }
 },
 "nbformat": 4,
 "nbformat_minor": 5
}
