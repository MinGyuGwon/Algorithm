{
 "cells": [
  {
   "cell_type": "code",
   "execution_count": null,
   "id": "6a30158b",
   "metadata": {},
   "outputs": [],
   "source": [
    "# 시간 초과\n",
    "def solution(participant, completion):\n",
    "    answer = ''\n",
    "\n",
    "    for i in completion:\n",
    "        participant.remove(i)\n",
    "        \n",
    "    answer =  participant[0]\n",
    "    return answer"
   ]
  },
  {
   "cell_type": "code",
   "execution_count": 19,
   "id": "5e4984f1",
   "metadata": {},
   "outputs": [],
   "source": [
    "# 시간 초과\n",
    "def solution(participant, completion):\n",
    "    answer = ''\n",
    "\n",
    "    part_dict = dict.fromkeys(participant, 0)\n",
    "    for key in part_dict.keys():\n",
    "        part_dict[key] = participant.count(key)\n",
    "\n",
    "    comp_dict = dict.fromkeys(participant, 0)\n",
    "    for key in comp_dict.keys():\n",
    "        comp_dict[key] = completion.count(key)\n",
    "\n",
    "    for key in part_dict.keys():\n",
    "        if part_dict[key] - comp_dict[key] !=0:\n",
    "            answer = key\n",
    "\n",
    "    return answer"
   ]
  },
  {
   "cell_type": "code",
   "execution_count": 71,
   "id": "2d292d27",
   "metadata": {},
   "outputs": [],
   "source": [
    "# 정답 문제 풀이\n",
    "from collections import Counter \n",
    "\n",
    "def solution(participant, completion):\n",
    "    answer = ''\n",
    "    a= Counter(participant)\n",
    "    a.subtract(Counter(completion))\n",
    "    \n",
    "    for key, value in a.items():\n",
    "        if value != 0:\n",
    "            answer = key\n",
    "    \n",
    "    return answer"
   ]
  },
  {
   "cell_type": "code",
   "execution_count": 48,
   "id": "1cb1da82",
   "metadata": {},
   "outputs": [],
   "source": [
    "answer = ''"
   ]
  },
  {
   "cell_type": "code",
   "execution_count": 49,
   "id": "b357af5b",
   "metadata": {},
   "outputs": [],
   "source": [
    "participant = [\"mislav\", \"stanko\", \"mislav\", \"ana\"]"
   ]
  },
  {
   "cell_type": "code",
   "execution_count": 50,
   "id": "ce7edbb3",
   "metadata": {},
   "outputs": [],
   "source": [
    "completion = [\"stanko\", \"ana\", \"mislav\"]"
   ]
  },
  {
   "cell_type": "code",
   "execution_count": 53,
   "id": "dd241ae2",
   "metadata": {},
   "outputs": [
    {
     "data": {
      "text/plain": [
       "'leo'"
      ]
     },
     "execution_count": 53,
     "metadata": {},
     "output_type": "execute_result"
    }
   ],
   "source": [
    "list(set([\"leo\", \"kiki\", \"eden\"]) - set([\"eden\", \"kiki\"]))[0]"
   ]
  },
  {
   "cell_type": "code",
   "execution_count": 54,
   "id": "0c7cf96c",
   "metadata": {},
   "outputs": [
    {
     "data": {
      "text/plain": [
       "['__class__',\n",
       " '__class_getitem__',\n",
       " '__contains__',\n",
       " '__delattr__',\n",
       " '__delitem__',\n",
       " '__dir__',\n",
       " '__doc__',\n",
       " '__eq__',\n",
       " '__format__',\n",
       " '__ge__',\n",
       " '__getattribute__',\n",
       " '__getitem__',\n",
       " '__gt__',\n",
       " '__hash__',\n",
       " '__init__',\n",
       " '__init_subclass__',\n",
       " '__ior__',\n",
       " '__iter__',\n",
       " '__le__',\n",
       " '__len__',\n",
       " '__lt__',\n",
       " '__ne__',\n",
       " '__new__',\n",
       " '__or__',\n",
       " '__reduce__',\n",
       " '__reduce_ex__',\n",
       " '__repr__',\n",
       " '__reversed__',\n",
       " '__ror__',\n",
       " '__setattr__',\n",
       " '__setitem__',\n",
       " '__sizeof__',\n",
       " '__str__',\n",
       " '__subclasshook__',\n",
       " 'clear',\n",
       " 'copy',\n",
       " 'fromkeys',\n",
       " 'get',\n",
       " 'items',\n",
       " 'keys',\n",
       " 'pop',\n",
       " 'popitem',\n",
       " 'setdefault',\n",
       " 'update',\n",
       " 'values']"
      ]
     },
     "execution_count": 54,
     "metadata": {},
     "output_type": "execute_result"
    }
   ],
   "source": [
    "dir(dict)"
   ]
  },
  {
   "cell_type": "code",
   "execution_count": 56,
   "id": "86c05087",
   "metadata": {},
   "outputs": [],
   "source": [
    "from collections import Counter"
   ]
  },
  {
   "cell_type": "code",
   "execution_count": 57,
   "id": "867fc9be",
   "metadata": {},
   "outputs": [
    {
     "data": {
      "text/plain": [
       "Counter({'mislav': 2, 'stanko': 1, 'ana': 1})"
      ]
     },
     "execution_count": 57,
     "metadata": {},
     "output_type": "execute_result"
    }
   ],
   "source": [
    "Counter(participant)"
   ]
  },
  {
   "cell_type": "code",
   "execution_count": 63,
   "id": "c0997f35",
   "metadata": {},
   "outputs": [],
   "source": [
    "a= Counter(participant)"
   ]
  },
  {
   "cell_type": "code",
   "execution_count": 64,
   "id": "915badb5",
   "metadata": {},
   "outputs": [],
   "source": [
    "a.subtract(Counter(completion))"
   ]
  },
  {
   "cell_type": "code",
   "execution_count": 65,
   "id": "601d9677",
   "metadata": {},
   "outputs": [
    {
     "data": {
      "text/plain": [
       "Counter({'mislav': 1, 'stanko': 0, 'ana': 0})"
      ]
     },
     "execution_count": 65,
     "metadata": {},
     "output_type": "execute_result"
    }
   ],
   "source": [
    "a"
   ]
  },
  {
   "cell_type": "code",
   "execution_count": 67,
   "id": "fa5bec63",
   "metadata": {},
   "outputs": [],
   "source": [
    "for key, value in a.items():\n",
    "    if value != 0:\n",
    "        answer = key"
   ]
  },
  {
   "cell_type": "code",
   "execution_count": 68,
   "id": "cde059f7",
   "metadata": {},
   "outputs": [
    {
     "data": {
      "text/plain": [
       "'mislav'"
      ]
     },
     "execution_count": 68,
     "metadata": {},
     "output_type": "execute_result"
    }
   ],
   "source": [
    "answer"
   ]
  },
  {
   "cell_type": "code",
   "execution_count": 58,
   "id": "4c4f411a",
   "metadata": {},
   "outputs": [
    {
     "data": {
      "text/plain": [
       "Counter({'stanko': 1, 'ana': 1, 'mislav': 1})"
      ]
     },
     "execution_count": 58,
     "metadata": {},
     "output_type": "execute_result"
    }
   ],
   "source": [
    "Counter(completion)"
   ]
  },
  {
   "cell_type": "code",
   "execution_count": 59,
   "id": "6c4541b0",
   "metadata": {},
   "outputs": [
    {
     "data": {
      "text/plain": [
       "['__add__',\n",
       " '__and__',\n",
       " '__class__',\n",
       " '__class_getitem__',\n",
       " '__contains__',\n",
       " '__delattr__',\n",
       " '__delitem__',\n",
       " '__dict__',\n",
       " '__dir__',\n",
       " '__doc__',\n",
       " '__eq__',\n",
       " '__format__',\n",
       " '__ge__',\n",
       " '__getattribute__',\n",
       " '__getitem__',\n",
       " '__gt__',\n",
       " '__hash__',\n",
       " '__iadd__',\n",
       " '__iand__',\n",
       " '__init__',\n",
       " '__init_subclass__',\n",
       " '__ior__',\n",
       " '__isub__',\n",
       " '__iter__',\n",
       " '__le__',\n",
       " '__len__',\n",
       " '__lt__',\n",
       " '__missing__',\n",
       " '__module__',\n",
       " '__ne__',\n",
       " '__neg__',\n",
       " '__new__',\n",
       " '__or__',\n",
       " '__pos__',\n",
       " '__reduce__',\n",
       " '__reduce_ex__',\n",
       " '__repr__',\n",
       " '__reversed__',\n",
       " '__ror__',\n",
       " '__setattr__',\n",
       " '__setitem__',\n",
       " '__sizeof__',\n",
       " '__str__',\n",
       " '__sub__',\n",
       " '__subclasshook__',\n",
       " '__weakref__',\n",
       " '_keep_positive',\n",
       " 'clear',\n",
       " 'copy',\n",
       " 'elements',\n",
       " 'fromkeys',\n",
       " 'get',\n",
       " 'items',\n",
       " 'keys',\n",
       " 'most_common',\n",
       " 'pop',\n",
       " 'popitem',\n",
       " 'setdefault',\n",
       " 'subtract',\n",
       " 'update',\n",
       " 'values']"
      ]
     },
     "execution_count": 59,
     "metadata": {},
     "output_type": "execute_result"
    }
   ],
   "source": [
    "dir(Counter(participant))"
   ]
  },
  {
   "cell_type": "markdown",
   "id": "464c586a",
   "metadata": {},
   "source": [
    "- 리스트 내 중복된 요소의 개수 비교는 collections.Counter를 사용하기\n",
    "- Counter.subtract 함수 중요\n",
    "- 매직 메소드 __sub__이 있기 때문에, subtract함수 대신에 Counter - Counter 역시 가능하다"
   ]
  },
  {
   "cell_type": "markdown",
   "id": "6f6ac438",
   "metadata": {},
   "source": [
    "#### 다른 사람의 풀이 "
   ]
  },
  {
   "cell_type": "code",
   "execution_count": null,
   "id": "d739d3a9",
   "metadata": {},
   "outputs": [],
   "source": [
    "def solution(participant, completion):\n",
    "    answer = ''\n",
    "    temp = 0\n",
    "    dic = {}\n",
    "    for part in participant:\n",
    "        dic[hash(part)] = part\n",
    "        temp += int(hash(part))\n",
    "    for com in completion:\n",
    "        temp -= hash(com)\n",
    "    answer = dic[temp]\n",
    "\n",
    "    return answer"
   ]
  },
  {
   "cell_type": "code",
   "execution_count": 72,
   "id": "49c732b0",
   "metadata": {},
   "outputs": [
    {
     "data": {
      "text/plain": [
       "9171818721335425797"
      ]
     },
     "execution_count": 72,
     "metadata": {},
     "output_type": "execute_result"
    }
   ],
   "source": [
    "hash('miro')"
   ]
  },
  {
   "cell_type": "code",
   "execution_count": 73,
   "id": "3bff5909",
   "metadata": {},
   "outputs": [
    {
     "data": {
      "text/plain": [
       "9171818721335425797"
      ]
     },
     "execution_count": 73,
     "metadata": {},
     "output_type": "execute_result"
    }
   ],
   "source": [
    "hash('miro')"
   ]
  },
  {
   "cell_type": "code",
   "execution_count": 74,
   "id": "2b24ebe0",
   "metadata": {},
   "outputs": [
    {
     "data": {
      "text/plain": [
       "139968958615728"
      ]
     },
     "execution_count": 74,
     "metadata": {},
     "output_type": "execute_result"
    }
   ],
   "source": [
    "id('miro')"
   ]
  },
  {
   "cell_type": "code",
   "execution_count": 75,
   "id": "b1c3b81f",
   "metadata": {},
   "outputs": [
    {
     "data": {
      "text/plain": [
       "139968958615792"
      ]
     },
     "execution_count": 75,
     "metadata": {},
     "output_type": "execute_result"
    }
   ],
   "source": [
    "id('miro')"
   ]
  },
  {
   "cell_type": "markdown",
   "id": "8ba8f326",
   "metadata": {},
   "source": [
    "#### id 값과 hash 값의 차이점 \n",
    "https://stackoverflow.com/questions/34402522/difference-between-hash-and-id"
   ]
  }
 ],
 "metadata": {
  "kernelspec": {
   "display_name": "Python 3 (ipykernel)",
   "language": "python",
   "name": "python3"
  },
  "language_info": {
   "codemirror_mode": {
    "name": "ipython",
    "version": 3
   },
   "file_extension": ".py",
   "mimetype": "text/x-python",
   "name": "python",
   "nbconvert_exporter": "python",
   "pygments_lexer": "ipython3",
   "version": "3.9.7"
  }
 },
 "nbformat": 4,
 "nbformat_minor": 5
}
