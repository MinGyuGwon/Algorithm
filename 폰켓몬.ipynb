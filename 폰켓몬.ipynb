{
 "cells": [
  {
   "cell_type": "code",
   "execution_count": 23,
   "id": "9eb26239",
   "metadata": {},
   "outputs": [],
   "source": [
    "# 문제 풀잇 시간 : 6분 \n",
    "def solution(nums):\n",
    "    answer = 0\n",
    "    length = len(nums)\n",
    "    num_set = set(nums)\n",
    "\n",
    "    if len(num_set) >= int(length/2):\n",
    "        answer = int(length/2)\n",
    "    else:\n",
    "        answer = len(num_set)\n",
    "        \n",
    "    return answer"
   ]
  },
  {
   "cell_type": "code",
   "execution_count": 2,
   "id": "6c13ec06",
   "metadata": {},
   "outputs": [],
   "source": [
    "answer = 0"
   ]
  },
  {
   "cell_type": "code",
   "execution_count": 16,
   "id": "fd509a37",
   "metadata": {},
   "outputs": [],
   "source": [
    "nums = [3,3,3,2,2,2]"
   ]
  },
  {
   "cell_type": "code",
   "execution_count": 17,
   "id": "3c846ef4",
   "metadata": {},
   "outputs": [],
   "source": [
    "length = len(nums)"
   ]
  },
  {
   "cell_type": "code",
   "execution_count": 18,
   "id": "0e391b19",
   "metadata": {},
   "outputs": [],
   "source": [
    "num_set = set(nums)"
   ]
  },
  {
   "cell_type": "code",
   "execution_count": 19,
   "id": "3e37f725",
   "metadata": {},
   "outputs": [
    {
     "data": {
      "text/plain": [
       "{2, 3}"
      ]
     },
     "execution_count": 19,
     "metadata": {},
     "output_type": "execute_result"
    }
   ],
   "source": [
    "num_set"
   ]
  },
  {
   "cell_type": "code",
   "execution_count": 20,
   "id": "756e927a",
   "metadata": {},
   "outputs": [
    {
     "data": {
      "text/plain": [
       "2"
      ]
     },
     "execution_count": 20,
     "metadata": {},
     "output_type": "execute_result"
    }
   ],
   "source": [
    "len(num_set)"
   ]
  },
  {
   "cell_type": "code",
   "execution_count": 21,
   "id": "ed770cd0",
   "metadata": {},
   "outputs": [],
   "source": [
    "if len(num_set) >= int(length/2):\n",
    "    answer = int(length/2)\n",
    "else:\n",
    "    answer = len(num_set)"
   ]
  },
  {
   "cell_type": "code",
   "execution_count": 22,
   "id": "1ad757f5",
   "metadata": {},
   "outputs": [
    {
     "data": {
      "text/plain": [
       "2"
      ]
     },
     "execution_count": 22,
     "metadata": {},
     "output_type": "execute_result"
    }
   ],
   "source": [
    "answer"
   ]
  },
  {
   "cell_type": "markdown",
   "id": "b70b9144",
   "metadata": {},
   "source": [
    "#### 다른 사람의 풀이"
   ]
  }
 ],
 "metadata": {
  "kernelspec": {
   "display_name": "Python 3 (ipykernel)",
   "language": "python",
   "name": "python3"
  },
  "language_info": {
   "codemirror_mode": {
    "name": "ipython",
    "version": 3
   },
   "file_extension": ".py",
   "mimetype": "text/x-python",
   "name": "python",
   "nbconvert_exporter": "python",
   "pygments_lexer": "ipython3",
   "version": "3.9.7"
  }
 },
 "nbformat": 4,
 "nbformat_minor": 5
}
