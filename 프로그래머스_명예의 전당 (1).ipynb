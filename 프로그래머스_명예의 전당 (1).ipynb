{
 "cells": [
  {
   "cell_type": "markdown",
   "id": "44272e51",
   "metadata": {},
   "source": [
    "## 문제 \n",
    "https://school.programmers.co.kr/learn/courses/30/lessons/138477"
   ]
  },
  {
   "cell_type": "code",
   "execution_count": 6,
   "id": "71b69dd1",
   "metadata": {},
   "outputs": [],
   "source": [
    "k = 4\n",
    "score = [0, 300, 40, 300, 20, 70, 150, 50, 500, 1000]"
   ]
  },
  {
   "cell_type": "code",
   "execution_count": 14,
   "id": "610041fd",
   "metadata": {},
   "outputs": [],
   "source": [
    "# 소요 시간 : 66분\n",
    "def solution(k, score):\n",
    "    answer = []\n",
    "    min_k = score[0]\n",
    "    k_answers = []\n",
    "    for idx, val in enumerate(score):\n",
    "        if idx < k :\n",
    "            k_answers.append(val)\n",
    "            if val < min_k :\n",
    "                answer.append(val)\n",
    "                min_k = val\n",
    "            else:\n",
    "                answer.append(min_k)\n",
    "        else: # k번째부터 \n",
    "            k_answers = sorted(k_answers, reverse = True)\n",
    "            if val <= min_k :\n",
    "                answer.append(answer[-1])\n",
    "            else: # val > min_k\n",
    "                k_answers.pop()\n",
    "                k_answers.append(val)\n",
    "                k_answers = sorted(k_answers, reverse = True)\n",
    "                min_k = k_answers[-1]\n",
    "                answer.append(k_answers[-1])\n",
    "    return answer"
   ]
  },
  {
   "cell_type": "code",
   "execution_count": 13,
   "id": "9aec2212",
   "metadata": {},
   "outputs": [
    {
     "name": "stdout",
     "output_type": "stream",
     "text": [
      "[] 0 []\n",
      "[0] 0 [0]\n",
      "[0, 0] 0 [300, 0]\n",
      "[0, 0, 0] 0 [300, 40, 0]\n",
      "[0, 0, 0, 0] 0 [300, 300, 40, 0]\n",
      "[0, 0, 0, 0, 20] 20 [300, 300, 40, 20]\n",
      "[0, 0, 0, 0, 20, 40] 40 [300, 300, 70, 40]\n",
      "[0, 0, 0, 0, 20, 40, 70] 70 [300, 300, 150, 70]\n",
      "[0, 0, 0, 0, 20, 40, 70, 70] 70 [300, 300, 150, 70]\n",
      "[0, 0, 0, 0, 20, 40, 70, 70, 150] 150 [500, 300, 300, 150]\n"
     ]
    }
   ],
   "source": [
    "answer = []\n",
    "min_k = score[0]\n",
    "k_answers = []\n",
    "for idx, val in enumerate(score):\n",
    "    print(answer, min_k, k_answers)\n",
    "    if idx < k :\n",
    "        k_answers.append(val)\n",
    "        k_answers = sorted(k_answers, reverse = True)\n",
    "        if val < min_k :\n",
    "            answer.append(val)\n",
    "            min_k = val\n",
    "        else:\n",
    "            answer.append(min_k)\n",
    "    else: # k번째부터 \n",
    "        k_answers = sorted(k_answers, reverse = True)\n",
    "        if val <= min_k :\n",
    "            answer.append(answer[-1])\n",
    "        else: # val > min_k\n",
    "            k_answers.pop()\n",
    "            k_answers.append(val)\n",
    "            k_answers = sorted(k_answers, reverse = True)\n",
    "            min_k = k_answers[-1]  # 실수\n",
    "            answer.append(k_answers[-1])"
   ]
  },
  {
   "cell_type": "code",
   "execution_count": 11,
   "id": "25a7ed8f",
   "metadata": {},
   "outputs": [
    {
     "data": {
      "text/plain": [
       "[300, 40, 0]"
      ]
     },
     "execution_count": 11,
     "metadata": {},
     "output_type": "execute_result"
    }
   ],
   "source": [
    "sorted([0, 300, 40], reverse = True)"
   ]
  },
  {
   "cell_type": "code",
   "execution_count": 15,
   "id": "22b54c54",
   "metadata": {
    "scrolled": true
   },
   "outputs": [
    {
     "data": {
      "text/plain": [
       "[0, 0, 0, 0, 20, 40, 70, 70, 150, 300]"
      ]
     },
     "execution_count": 15,
     "metadata": {},
     "output_type": "execute_result"
    }
   ],
   "source": [
    "solution(k, score)"
   ]
  },
  {
   "cell_type": "markdown",
   "id": "9a255438",
   "metadata": {},
   "source": [
    "###### 시행착오"
   ]
  },
  {
   "cell_type": "code",
   "execution_count": null,
   "id": "d555f89b",
   "metadata": {},
   "outputs": [],
   "source": [
    "# 시행착오\n",
    "\n",
    "# 오름차순 정렬해서 들어가는 자료형태를 사용하면 더 편할 듯 \n",
    "# heap \n",
    "# 근데 지금 기억이 잘 안남\n",
    "\n",
    "# list.copy() 이런 메소드 있었나?\n",
    "\n",
    "\n",
    "def solution(k, score):\n",
    "    answer = []\n",
    "    answer_point = []\n",
    "    for idx, val in enumerate(score):\n",
    "        if idx == 0:\n",
    "            answer.append(val)\n",
    "            answer_point.append(val)\n",
    "        elif idx < k :\n",
    "            answer.append(sorted(score[:idx+1])[0])\n",
    "            answer_point.append(val)\n",
    "        else:\n",
    "            val_min = sorted(answer,reverse = True)[-1]\n",
    "            answer_point = sorted(answer, reverse = True)\n",
    "            if val >= val_min :\n",
    "                answer_point.pop()\n",
    "                answer_point.append(val)\n",
    "                answer.append(sorted(answer_point,reverse = True)[-1])\n",
    "            else: # val < val_min\n",
    "                answer.append(answer[-1])\n",
    "            \n",
    "            answer\n",
    "            \n",
    "\n",
    "    return answer\n",
    "\n",
    "\n",
    "\n",
    "# def solution(k, score):\n",
    "#     answer = []\n",
    "#     score_copy = score.copy()\n",
    "#     for idx, val in enumerate(score):\n",
    "#         if idx < k :\n",
    "#             answer.append(val)\n",
    "#         else:\n",
    "#             answer_old =  sorted(answer)\n",
    "#             val_min = answer_old[k-1] # 리스트 내 최소 값  \n",
    "#             if val > val_min:\n",
    "#                 answer.append(val)\n",
    "#             else:\n",
    "#                 answer.append(sorted(answer)[0])\n",
    "#     return answer"
   ]
  },
  {
   "cell_type": "markdown",
   "id": "bdc98ca8",
   "metadata": {},
   "source": [
    "## 다른 사람의 풀이 "
   ]
  },
  {
   "cell_type": "code",
   "execution_count": 16,
   "id": "d9b9da96",
   "metadata": {},
   "outputs": [],
   "source": [
    "# 최소 값 제거시에 \n",
    "# 1) 오름차순/내림차순 정렬 후 index 기준으로 제거 \n",
    "# 2) List.remove() 메소드와 min(List) 함수를 통해 value 기준으로 제거 \n",
    "def solution(k, score):\n",
    "\n",
    "    q = []\n",
    "\n",
    "    answer = []\n",
    "    for s in score:\n",
    "\n",
    "        q.append(s)\n",
    "        if (len(q) > k):\n",
    "            q.remove(min(q)) # 핵심 \n",
    "        answer.append(min(q))\n",
    "\n",
    "    return answer"
   ]
  },
  {
   "cell_type": "code",
   "execution_count": 17,
   "id": "2834c16f",
   "metadata": {},
   "outputs": [],
   "source": [
    "import heapq\n",
    "\n",
    "# heapq 사용시 val 값 추가시마다 정렬할 필요 없이 val 추가 시 자동 정렬 \n",
    "# 1) 오름차순 정렬 시 tuple 이용하여 \n",
    "# 2) 내림차순 정렬 시 integer 사용 가능 \n",
    "def solution(k, score):\n",
    "    max_heap = []\n",
    "    answer = []\n",
    "\n",
    "    for sc in score:\n",
    "        heapq.heappush(max_heap, (-sc, sc))\n",
    "        answer.append(max(heapq.nsmallest(k, max_heap))[1]) # heapq.nsmallest()  returns \" List of N smallest values\"\n",
    "\n",
    "    return answer"
   ]
  },
  {
   "cell_type": "code",
   "execution_count": 18,
   "id": "a62b3678",
   "metadata": {},
   "outputs": [],
   "source": [
    "max_heap = []\n",
    "answer = []"
   ]
  },
  {
   "cell_type": "code",
   "execution_count": 19,
   "id": "4a8149e4",
   "metadata": {},
   "outputs": [],
   "source": [
    "heapq.heappush(max_heap, (-3,+3))"
   ]
  },
  {
   "cell_type": "code",
   "execution_count": 20,
   "id": "59c80d61",
   "metadata": {},
   "outputs": [
    {
     "data": {
      "text/plain": [
       "[(-3, 3)]"
      ]
     },
     "execution_count": 20,
     "metadata": {},
     "output_type": "execute_result"
    }
   ],
   "source": [
    "max_heap"
   ]
  },
  {
   "cell_type": "code",
   "execution_count": 21,
   "id": "fcf068de",
   "metadata": {},
   "outputs": [],
   "source": [
    "heapq.heappush(max_heap, (-4,4))"
   ]
  },
  {
   "cell_type": "code",
   "execution_count": 22,
   "id": "a4bdf857",
   "metadata": {},
   "outputs": [
    {
     "data": {
      "text/plain": [
       "[(-4, 4), (-3, 3)]"
      ]
     },
     "execution_count": 22,
     "metadata": {},
     "output_type": "execute_result"
    }
   ],
   "source": [
    "max_heap"
   ]
  },
  {
   "cell_type": "code",
   "execution_count": 30,
   "id": "296dd3e4",
   "metadata": {},
   "outputs": [],
   "source": [
    "heapq.heappush(max_heap, (-1,1))"
   ]
  },
  {
   "cell_type": "code",
   "execution_count": 33,
   "id": "42592a82",
   "metadata": {},
   "outputs": [
    {
     "data": {
      "text/plain": [
       "[(-4, 4), (-3, 3), (-1, 1)]"
      ]
     },
     "execution_count": 33,
     "metadata": {},
     "output_type": "execute_result"
    }
   ],
   "source": [
    "max_heap"
   ]
  },
  {
   "cell_type": "code",
   "execution_count": 35,
   "id": "bc53f7f7",
   "metadata": {},
   "outputs": [
    {
     "data": {
      "text/plain": [
       "[(-4, 4), (-3, 3), (-1, 1)]"
      ]
     },
     "execution_count": 35,
     "metadata": {},
     "output_type": "execute_result"
    }
   ],
   "source": [
    "heapq.nsmallest(3,max_heap)"
   ]
  },
  {
   "cell_type": "code",
   "execution_count": 36,
   "id": "95fe5d83",
   "metadata": {},
   "outputs": [
    {
     "data": {
      "text/plain": [
       "(-4, 4)"
      ]
     },
     "execution_count": 36,
     "metadata": {},
     "output_type": "execute_result"
    }
   ],
   "source": [
    "heapq.heappop(max_heap)"
   ]
  },
  {
   "cell_type": "code",
   "execution_count": 37,
   "id": "2e7bc6ad",
   "metadata": {},
   "outputs": [
    {
     "data": {
      "text/plain": [
       "[(-3, 3), (-1, 1)]"
      ]
     },
     "execution_count": 37,
     "metadata": {},
     "output_type": "execute_result"
    }
   ],
   "source": [
    "max_heap"
   ]
  },
  {
   "cell_type": "code",
   "execution_count": 23,
   "id": "ca844e20",
   "metadata": {},
   "outputs": [],
   "source": [
    "min_heap = []"
   ]
  },
  {
   "cell_type": "code",
   "execution_count": 24,
   "id": "10c0129d",
   "metadata": {},
   "outputs": [],
   "source": [
    "heapq.heappush(min_heap,3)"
   ]
  },
  {
   "cell_type": "code",
   "execution_count": 25,
   "id": "085dc39c",
   "metadata": {},
   "outputs": [
    {
     "data": {
      "text/plain": [
       "[3]"
      ]
     },
     "execution_count": 25,
     "metadata": {},
     "output_type": "execute_result"
    }
   ],
   "source": [
    "min_heap"
   ]
  },
  {
   "cell_type": "code",
   "execution_count": 26,
   "id": "3bb6e045",
   "metadata": {},
   "outputs": [],
   "source": [
    "heapq.heappush(min_heap, 4)"
   ]
  },
  {
   "cell_type": "code",
   "execution_count": 27,
   "id": "300323f1",
   "metadata": {},
   "outputs": [
    {
     "data": {
      "text/plain": [
       "[3, 4]"
      ]
     },
     "execution_count": 27,
     "metadata": {},
     "output_type": "execute_result"
    }
   ],
   "source": [
    "min_heap"
   ]
  }
 ],
 "metadata": {
  "kernelspec": {
   "display_name": "Python 3 (ipykernel)",
   "language": "python",
   "name": "python3"
  },
  "language_info": {
   "codemirror_mode": {
    "name": "ipython",
    "version": 3
   },
   "file_extension": ".py",
   "mimetype": "text/x-python",
   "name": "python",
   "nbconvert_exporter": "python",
   "pygments_lexer": "ipython3",
   "version": "3.9.7"
  }
 },
 "nbformat": 4,
 "nbformat_minor": 5
}
