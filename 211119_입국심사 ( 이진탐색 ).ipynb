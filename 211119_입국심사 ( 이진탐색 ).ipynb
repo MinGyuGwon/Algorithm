{
 "cells": [
  {
   "cell_type": "markdown",
   "metadata": {},
   "source": [
    "##"
   ]
  },
  {
   "cell_type": "markdown",
   "metadata": {},
   "source": [
    "#### URL :  https://programmers.co.kr/learn/courses/30/lessons/43238"
   ]
  },
  {
   "cell_type": "code",
   "execution_count": null,
   "metadata": {},
   "outputs": [],
   "source": [
    "def solution(n, times):\n",
    "    answer = 0\n",
    "    \n",
    "    return answer"
   ]
  },
  {
   "cell_type": "markdown",
   "metadata": {},
   "source": [
    "#### 아이디어  \n",
    "\n",
    "- 심사관들의 심사가 \" 가장 오래걸리는 경우를 Max로 잡고, 이진 탐색을 진행한다.\" <br/>\n",
    "(조건에 따라, 가장 오래 걸리는 경우를 High 잡고 이진 탐색을 진행한다고 생각하면 된다)<br/>\n",
    "이렇게 할 수 있는 이유는, '입국심사'를 통과하는 사람의 숫자가 '총 소요시간'순으로 정렬되어 있기 때문이다. "
   ]
  },
  {
   "cell_type": "code",
   "execution_count": 9,
   "metadata": {},
   "outputs": [],
   "source": [
    "# 코드\n",
    "def binarySearch(left, right, times, n):\n",
    "    cnt=0\n",
    "    # ChekPoint 4\n",
    "    answer = -1\n",
    "    while left <= right: # 이진탐색 종료 조건\n",
    "        mid = int((left+right)/2)\n",
    "        cnt = 0\n",
    "        for time in times:\n",
    "            cnt += int(mid/time)\n",
    "        # ChekPoint 1\n",
    "        if cnt >= n: # 조건을 만족하는 경우 \n",
    "            # ChekPoint 2\n",
    "            if answer == -1:\n",
    "                answer = mid\n",
    "            else:\n",
    "                answer = min(answer,mid) # 조건을 만족하는 경우에서도 최소한의 시간을 기록하는 경우로 업데이트한다.\n",
    "            # ChekPoint 3\n",
    "            right = mid-1\n",
    "        elif cnt < n: \n",
    "            left = mid+1\n",
    "            \n",
    "    return answer\n",
    "\n",
    "def solution(n, times):\n",
    "    # 가장 오래걸릴 수 있는 경우 ( 가장 오래걸리는 심사관에게서만 심사를 받는 경우 )\n",
    "    times.sort()\n",
    "    left = 0\n",
    "    right = times[-1]*n  \n",
    "    \n",
    "    answer = binarySearch(left, right, times, n)\n",
    "    print(answer)\n",
    "    return answer"
   ]
  },
  {
   "cell_type": "markdown",
   "metadata": {},
   "source": [
    "### 입출력 예시"
   ]
  },
  {
   "cell_type": "code",
   "execution_count": 10,
   "metadata": {},
   "outputs": [
    {
     "name": "stdout",
     "output_type": "stream",
     "text": [
      "28\n"
     ]
    },
    {
     "data": {
      "text/plain": [
       "28"
      ]
     },
     "execution_count": 10,
     "metadata": {},
     "output_type": "execute_result"
    }
   ],
   "source": [
    "solution(n = 6, times = [7, 10])"
   ]
  },
  {
   "cell_type": "markdown",
   "metadata": {},
   "source": [
    "## 포인트"
   ]
  },
  {
   "cell_type": "markdown",
   "metadata": {},
   "source": [
    "#### 1. '입국심사 통과자 수'가 동일한 상황에서 최소한의 시간을 구하기  "
   ]
  },
  {
   "cell_type": "markdown",
   "metadata": {},
   "source": [
    "1) 'answer' 변수의 도입을 통해, 조건('n')을 만족하는 첫번째 경우를 answer 변수에 할당 <br/>\n",
    "2) 이후 조건을 만족하는 경우는 'min()'함수를 사용해서 '최소한의 소요시간'으로 업데이트한다.  "
   ]
  },
  {
   "cell_type": "markdown",
   "metadata": {},
   "source": [
    "#### 2. 이진탐색의 조건문"
   ]
  },
  {
   "cell_type": "markdown",
   "metadata": {},
   "source": [
    "1) 이진 탐색 종료 조건  <br/>\n",
    "left <= right\n",
    "\n",
    "2) 정답이 mid보다 '우측'이나 'mid'에 위치한 경우 <br/>\n",
    "if cnt >= n:\n",
    "\n",
    "3) 정답이 mid보다 '좌측'에 위치한 경우  <br/>\n",
    "elif cnt < n: "
   ]
  },
  {
   "cell_type": "markdown",
   "metadata": {},
   "source": [
    "#### 3. 이진탐색의 Counter 변경"
   ]
  },
  {
   "cell_type": "markdown",
   "metadata": {},
   "source": [
    "1)  if cnt >= n: 경우 <br/>\n",
    "\n",
    "    right = 'mid'-1\n",
    "\n",
    "2)  elif cnt < n: 경우  <br/>\n",
    "\n",
    "    left = 'mid'+1"
   ]
  },
  {
   "cell_type": "markdown",
   "metadata": {},
   "source": [
    "#### 4. 변수 값을 '-1'로 초기화"
   ]
  },
  {
   "cell_type": "markdown",
   "metadata": {},
   "source": [
    "변수 값을 -1로 초기화하고, 'if answer == -1':조건문을 사용함으로써 첫번째 answer 변수 값을 'mid'의 값으로 초기화할 수 있다."
   ]
  }
 ],
 "metadata": {
  "kernelspec": {
   "display_name": "Python 3",
   "language": "python",
   "name": "python3"
  },
  "language_info": {
   "codemirror_mode": {
    "name": "ipython",
    "version": 3
   },
   "file_extension": ".py",
   "mimetype": "text/x-python",
   "name": "python",
   "nbconvert_exporter": "python",
   "pygments_lexer": "ipython3",
   "version": "3.6.5"
  }
 },
 "nbformat": 4,
 "nbformat_minor": 4
}
