{
  "nbformat": 4,
  "nbformat_minor": 0,
  "metadata": {
    "colab": {
      "name": "Greedy_55. Jump Game.ipynb",
      "provenance": [],
      "collapsed_sections": []
    },
    "kernelspec": {
      "name": "python3",
      "display_name": "Python 3"
    },
    "language_info": {
      "name": "python"
    }
  },
  "cells": [
    {
      "cell_type": "markdown",
      "source": [
        "https://leetcode.com/problems/jump-game/"
      ],
      "metadata": {
        "id": "U4RcFebePipB"
      }
    },
    {
      "cell_type": "code",
      "source": [
        "# 사고 과정\n",
        "def canJump(self, nums):\n",
        "  # 다이나믹 프로그래밍 방식으로 문제를 해결할 수 있을 것 같다\n",
        "  # Return true if you can reach the last index, or false otherwise.\n",
        "  # False만 아니면 True를 반환하는 형식으로 진행 \n",
        "  '''\n",
        "  step1. 도착지점을 한번에 갈 수 있는 경우가 있는지 체크 \n",
        "  step2. 중간 지점부터 시작하여 도착지점에 올 수 있는 경우 체크\n",
        "  step3. 'step2'가 성립한다면 step2과정을 반복하여, 시작 지점부터 시작하여 도착할 수 있는 경우가 있는지 체크 \n",
        "  '''\n",
        "  # for문 활용 시 시간을 초과할 듯 "
      ],
      "metadata": {
        "id": "0r_rRBVYPjbp",
        "colab": {
          "base_uri": "https://localhost:8080/",
          "height": 236
        },
        "outputId": "21e25f0e-e987-4abc-b57e-21c633d77a16"
      },
      "execution_count": 9,
      "outputs": [
        {
          "output_type": "error",
          "ename": "NameError",
          "evalue": "ignored",
          "traceback": [
            "\u001b[0;31m---------------------------------------------------------------------------\u001b[0m",
            "\u001b[0;31mNameError\u001b[0m                                 Traceback (most recent call last)",
            "\u001b[0;32m<ipython-input-9-25412b133fe9>\u001b[0m in \u001b[0;36m<module>\u001b[0;34m()\u001b[0m\n\u001b[1;32m      1\u001b[0m \u001b[0;31m# 사고 과정\u001b[0m\u001b[0;34m\u001b[0m\u001b[0;34m\u001b[0m\u001b[0;34m\u001b[0m\u001b[0m\n\u001b[0;32m----> 2\u001b[0;31m \u001b[0;32mdef\u001b[0m \u001b[0mcanJump\u001b[0m\u001b[0;34m(\u001b[0m\u001b[0mself\u001b[0m\u001b[0;34m,\u001b[0m \u001b[0mnums\u001b[0m\u001b[0;34m:\u001b[0m \u001b[0mList\u001b[0m\u001b[0;34m[\u001b[0m\u001b[0mint\u001b[0m\u001b[0;34m]\u001b[0m\u001b[0;34m)\u001b[0m \u001b[0;34m->\u001b[0m \u001b[0mbool\u001b[0m\u001b[0;34m:\u001b[0m\u001b[0;34m\u001b[0m\u001b[0;34m\u001b[0m\u001b[0m\n\u001b[0m\u001b[1;32m      3\u001b[0m \u001b[0;34m\u001b[0m\u001b[0m\n\u001b[1;32m      4\u001b[0m   \u001b[0;31m# 다이나믹 프로그래밍 방식으로 문제를 해결할 수 있을 것 같다\u001b[0m\u001b[0;34m\u001b[0m\u001b[0;34m\u001b[0m\u001b[0;34m\u001b[0m\u001b[0m\n\u001b[1;32m      5\u001b[0m   \u001b[0;31m# Return true if you can reach the last index, or false otherwise.\u001b[0m\u001b[0;34m\u001b[0m\u001b[0;34m\u001b[0m\u001b[0;34m\u001b[0m\u001b[0m\n",
            "\u001b[0;31mNameError\u001b[0m: name 'List' is not defined"
          ]
        }
      ]
    },
    {
      "cell_type": "code",
      "source": [
        "# 길이가 2이면 이전 시점이 0만 아니면 됨 \n",
        "# [1, 4] "
      ],
      "metadata": {
        "id": "i7qD4K78Pjdt"
      },
      "execution_count": 10,
      "outputs": []
    },
    {
      "cell_type": "code",
      "source": [
        "# 길이가 3이면 도착지점이전까지의 maximum length의 합이 \n",
        "# [1,0,3]"
      ],
      "metadata": {
        "id": "bK1ewCllPjgM"
      },
      "execution_count": 11,
      "outputs": []
    },
    {
      "cell_type": "code",
      "source": [
        "nums = [3,2,2,0,4]"
      ],
      "metadata": {
        "id": "3n6Ed-_wPjiW"
      },
      "execution_count": 12,
      "outputs": []
    },
    {
      "cell_type": "code",
      "source": [
        "new_start = 0\n",
        "for i in range(len(nums)):\n",
        "  for j in range(len(nums)):\n",
        "      "
      ],
      "metadata": {
        "id": "5b9swwYjPjkc",
        "colab": {
          "base_uri": "https://localhost:8080/",
          "height": 131
        },
        "outputId": "399b3477-6cd1-4365-8a83-8d81388c228e"
      },
      "execution_count": 13,
      "outputs": [
        {
          "output_type": "error",
          "ename": "SyntaxError",
          "evalue": "ignored",
          "traceback": [
            "\u001b[0;36m  File \u001b[0;32m\"<ipython-input-13-6dd563f063a9>\"\u001b[0;36m, line \u001b[0;32m4\u001b[0m\n\u001b[0;31m    \u001b[0m\n\u001b[0m    ^\u001b[0m\n\u001b[0;31mSyntaxError\u001b[0m\u001b[0;31m:\u001b[0m unexpected EOF while parsing\n"
          ]
        }
      ]
    },
    {
      "cell_type": "code",
      "source": [
        "# 각 index에서 도착지점까지의 거리를 구하는 식 \n",
        "\n",
        "# 0번째 인덱스 \n",
        "#distance = len(nums) - 1\n",
        "\n",
        "# 1번째 인덱스\n",
        "#distance = len(nums) - 2\n",
        "\n",
        "# i번째 인덱스 (일반화)\n",
        "#distance = len(nums) - (i+1)"
      ],
      "metadata": {
        "id": "x_dd-_ZAUuPx"
      },
      "execution_count": null,
      "outputs": []
    },
    {
      "cell_type": "code",
      "execution_count": null,
      "metadata": {
        "id": "G6KDxn_jPcY3"
      },
      "outputs": [],
      "source": [
        "# distance와 각 index에서의 maximum jump length를 비교하는 식 \n",
        "\n",
        "# possible  = [ ]\n",
        "# for i in range(바뀐 도착지점의 인덱스):\n",
        "#   flag = False\n",
        "#   if distance <= nums[i]: # 이동해야할 거리가 maximum jump length보다 짧으면 flag를 True로 수정 \n",
        "#     flag = True\n",
        "#     possible.append(i) # 가능한 중간지점의 인덱스 저장하기 "
      ]
    },
    {
      "cell_type": "code",
      "source": [
        "# 가능한 접근방법 \n",
        "# 바로 도달할 수 있는 경우가 없고, 그 중간지점의 'value' 값이 0인 경우만 있다면 False 반환 "
      ],
      "metadata": {
        "id": "9gejBiiIY-HA"
      },
      "execution_count": null,
      "outputs": []
    },
    {
      "cell_type": "markdown",
      "source": [
        "## **다른 풀이**"
      ],
      "metadata": {
        "id": "kMAHE8dKeS3d"
      }
    },
    {
      "cell_type": "code",
      "source": [
        "# 조X빈 풀이\n",
        "def canJump(nums):\n",
        "        if len(nums)==1: return True\n",
        "        max = 0\n",
        "        for idx, jump in enumerate(nums):\n",
        "            if idx+jump<=max:\n",
        "                if idx==max:\n",
        "                    return False\n",
        "            else:\n",
        "                max = idx+jump\n",
        "            if max == len(nums)-1:\n",
        "                return True\n",
        "        return True"
      ],
      "metadata": {
        "id": "kT0q5OtBWOOB"
      },
      "execution_count": null,
      "outputs": []
    },
    {
      "cell_type": "code",
      "source": [
        "canJump([2,3,1,1,4])"
      ],
      "metadata": {
        "id": "kmnzm88Qeaem"
      },
      "execution_count": null,
      "outputs": []
    },
    {
      "cell_type": "code",
      "source": [
        "canJump([3,2,1,0,4])"
      ],
      "metadata": {
        "id": "mLKNymLNeag4"
      },
      "execution_count": null,
      "outputs": []
    },
    {
      "cell_type": "markdown",
      "source": [
        "## **정답 풀이**"
      ],
      "metadata": {
        "id": "NIooNi0-eVjz"
      }
    },
    {
      "cell_type": "code",
      "source": [
        "# 풀이 1 (앞으로 확인)\n",
        "def canJump1(nums):\n",
        "    # Greedy한 풀이 방법을 적용하기 위한 변수 도입\n",
        "    farthest = 0 # 각 인덱스에서의 최대로 이동 가능한 도착 인덱스 위치를 저장 \n",
        "    for idx, dist in enumerate(nums): # nums안의 value를 사용해야할 필요성 높기 때문에 enumerate 사용 \n",
        "        # 도달할 수 없는 위치\n",
        "        if idx > farthest:\n",
        "            return False\n",
        "        # Greedy한 최적의 Solution Update를 위한 max() 함수 사용 \n",
        "        farthest = max(farthest, idx+dist)  # t인덱스에서 이동할 수 있느 가장 먼 index를 \"t+dist\"로 표현 가능하다. \n",
        "    return True\n",
        "\n",
        "# 여기서의 내가 생각하는 포인트 \n",
        "# 1. 각 인덱스에서 이동가능한 최대 인덱스를 \"t+dist\"로 표현한다. \n",
        "# 2. 각 인덱스에서의 \"솔루션\"을 max( )로 비교를 통해 업데이트 해준다. \n",
        "\n",
        "# 각각의 인덱스가 위치, 각각의 Value가 이동할 수 있는 거리를 담은 배열에서 \n",
        "#'idx + value'의 의미는 최대로 이동가능한 위치이다.  "
      ],
      "metadata": {
        "id": "MslxhafGeYwQ"
      },
      "execution_count": 14,
      "outputs": []
    },
    {
      "cell_type": "code",
      "source": [
        "canJump1([2,3,1,1,4])"
      ],
      "metadata": {
        "id": "GIBk_RFAeYyk",
        "colab": {
          "base_uri": "https://localhost:8080/"
        },
        "outputId": "85937d0d-a9fa-4f6f-fc80-cc74da7310d2"
      },
      "execution_count": 15,
      "outputs": [
        {
          "output_type": "execute_result",
          "data": {
            "text/plain": [
              "True"
            ]
          },
          "metadata": {},
          "execution_count": 15
        }
      ]
    },
    {
      "cell_type": "code",
      "source": [
        "canJump1([3,2,1,0,4])"
      ],
      "metadata": {
        "id": "oLz6GfLceY02",
        "colab": {
          "base_uri": "https://localhost:8080/"
        },
        "outputId": "239ce0c8-9dc3-4365-8bdd-8ec173c607fa"
      },
      "execution_count": 16,
      "outputs": [
        {
          "output_type": "execute_result",
          "data": {
            "text/plain": [
              "False"
            ]
          },
          "metadata": {},
          "execution_count": 16
        }
      ]
    },
    {
      "cell_type": "code",
      "source": [
        "# 풀이 1 (앞으로 확인)\n",
        "def canJump1(nums):\n",
        "    farthest = 0\n",
        "    for idx, dist in enumerate(nums):\n",
        "        # 도달할 수 없는 위치\n",
        "        print(f\"Idx: {idx}, dist: {dist}, idx+dist: {idx+dist}, farthest(before update): {farthest}\")\n",
        "        if idx > farthest:\n",
        "            print(f\"idx:{idx} > farthest:{farthest} \\nimpossible!\")\n",
        "            return False\n",
        "        farthest = max(farthest, idx+dist)\n",
        "        print(f\"Idx: {idx}, dist: {dist}, idx+dist: {idx+dist}, farthest(after update): {farthest}\")\n",
        "    return True"
      ],
      "metadata": {
        "id": "5EpvmE8EeY3N"
      },
      "execution_count": 17,
      "outputs": []
    },
    {
      "cell_type": "code",
      "source": [
        "canJump1([2,3,1,1,4])"
      ],
      "metadata": {
        "id": "5DOHQuNAeY5e",
        "colab": {
          "base_uri": "https://localhost:8080/"
        },
        "outputId": "6d32c392-7d29-4fd2-eadc-aa6335c3b530"
      },
      "execution_count": 18,
      "outputs": [
        {
          "output_type": "stream",
          "name": "stdout",
          "text": [
            "Idx: 0, dist: 2, idx+dist: 2, farthest(before update): 0\n",
            "Idx: 0, dist: 2, idx+dist: 2, farthest(after update): 2\n",
            "Idx: 1, dist: 3, idx+dist: 4, farthest(before update): 2\n",
            "Idx: 1, dist: 3, idx+dist: 4, farthest(after update): 4\n",
            "Idx: 2, dist: 1, idx+dist: 3, farthest(before update): 4\n",
            "Idx: 2, dist: 1, idx+dist: 3, farthest(after update): 4\n",
            "Idx: 3, dist: 1, idx+dist: 4, farthest(before update): 4\n",
            "Idx: 3, dist: 1, idx+dist: 4, farthest(after update): 4\n",
            "Idx: 4, dist: 4, idx+dist: 8, farthest(before update): 4\n",
            "Idx: 4, dist: 4, idx+dist: 8, farthest(after update): 8\n"
          ]
        },
        {
          "output_type": "execute_result",
          "data": {
            "text/plain": [
              "True"
            ]
          },
          "metadata": {},
          "execution_count": 18
        }
      ]
    },
    {
      "cell_type": "code",
      "source": [
        "canJump1([3,2,1,0,4])"
      ],
      "metadata": {
        "id": "Y9imYSlBeY74",
        "colab": {
          "base_uri": "https://localhost:8080/"
        },
        "outputId": "e5516559-e1c8-44fe-c341-4487352c4d6d"
      },
      "execution_count": 19,
      "outputs": [
        {
          "output_type": "stream",
          "name": "stdout",
          "text": [
            "Idx: 0, dist: 3, idx+dist: 3, farthest(before update): 0\n",
            "Idx: 0, dist: 3, idx+dist: 3, farthest(after update): 3\n",
            "Idx: 1, dist: 2, idx+dist: 3, farthest(before update): 3\n",
            "Idx: 1, dist: 2, idx+dist: 3, farthest(after update): 3\n",
            "Idx: 2, dist: 1, idx+dist: 3, farthest(before update): 3\n",
            "Idx: 2, dist: 1, idx+dist: 3, farthest(after update): 3\n",
            "Idx: 3, dist: 0, idx+dist: 3, farthest(before update): 3\n",
            "Idx: 3, dist: 0, idx+dist: 3, farthest(after update): 3\n",
            "Idx: 4, dist: 4, idx+dist: 8, farthest(before update): 3\n",
            "idx:4 > farthest:3 \n",
            "impossible!\n"
          ]
        },
        {
          "output_type": "execute_result",
          "data": {
            "text/plain": [
              "False"
            ]
          },
          "metadata": {},
          "execution_count": 19
        }
      ]
    },
    {
      "cell_type": "code",
      "source": [
        "canJump1([3, 2, 2, 0, 4])"
      ],
      "metadata": {
        "id": "rgB1zMZqeY96",
        "colab": {
          "base_uri": "https://localhost:8080/"
        },
        "outputId": "d2e39fac-891d-43ac-edb5-2b518e164473"
      },
      "execution_count": 20,
      "outputs": [
        {
          "output_type": "stream",
          "name": "stdout",
          "text": [
            "Idx: 0, dist: 3, idx+dist: 3, farthest(before update): 0\n",
            "Idx: 0, dist: 3, idx+dist: 3, farthest(after update): 3\n",
            "Idx: 1, dist: 2, idx+dist: 3, farthest(before update): 3\n",
            "Idx: 1, dist: 2, idx+dist: 3, farthest(after update): 3\n",
            "Idx: 2, dist: 2, idx+dist: 4, farthest(before update): 3\n",
            "Idx: 2, dist: 2, idx+dist: 4, farthest(after update): 4\n",
            "Idx: 3, dist: 0, idx+dist: 3, farthest(before update): 4\n",
            "Idx: 3, dist: 0, idx+dist: 3, farthest(after update): 4\n",
            "Idx: 4, dist: 4, idx+dist: 8, farthest(before update): 4\n",
            "Idx: 4, dist: 4, idx+dist: 8, farthest(after update): 8\n"
          ]
        },
        {
          "output_type": "execute_result",
          "data": {
            "text/plain": [
              "True"
            ]
          },
          "metadata": {},
          "execution_count": 20
        }
      ]
    },
    {
      "cell_type": "code",
      "source": [
        "# 풀이 2 (오른쪽 끝에서 뒤로 확인)\n",
        "def canJump2(nums):\n",
        "    goal = len(nums) - 1\n",
        "    for idx in range(len(nums)-1, -1, -1): # nums의 마지막 idx부터 거꾸로 진행한다. \n",
        "        if idx + nums[idx] >= goal: # 최대로 이동 가능한 위치가 도착해야할 다음 인덱스를 넘는다면 현재 시작한 인덱스를 Goal로 변경한다.  \n",
        "            goal = idx\n",
        "    return not goal"
      ],
      "metadata": {
        "id": "PBNGjmQbejTo"
      },
      "execution_count": 21,
      "outputs": []
    },
    {
      "cell_type": "code",
      "source": [
        "canJump2([2,3,1,1,4])"
      ],
      "metadata": {
        "id": "t1el81GEejV6",
        "colab": {
          "base_uri": "https://localhost:8080/"
        },
        "outputId": "28d147ee-0bae-4075-e8f0-b57ae338a442"
      },
      "execution_count": 22,
      "outputs": [
        {
          "output_type": "execute_result",
          "data": {
            "text/plain": [
              "True"
            ]
          },
          "metadata": {},
          "execution_count": 22
        }
      ]
    },
    {
      "cell_type": "code",
      "source": [
        "canJump2([3,2,1,0,4])"
      ],
      "metadata": {
        "id": "K622wBLgejYG",
        "colab": {
          "base_uri": "https://localhost:8080/"
        },
        "outputId": "c57c1f60-717d-46ee-a431-bbbecbc50103"
      },
      "execution_count": 23,
      "outputs": [
        {
          "output_type": "execute_result",
          "data": {
            "text/plain": [
              "False"
            ]
          },
          "metadata": {},
          "execution_count": 23
        }
      ]
    },
    {
      "cell_type": "code",
      "source": [
        "# 풀이 2 (왼쪽 끝에서 뒤로 확인)\n",
        "def canJump2(nums):\n",
        "    goal = len(nums) - 1  # goal은 해당 위치까지만 도달 가능하면 최종지점까지 도착이 가능하다는 것을 표현하는 변수 \n",
        "    for idx in range(len(nums)-1, -1, -1):\n",
        "        print(f\"idx: {idx}, goal: {goal},  idx+nums[idx]: {idx+nums[idx]}\\n\")\n",
        "        if idx + nums[idx] >= goal:\n",
        "            goal = idx\n",
        "            print(f\"Update!\\nidx: {idx}, goal: {goal}, idx+nums[idx]: {idx+nums[idx]}\\n\\n\")\n",
        "    return not goal"
      ],
      "metadata": {
        "id": "t8luk3ldejaO"
      },
      "execution_count": 24,
      "outputs": []
    },
    {
      "cell_type": "code",
      "source": [
        "canJump2([2,3,1,1,4])"
      ],
      "metadata": {
        "id": "Czr8hWnvemm2",
        "colab": {
          "base_uri": "https://localhost:8080/"
        },
        "outputId": "fed1e7ee-e97c-41eb-a106-86a078b3cddf"
      },
      "execution_count": 25,
      "outputs": [
        {
          "output_type": "stream",
          "name": "stdout",
          "text": [
            "idx: 4, goal: 4,  idx+nums[idx]: 8\n",
            "\n",
            "Update!\n",
            "idx: 4, goal: 4, idx+nums[idx]: 8\n",
            "\n",
            "\n",
            "idx: 3, goal: 4,  idx+nums[idx]: 4\n",
            "\n",
            "Update!\n",
            "idx: 3, goal: 3, idx+nums[idx]: 4\n",
            "\n",
            "\n",
            "idx: 2, goal: 3,  idx+nums[idx]: 3\n",
            "\n",
            "Update!\n",
            "idx: 2, goal: 2, idx+nums[idx]: 3\n",
            "\n",
            "\n",
            "idx: 1, goal: 2,  idx+nums[idx]: 4\n",
            "\n",
            "Update!\n",
            "idx: 1, goal: 1, idx+nums[idx]: 4\n",
            "\n",
            "\n",
            "idx: 0, goal: 1,  idx+nums[idx]: 2\n",
            "\n",
            "Update!\n",
            "idx: 0, goal: 0, idx+nums[idx]: 2\n",
            "\n",
            "\n"
          ]
        },
        {
          "output_type": "execute_result",
          "data": {
            "text/plain": [
              "True"
            ]
          },
          "metadata": {},
          "execution_count": 25
        }
      ]
    },
    {
      "cell_type": "code",
      "source": [
        "canJump2([3,2,1,0,4])"
      ],
      "metadata": {
        "id": "KW46xjIYemo4",
        "colab": {
          "base_uri": "https://localhost:8080/"
        },
        "outputId": "26be1f04-8b2c-4c7b-c5f7-c22db398e2ab"
      },
      "execution_count": 26,
      "outputs": [
        {
          "output_type": "stream",
          "name": "stdout",
          "text": [
            "idx: 4, goal: 4,  idx+nums[idx]: 8\n",
            "\n",
            "Update!\n",
            "idx: 4, goal: 4, idx+nums[idx]: 8\n",
            "\n",
            "\n",
            "idx: 3, goal: 4,  idx+nums[idx]: 3\n",
            "\n",
            "idx: 2, goal: 4,  idx+nums[idx]: 3\n",
            "\n",
            "idx: 1, goal: 4,  idx+nums[idx]: 3\n",
            "\n",
            "idx: 0, goal: 4,  idx+nums[idx]: 3\n",
            "\n"
          ]
        },
        {
          "output_type": "execute_result",
          "data": {
            "text/plain": [
              "False"
            ]
          },
          "metadata": {},
          "execution_count": 26
        }
      ]
    },
    {
      "cell_type": "code",
      "source": [
        "# 풀이 3 (끝에서 뒤로, 다른 방법)\n",
        "def canJump3(nums):\n",
        "  jumps = 1\n",
        "  n = len(nums) - 2\n",
        "  for i in range(n, -1, -1): # n, n-1, n-2, ... , 0\n",
        "      if nums[i] >= jumps:# 현재 위치까지 닿는지 확인\n",
        "          jumps = 1\n",
        "      else:\n",
        "          jumps += 1 # 현재 위치까지의 거리 +1\n",
        "  return nums[0] >= jumps # 이동해야할 거리와 0번째 인덱스에서 Jump가능한 거리를 비교 "
      ],
      "metadata": {
        "id": "3MfQ5IDMemrX"
      },
      "execution_count": 27,
      "outputs": []
    },
    {
      "cell_type": "code",
      "source": [
        "canJump2([2,3,1,1,4])"
      ],
      "metadata": {
        "id": "XmvtXBXRemtS",
        "colab": {
          "base_uri": "https://localhost:8080/"
        },
        "outputId": "cbba3f38-1671-4e1e-e284-b9e08e5a3de3"
      },
      "execution_count": 28,
      "outputs": [
        {
          "output_type": "stream",
          "name": "stdout",
          "text": [
            "idx: 4, goal: 4,  idx+nums[idx]: 8\n",
            "\n",
            "Update!\n",
            "idx: 4, goal: 4, idx+nums[idx]: 8\n",
            "\n",
            "\n",
            "idx: 3, goal: 4,  idx+nums[idx]: 4\n",
            "\n",
            "Update!\n",
            "idx: 3, goal: 3, idx+nums[idx]: 4\n",
            "\n",
            "\n",
            "idx: 2, goal: 3,  idx+nums[idx]: 3\n",
            "\n",
            "Update!\n",
            "idx: 2, goal: 2, idx+nums[idx]: 3\n",
            "\n",
            "\n",
            "idx: 1, goal: 2,  idx+nums[idx]: 4\n",
            "\n",
            "Update!\n",
            "idx: 1, goal: 1, idx+nums[idx]: 4\n",
            "\n",
            "\n",
            "idx: 0, goal: 1,  idx+nums[idx]: 2\n",
            "\n",
            "Update!\n",
            "idx: 0, goal: 0, idx+nums[idx]: 2\n",
            "\n",
            "\n"
          ]
        },
        {
          "output_type": "execute_result",
          "data": {
            "text/plain": [
              "True"
            ]
          },
          "metadata": {},
          "execution_count": 28
        }
      ]
    },
    {
      "cell_type": "code",
      "source": [
        "canJump2([3,2,1,0,4])"
      ],
      "metadata": {
        "id": "F0w_NXn6emv7",
        "colab": {
          "base_uri": "https://localhost:8080/"
        },
        "outputId": "5b15879d-7fbc-4300-ead0-438d73f67256"
      },
      "execution_count": 29,
      "outputs": [
        {
          "output_type": "stream",
          "name": "stdout",
          "text": [
            "idx: 4, goal: 4,  idx+nums[idx]: 8\n",
            "\n",
            "Update!\n",
            "idx: 4, goal: 4, idx+nums[idx]: 8\n",
            "\n",
            "\n",
            "idx: 3, goal: 4,  idx+nums[idx]: 3\n",
            "\n",
            "idx: 2, goal: 4,  idx+nums[idx]: 3\n",
            "\n",
            "idx: 1, goal: 4,  idx+nums[idx]: 3\n",
            "\n",
            "idx: 0, goal: 4,  idx+nums[idx]: 3\n",
            "\n"
          ]
        },
        {
          "output_type": "execute_result",
          "data": {
            "text/plain": [
              "False"
            ]
          },
          "metadata": {},
          "execution_count": 29
        }
      ]
    },
    {
      "cell_type": "code",
      "source": [
        "## ???동작 방식 공부할 것!\n",
        "def canJump4(nums):\n",
        "  n = len(nums)\n",
        "  \n",
        "  # https://wikidocs.net/109299\n",
        "  @lru_cache(None) # 함수의 결과를 캐시\n",
        "  def dp(i):\n",
        "      if i == n - 1:\n",
        "          return True\n",
        "      \n",
        "      for j in range(i+1, min(i+nums[i], n-1) + 1):\n",
        "          if dp(j):\n",
        "              return True\n",
        "      return False\n",
        "  \n",
        "  return dp(0) "
      ],
      "metadata": {
        "id": "m3Cixa9IesSV"
      },
      "execution_count": 30,
      "outputs": []
    },
    {
      "cell_type": "code",
      "source": [
        "canJump2([2,3,1,1,4])"
      ],
      "metadata": {
        "id": "QCW1bnqFesUc",
        "colab": {
          "base_uri": "https://localhost:8080/"
        },
        "outputId": "88efc2e3-dc20-4c2f-c6ca-ea36cf6ecc7e"
      },
      "execution_count": 31,
      "outputs": [
        {
          "output_type": "stream",
          "name": "stdout",
          "text": [
            "idx: 4, goal: 4,  idx+nums[idx]: 8\n",
            "\n",
            "Update!\n",
            "idx: 4, goal: 4, idx+nums[idx]: 8\n",
            "\n",
            "\n",
            "idx: 3, goal: 4,  idx+nums[idx]: 4\n",
            "\n",
            "Update!\n",
            "idx: 3, goal: 3, idx+nums[idx]: 4\n",
            "\n",
            "\n",
            "idx: 2, goal: 3,  idx+nums[idx]: 3\n",
            "\n",
            "Update!\n",
            "idx: 2, goal: 2, idx+nums[idx]: 3\n",
            "\n",
            "\n",
            "idx: 1, goal: 2,  idx+nums[idx]: 4\n",
            "\n",
            "Update!\n",
            "idx: 1, goal: 1, idx+nums[idx]: 4\n",
            "\n",
            "\n",
            "idx: 0, goal: 1,  idx+nums[idx]: 2\n",
            "\n",
            "Update!\n",
            "idx: 0, goal: 0, idx+nums[idx]: 2\n",
            "\n",
            "\n"
          ]
        },
        {
          "output_type": "execute_result",
          "data": {
            "text/plain": [
              "True"
            ]
          },
          "metadata": {},
          "execution_count": 31
        }
      ]
    },
    {
      "cell_type": "code",
      "source": [
        "canJump2([3,2,1,0,4])"
      ],
      "metadata": {
        "id": "MH7h1vQlesWe",
        "colab": {
          "base_uri": "https://localhost:8080/"
        },
        "outputId": "173a135c-200d-49d5-b17b-2eedc852d3ee"
      },
      "execution_count": 32,
      "outputs": [
        {
          "output_type": "stream",
          "name": "stdout",
          "text": [
            "idx: 4, goal: 4,  idx+nums[idx]: 8\n",
            "\n",
            "Update!\n",
            "idx: 4, goal: 4, idx+nums[idx]: 8\n",
            "\n",
            "\n",
            "idx: 3, goal: 4,  idx+nums[idx]: 3\n",
            "\n",
            "idx: 2, goal: 4,  idx+nums[idx]: 3\n",
            "\n",
            "idx: 1, goal: 4,  idx+nums[idx]: 3\n",
            "\n",
            "idx: 0, goal: 4,  idx+nums[idx]: 3\n",
            "\n"
          ]
        },
        {
          "output_type": "execute_result",
          "data": {
            "text/plain": [
              "False"
            ]
          },
          "metadata": {},
          "execution_count": 32
        }
      ]
    }
  ]
}