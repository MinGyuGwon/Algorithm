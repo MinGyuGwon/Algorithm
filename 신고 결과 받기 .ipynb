{
 "cells": [
  {
   "cell_type": "code",
   "execution_count": null,
   "id": "af91fb49",
   "metadata": {},
   "outputs": [],
   "source": [
    "# 문제 풀이 20분 소요\n",
    "def solution(id_list, report, k):\n",
    "    answer = []\n",
    "    my_dict =  dict.fromkeys(id_list, 0)\n",
    "    report = list(set(report))\n",
    "    \n",
    "    for string in report:\n",
    "        filing  = string.split()\n",
    "        my_dict[filing[1]] += 1\n",
    "        \n",
    "    # 신고한 사람 기준 받는 이메일 \n",
    "    received = dict().fromkeys(id_list, 0)\n",
    "    \n",
    "    valid_list = []\n",
    "    for key, val in my_dict.items():\n",
    "        if val >= k:\n",
    "            valid_list.append(key)\n",
    "\n",
    "    for string in report:\n",
    "        filing  = string.split()\n",
    "        if filing[1] in valid_list:\n",
    "            received[filing[0]] += 1\n",
    "            \n",
    "    for i in id_list:\n",
    "        answer.append(received[i])\n",
    "        \n",
    "    return answer"
   ]
  },
  {
   "cell_type": "code",
   "execution_count": 18,
   "id": "a6f21364",
   "metadata": {},
   "outputs": [],
   "source": [
    "id_list = [\"muzi\", \"frodo\", \"apeach\", \"neo\"]\n",
    "report = [\"muzi frodo\",\"apeach frodo\",\"frodo neo\",\"muzi neo\",\"apeach muzi\"]\n",
    "k = 2 \n",
    "answer = []"
   ]
  },
  {
   "cell_type": "code",
   "execution_count": 19,
   "id": "6bfeaea7",
   "metadata": {},
   "outputs": [],
   "source": [
    "my_dict =  dict.fromkeys(id_list, 0)"
   ]
  },
  {
   "cell_type": "code",
   "execution_count": 20,
   "id": "f5c883cd",
   "metadata": {},
   "outputs": [
    {
     "data": {
      "text/plain": [
       "{'muzi': 0, 'frodo': 0, 'apeach': 0, 'neo': 0}"
      ]
     },
     "execution_count": 20,
     "metadata": {},
     "output_type": "execute_result"
    }
   ],
   "source": [
    "my_dict"
   ]
  },
  {
   "cell_type": "code",
   "execution_count": 21,
   "id": "46c38267",
   "metadata": {},
   "outputs": [],
   "source": [
    "report = list(set(report))"
   ]
  },
  {
   "cell_type": "code",
   "execution_count": 22,
   "id": "888830f5",
   "metadata": {},
   "outputs": [
    {
     "data": {
      "text/plain": [
       "['apeach frodo', 'apeach muzi', 'muzi frodo', 'frodo neo', 'muzi neo']"
      ]
     },
     "execution_count": 22,
     "metadata": {},
     "output_type": "execute_result"
    }
   ],
   "source": [
    "report"
   ]
  },
  {
   "cell_type": "code",
   "execution_count": 23,
   "id": "e08b2c99",
   "metadata": {},
   "outputs": [],
   "source": [
    "for string in report:\n",
    "    filing  = string.split()\n",
    "    my_dict[filing[1]] += 1"
   ]
  },
  {
   "cell_type": "code",
   "execution_count": null,
   "id": "1644fd56",
   "metadata": {},
   "outputs": [],
   "source": [
    "# 같은 유저가 동일 유저를 여러번 신고했을 때, 한번만 count 하도록 어떻게 하지?\n",
    "# report의 요소의 값이 중복이 있는 애들과 중복이 없는 애들을 따로 처리할 수 있을까?\n",
    "# set() 사용하자"
   ]
  },
  {
   "cell_type": "code",
   "execution_count": 24,
   "id": "181fba1b",
   "metadata": {},
   "outputs": [
    {
     "data": {
      "text/plain": [
       "{'muzi': 1, 'frodo': 2, 'apeach': 0, 'neo': 2}"
      ]
     },
     "execution_count": 24,
     "metadata": {},
     "output_type": "execute_result"
    }
   ],
   "source": [
    "# 신고 받은 사람 기준 \n",
    "my_dict"
   ]
  },
  {
   "cell_type": "code",
   "execution_count": 25,
   "id": "dea725e7",
   "metadata": {},
   "outputs": [],
   "source": [
    "# 신고한 사람 기준 받는 이메일 \n",
    "received = dict().fromkeys(id_list, 0)"
   ]
  },
  {
   "cell_type": "code",
   "execution_count": 26,
   "id": "8bd776d7",
   "metadata": {},
   "outputs": [
    {
     "data": {
      "text/plain": [
       "{'muzi': 0, 'frodo': 0, 'apeach': 0, 'neo': 0}"
      ]
     },
     "execution_count": 26,
     "metadata": {},
     "output_type": "execute_result"
    }
   ],
   "source": [
    "received"
   ]
  },
  {
   "cell_type": "code",
   "execution_count": 30,
   "id": "3d5779cd",
   "metadata": {},
   "outputs": [],
   "source": [
    "valid_list = []\n",
    "for key, val in my_dict.items():\n",
    "    if val >= k:\n",
    "        valid_list.append(key)"
   ]
  },
  {
   "cell_type": "code",
   "execution_count": 31,
   "id": "9662e593",
   "metadata": {},
   "outputs": [
    {
     "data": {
      "text/plain": [
       "['frodo', 'neo']"
      ]
     },
     "execution_count": 31,
     "metadata": {},
     "output_type": "execute_result"
    }
   ],
   "source": [
    "valid_list"
   ]
  },
  {
   "cell_type": "code",
   "execution_count": 32,
   "id": "a55001e2",
   "metadata": {},
   "outputs": [],
   "source": [
    "for string in report:\n",
    "    filing  = string.split()\n",
    "    if filing[1] in valid_list:\n",
    "        received[filing[0]] += 1"
   ]
  },
  {
   "cell_type": "code",
   "execution_count": 34,
   "id": "82785b5e",
   "metadata": {},
   "outputs": [],
   "source": [
    "answer = []"
   ]
  },
  {
   "cell_type": "code",
   "execution_count": 35,
   "id": "a3fb77ba",
   "metadata": {},
   "outputs": [],
   "source": [
    "for i in id_list:\n",
    "    answer.append(received[i])"
   ]
  },
  {
   "cell_type": "code",
   "execution_count": 36,
   "id": "04ed74f0",
   "metadata": {},
   "outputs": [
    {
     "data": {
      "text/plain": [
       "[2, 1, 1, 0]"
      ]
     },
     "execution_count": 36,
     "metadata": {},
     "output_type": "execute_result"
    }
   ],
   "source": [
    "answer"
   ]
  },
  {
   "cell_type": "markdown",
   "id": "30f87d8b",
   "metadata": {},
   "source": [
    "#### 다른 사람의 풀이"
   ]
  },
  {
   "cell_type": "code",
   "execution_count": null,
   "id": "020b601d",
   "metadata": {},
   "outputs": [],
   "source": [
    "def solution(id_list, report, k):\n",
    "    answer = [0] * len(id_list)    \n",
    "    reports = {x : 0 for x in id_list} # dictionary comprehension을 사용하여, 초기화 진행 \n",
    "\n",
    "    for r in set(report): # list(set())과 같이 굳이 추가해주어야할 필요 없음 \n",
    "        reports[r.split()[1]] += 1\n",
    "    \n",
    "    for r in set(report):\n",
    "        if reports[r.split()[1]] >= k:\n",
    "            answer[id_list.index(r.split()[0])] += 1  # .index() 메소드를 사용하여 answer에 값을 추가시켜준 것이 가장 큰 차이점 \n",
    "\n",
    "    return answer"
   ]
  },
  {
   "cell_type": "code",
   "execution_count": null,
   "id": "6341b45c",
   "metadata": {},
   "outputs": [],
   "source": [
    "def solution(id_list, report, k):\n",
    "    answer = [0] * len(id_list)\n",
    "    dic_report = {id: [] for id in id_list} # 해당 유저를 신고한 ID \n",
    "    # dictionary의 요소로 int 값이 아닌, List를 사용한 것이 가장 큰 특징 \n",
    "    for i in set(report):\n",
    "        i = i.split()\n",
    "        dic_report[i[1]].append(i[0])\n",
    "\n",
    "    for key, value in dic_report.items():\n",
    "        if len(value) >= k:\n",
    "            for j in value:\n",
    "                answer[id_list.index(j)] += 1\n",
    "\n",
    "    return answer"
   ]
  }
 ],
 "metadata": {
  "kernelspec": {
   "display_name": "Python 3 (ipykernel)",
   "language": "python",
   "name": "python3"
  },
  "language_info": {
   "codemirror_mode": {
    "name": "ipython",
    "version": 3
   },
   "file_extension": ".py",
   "mimetype": "text/x-python",
   "name": "python",
   "nbconvert_exporter": "python",
   "pygments_lexer": "ipython3",
   "version": "3.9.7"
  }
 },
 "nbformat": 4,
 "nbformat_minor": 5
}
