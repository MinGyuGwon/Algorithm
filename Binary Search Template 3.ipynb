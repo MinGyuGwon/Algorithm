{
 "cells": [
  {
   "cell_type": "markdown",
   "id": "d1a8de91",
   "metadata": {},
   "source": [
    "https://towardsdatascience.com/powerful-ultimate-binary-search-template-and-many-leetcode-problems-1f850ef95651"
   ]
  },
  {
   "cell_type": "code",
   "execution_count": 1,
   "id": "93082be5",
   "metadata": {},
   "outputs": [],
   "source": [
    "def binary(array):\n",
    "    def condition(mid):\n",
    "        pass\n",
    "    left, right = 0, len(array)\n",
    "    while left < right :\n",
    "        mdi = left + (right - left)//2\n",
    "        if condition(mid):\n",
    "            right = mid\n",
    "        else:\n",
    "            left = mid + 1\n",
    "    return left "
   ]
  },
  {
   "cell_type": "markdown",
   "id": "47341e41",
   "metadata": {},
   "source": [
    "## 예시 1\n",
    "\n",
    "410. Split Array Largest Sum https://leetcode.com/problems/split-array-largest-sum/"
   ]
  },
  {
   "cell_type": "code",
   "execution_count": 3,
   "id": "1447c89a",
   "metadata": {},
   "outputs": [],
   "source": [
    "# 반환값의 범위는\n",
    "# 첫번째 요소의 크기 ~ 최대값의 크기 \n",
    "# largest sum of any subarray를 어떻게 계산하지?\n",
    "# 그리고 그것을 최소화하는 것은 어떻게 하지?\n",
    "# largetst sum of any subarray의 최소값은 sum(array)/k 일 것 \n",
    "# 최대값은 sum(array) - sum(array내 최소 k개의 값들)\n",
    "class Solution:\n",
    "    def splitArray(self, nums, k):\n",
    "        def condition(mid):\n",
    "            pass\n",
    "        left, right = nums[0], sum(nums) - sum(sorted(nums)[:k]) # largest sum of subarray의 범위\n",
    "        while left < right :\n",
    "            mid = left + (right - left)//2\n",
    "            if condition(mid):\n",
    "                right = mid\n",
    "            else:\n",
    "                left = mid +1\n",
    "        return left "
   ]
  },
  {
   "cell_type": "markdown",
   "id": "c6b1d1f9",
   "metadata": {},
   "source": [
    "- design a feasible function: given an input threshold, then decide if we can split the array into several subarrays such that every subarray-sum is less than or equal to threshold"
   ]
  },
  {
   "cell_type": "code",
   "execution_count": 6,
   "id": "78f7d262",
   "metadata": {},
   "outputs": [],
   "source": [
    "def splitArray(nums, m):\n",
    "    # -----------------------------------------\n",
    "    # feasible function이 중요\n",
    "    def feasible(threshold):\n",
    "        count = 1\n",
    "        total = 0\n",
    "        for num in nums:\n",
    "            total += num\n",
    "            if total > threshold:\n",
    "                total = num\n",
    "                count += 1\n",
    "                if count > m:\n",
    "                    return False\n",
    "        return True\n",
    "    # ---------------------------------------------\n",
    "    left, right = max(nums), sum(nums)\n",
    "    while left < right:\n",
    "        mid = left + (right - left) // 2\n",
    "        if feasible(mid):\n",
    "            right = mid     \n",
    "        else:\n",
    "            left = mid + 1\n",
    "    return left"
   ]
  }
 ],
 "metadata": {
  "kernelspec": {
   "display_name": "Python 3 (ipykernel)",
   "language": "python",
   "name": "python3"
  },
  "language_info": {
   "codemirror_mode": {
    "name": "ipython",
    "version": 3
   },
   "file_extension": ".py",
   "mimetype": "text/x-python",
   "name": "python",
   "nbconvert_exporter": "python",
   "pygments_lexer": "ipython3",
   "version": "3.9.7"
  }
 },
 "nbformat": 4,
 "nbformat_minor": 5
}
