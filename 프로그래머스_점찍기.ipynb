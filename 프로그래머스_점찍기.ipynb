{
 "cells": [
  {
   "cell_type": "code",
   "execution_count": null,
   "id": "fe27336e",
   "metadata": {},
   "outputs": [],
   "source": [
    "def solution(k, d):\n",
    "    answer = 0\n",
    "    \n",
    "    # for i in range(d+1):\n",
    "    #     for j in range(d+1):\n",
    "    #         if k*(i+j) <= d:\n",
    "    #             answer +=1\n",
    "    \n",
    "    # for i in range(d+1):\n",
    "    #     for j in range((d-k*i)//k + 1):\n",
    "    #         print(i, j)\n",
    "    #         answer += 1\n",
    "    \n",
    "    # 테스트 케이스만 통과 (시간 초과/ 출력 크기 초과)\n",
    "    # scale = d * d\n",
    "    # for i in range(d+1):\n",
    "    #     for j in range(d+1):\n",
    "    #         if ((k*i)*(k*i) + (k*j)*(k*j)) <= scale:\n",
    "    #             print(i,j )\n",
    "    #             answer += 1\n",
    "\n",
    "    \n",
    "    \n",
    "            \n",
    "    return answer"
   ]
  }
 ],
 "metadata": {
  "kernelspec": {
   "display_name": "Python 3 (ipykernel)",
   "language": "python",
   "name": "python3"
  },
  "language_info": {
   "codemirror_mode": {
    "name": "ipython",
    "version": 3
   },
   "file_extension": ".py",
   "mimetype": "text/x-python",
   "name": "python",
   "nbconvert_exporter": "python",
   "pygments_lexer": "ipython3",
   "version": "3.9.7"
  }
 },
 "nbformat": 4,
 "nbformat_minor": 5
}
