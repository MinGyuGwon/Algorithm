{
 "cells": [
  {
   "cell_type": "markdown",
   "id": "762a5ab2",
   "metadata": {},
   "source": [
    "https://towardsdatascience.com/powerful-ultimate-binary-search-template-and-many-leetcode-problems-1f850ef95651"
   ]
  },
  {
   "cell_type": "markdown",
   "id": "bd222e50",
   "metadata": {},
   "source": [
    "668. Kth Smallest Number in Multiplication Table https://leetcode.com/problems/kth-smallest-number-in-multiplication-table/description/"
   ]
  },
  {
   "cell_type": "code",
   "execution_count": 24,
   "id": "9020d421",
   "metadata": {},
   "outputs": [],
   "source": [
    "'''\n",
    "가장 직관적인 솔루션은 \n",
    "이중 for문을 순회하며 각 값을 추가하고 \n",
    "정렬한 후에 k를 인덱싱하는 방법이겠지만, \n",
    "m과 n의 크기가 3*10^4으로 크기 때문에 시간 복잡도나 공간 복잡도 측면에서 비효율적임 \n",
    "\n",
    "그래서 다음과 같이 Binary Search로 접근하였음 \n",
    "'''\n",
    "\n",
    "class Solution(object):\n",
    "    def findKthNumber(self, m, n, k):\n",
    "        \"\"\"\n",
    "        :type m: int\n",
    "        :type n: int\n",
    "        :type k: int\n",
    "        :rtype: int\n",
    "        \"\"\"\n",
    "        def feasible(mid):\n",
    "            # mid >= k th element 보다 크면 True\n",
    "            # 아니면 False \n",
    "            # k번째 element 값을 모르는 상태에서 주어진 값이 k번째 element 보다 큰지 아닌지 판단하는 함수를 작성할 수 있는가?\n",
    "            pass\n",
    "\n",
    "        # 칸의 개수 : m*n\n",
    "        # 최대 값 : m*n\n",
    "        # 최소 값 : 1 \n",
    "        # 특징 \n",
    "        # 대각선별로 크기(값)의 우열이 있다 \n",
    "        # 첫번째 대각선보단 두번째 대각선\n",
    "        # 두번째 대각선보단 세번째 대각선 \n",
    "        \n",
    "        # 2 , 4 라면 \n",
    "        # 1 2 2 2 1\n",
    "        \n",
    "        # 3,4 라면  (총 12개)\n",
    "        # 1 2 3 3 2 1\n",
    "        \n",
    "        # 5 10라면 \n",
    "        \n",
    "        # 2 4 6 8 10 10 10\n",
    "        # 1 2 3 4 5 5 5 5 5 5 4 3  2  1\n",
    "        \n",
    "        \n",
    "        \n",
    "        left, right = 1, m*n\n",
    "        while left < right :\n",
    "            mid = left + (right - left)//2\n",
    "            if feasible(mid):\n",
    "                right = mid \n",
    "            else:\n",
    "                left = mid + 1\n",
    "        return left   # Kth smallest element\n",
    "    \n"
   ]
  },
  {
   "cell_type": "code",
   "execution_count": 12,
   "id": "9a6e7a2e",
   "metadata": {},
   "outputs": [],
   "source": [
    "m, n = 5 , 10"
   ]
  },
  {
   "cell_type": "code",
   "execution_count": 13,
   "id": "29de1278",
   "metadata": {},
   "outputs": [],
   "source": [
    "maxNum = max(m,n)"
   ]
  },
  {
   "cell_type": "code",
   "execution_count": 14,
   "id": "67e12112",
   "metadata": {},
   "outputs": [
    {
     "data": {
      "text/plain": [
       "10"
      ]
     },
     "execution_count": 14,
     "metadata": {},
     "output_type": "execute_result"
    }
   ],
   "source": [
    "maxNum"
   ]
  },
  {
   "cell_type": "code",
   "execution_count": 15,
   "id": "6a197e01",
   "metadata": {},
   "outputs": [
    {
     "data": {
      "text/plain": [
       "5"
      ]
     },
     "execution_count": 15,
     "metadata": {},
     "output_type": "execute_result"
    }
   ],
   "source": [
    "minNum = min(m,n)\n",
    "minNum"
   ]
  },
  {
   "cell_type": "code",
   "execution_count": 16,
   "id": "f3180b74",
   "metadata": {},
   "outputs": [],
   "source": [
    "k = 34"
   ]
  },
  {
   "cell_type": "code",
   "execution_count": 17,
   "id": "b41629a8",
   "metadata": {},
   "outputs": [],
   "source": [
    "cnt =0\n",
    "for val in range(1, minNum+1):\n",
    "    cnt += val \n",
    "    if cnt > k :\n",
    "        print(False)"
   ]
  },
  {
   "cell_type": "code",
   "execution_count": 18,
   "id": "706daec9",
   "metadata": {
    "scrolled": true
   },
   "outputs": [
    {
     "data": {
      "text/plain": [
       "15"
      ]
     },
     "execution_count": 18,
     "metadata": {},
     "output_type": "execute_result"
    }
   ],
   "source": [
    "cnt"
   ]
  },
  {
   "cell_type": "code",
   "execution_count": null,
   "id": "317cfcbb",
   "metadata": {},
   "outputs": [],
   "source": [
    "1 2 3 4 5 6 7 8 9 10\n",
    "1 2 3 4 5 6 7 8 9 10\n",
    "1 2 3 4 5 6 7 8 9 10\n",
    "1 2 3 4 5 6 7 8 9 10\n",
    "1 2 3 4 5 6 7 8 9 10"
   ]
  },
  {
   "cell_type": "code",
   "execution_count": 21,
   "id": "0688e645",
   "metadata": {},
   "outputs": [
    {
     "data": {
      "text/plain": [
       "6"
      ]
     },
     "execution_count": 21,
     "metadata": {},
     "output_type": "execute_result"
    }
   ],
   "source": [
    "maxNum - minNum + 1"
   ]
  },
  {
   "cell_type": "code",
   "execution_count": 22,
   "id": "38c2abdb",
   "metadata": {},
   "outputs": [
    {
     "name": "stdout",
     "output_type": "stream",
     "text": [
      "False\n",
      "False\n",
      "False\n",
      "False\n",
      "False\n"
     ]
    }
   ],
   "source": [
    "for _ in range(maxNum - minNum + 1):\n",
    "    cnt += maxNum\n",
    "    if cnt > k:\n",
    "        print(False)"
   ]
  },
  {
   "cell_type": "code",
   "execution_count": null,
   "id": "0edaba34",
   "metadata": {},
   "outputs": [],
   "source": [
    "def findK(m,n,k):\n",
    "    maxNum = max(m,n)\n",
    "    minNum = min(m,n)\n",
    "    cnt = 0\n",
    "    for val in range(1, minNum):\n",
    "        cnt += val \n",
    "        if cnt > k :\n",
    "            return False,"
   ]
  },
  {
   "cell_type": "markdown",
   "id": "0e0be891",
   "metadata": {},
   "source": [
    "## 다른 풀이"
   ]
  },
  {
   "cell_type": "code",
   "execution_count": 23,
   "id": "a702be3d",
   "metadata": {},
   "outputs": [],
   "source": [
    "\n",
    "def findKthNumber(m: int, n: int, k: int) -> int:\n",
    "    def enough(num) -> bool:\n",
    "        count = 0\n",
    "        for val in range(1, m + 1):  # count row by row\n",
    "            add = min(num // val, n)\n",
    "            if add == 0:  # early exit\n",
    "                break\n",
    "            count += add\n",
    "        return count >= k\n",
    "      \n",
    "    left, right = 1, n * m\n",
    "    while left < right:\n",
    "        mid = left + (right - left) // 2\n",
    "        if enough(mid):\n",
    "            right = mid\n",
    "        else:\n",
    "            left = mid + 1\n",
    "    return left"
   ]
  }
 ],
 "metadata": {
  "kernelspec": {
   "display_name": "Python 3 (ipykernel)",
   "language": "python",
   "name": "python3"
  },
  "language_info": {
   "codemirror_mode": {
    "name": "ipython",
    "version": 3
   },
   "file_extension": ".py",
   "mimetype": "text/x-python",
   "name": "python",
   "nbconvert_exporter": "python",
   "pygments_lexer": "ipython3",
   "version": "3.9.7"
  }
 },
 "nbformat": 4,
 "nbformat_minor": 5
}
