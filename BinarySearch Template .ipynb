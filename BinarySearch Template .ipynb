{
 "cells": [
  {
   "cell_type": "markdown",
   "id": "4a8170bc",
   "metadata": {},
   "source": [
    "https://towardsdatascience.com/powerful-ultimate-binary-search-template-and-many-leetcode-problems-1f850ef95651"
   ]
  },
  {
   "cell_type": "code",
   "execution_count": 1,
   "id": "57bb9e03",
   "metadata": {},
   "outputs": [],
   "source": [
    "def binary_search(array) -> int:\n",
    "    def condition(value) -> bool:\n",
    "        pass\n",
    "    left, right = 0, len(array)\n",
    "    while left < right:\n",
    "        mid = left + (right - left) // 2\n",
    "        if condition(mid):\n",
    "            right = mid\n",
    "        else:\n",
    "            left = mid + 1\n",
    "    return left"
   ]
  },
  {
   "cell_type": "markdown",
   "id": "bc08bc18",
   "metadata": {},
   "source": [
    "### 예시 1\n",
    "278. First Bad Version\n",
    "https://leetcode.com/problems/first-bad-version/"
   ]
  },
  {
   "cell_type": "code",
   "execution_count": 2,
   "id": "d8a0ac83",
   "metadata": {},
   "outputs": [],
   "source": [
    "class Solution(object):\n",
    "    def firstBadVersion(self, n):\n",
    "        \"\"\"\n",
    "        :type n: int\n",
    "        :rtype: int\n",
    "        \"\"\"\n",
    "        left , right = 1, n \n",
    "        while left < right :\n",
    "            mid = left + (right - left)//2\n",
    "            if isBadVersion(mid):\n",
    "                right = mid \n",
    "            else:\n",
    "                left = mid + 1\n",
    "        return left "
   ]
  },
  {
   "cell_type": "markdown",
   "id": "f6fcddb7",
   "metadata": {},
   "source": [
    "### 예시2\n",
    "69.Sqrt(x) https://leetcode.com/problems/sqrtx/"
   ]
  },
  {
   "cell_type": "markdown",
   "id": "5956e3fc",
   "metadata": {},
   "source": [
    "- Binary Search에서 최대 k 값을 구하는 문제는 \n",
    "- 기존의 condtion() 함수의 출력 결과를 반대로(True -> False, False --> True)하여 구한 Minimum 값에 1을 빼면 최대 k 값을 구할 수 있다. "
   ]
  },
  {
   "cell_type": "code",
   "execution_count": null,
   "id": "cf9c0171",
   "metadata": {},
   "outputs": [],
   "source": [
    "class Solution(object):\n",
    "    def mySqrt(self, x):\n",
    "        \"\"\"\n",
    "        :type x: int\n",
    "        :rtype: int\n",
    "        \"\"\"\n",
    "        if x == 0:\n",
    "            return 0\n",
    "        elif x == 1:\n",
    "            return 1\n",
    "        def condtion(mid):\n",
    "            if mid * mid == x:\n",
    "                return False\n",
    "            elif mid * mid > x:\n",
    "                return True \n",
    "            else: # mid * mid < x:\n",
    "                return False\n",
    "        left, right = 1, x\n",
    "        while left < right :\n",
    "            mid = left + (right - left)//2\n",
    "            if condtion(mid):\n",
    "                right = mid\n",
    "            else:\n",
    "                left = mid + 1\n",
    "        return left - 1"
   ]
  },
  {
   "cell_type": "markdown",
   "id": "9914af6c",
   "metadata": {},
   "source": [
    "### 예시3\n",
    "35. Search Insert Position https://leetcode.com/problems/search-insert-position/"
   ]
  },
  {
   "cell_type": "code",
   "execution_count": 4,
   "id": "f524625b",
   "metadata": {},
   "outputs": [],
   "source": [
    "from bisect import bisect_left \n",
    "\n",
    "class Solution(object):\n",
    "    def searchInsert(self, nums, target):\n",
    "        \"\"\"\n",
    "        :type nums: List[int]\n",
    "        :type target: int\n",
    "        :rtype: int\n",
    "        \"\"\"\n",
    "        def condtion(mid_val):\n",
    "            if mid_val == target:\n",
    "                return True \n",
    "            else :\n",
    "                return False \n",
    "        left, right =  0, len(nums)\n",
    "        while left < right :\n",
    "            mid = left + (right- left)//2\n",
    "            if condtion(nums[mid]):\n",
    "                right = mid \n",
    "            else :\n",
    "                left = mid + 1\n",
    "        if left == len(nums):\n",
    "            return bisect_left(nums,target)\n",
    "        return left "
   ]
  },
  {
   "cell_type": "code",
   "execution_count": 8,
   "id": "38f82976",
   "metadata": {},
   "outputs": [],
   "source": [
    "# 글쓴이 정답 \n",
    "class Solution:\n",
    "    def searchInsert(self, nums, target):\n",
    "        left, right = 0, len(nums)\n",
    "        while left < right:\n",
    "            mid = left + (right - left) // 2\n",
    "            if nums[mid] >= target:\n",
    "                right = mid\n",
    "            else:\n",
    "                left = mid + 1\n",
    "        return left"
   ]
  }
 ],
 "metadata": {
  "kernelspec": {
   "display_name": "Python 3 (ipykernel)",
   "language": "python",
   "name": "python3"
  },
  "language_info": {
   "codemirror_mode": {
    "name": "ipython",
    "version": 3
   },
   "file_extension": ".py",
   "mimetype": "text/x-python",
   "name": "python",
   "nbconvert_exporter": "python",
   "pygments_lexer": "ipython3",
   "version": "3.9.7"
  }
 },
 "nbformat": 4,
 "nbformat_minor": 5
}
