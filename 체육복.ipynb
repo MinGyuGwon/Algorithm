{
 "cells": [
  {
   "cell_type": "code",
   "execution_count": 39,
   "id": "af4f36ab",
   "metadata": {},
   "outputs": [],
   "source": [
    "# 95/100  (실패)\n",
    "def solution(n, lost, reserve):\n",
    "    answer = 0\n",
    "# ---------------------------\n",
    "# 문제가 있던 부분   \n",
    "#     for i in lost:\n",
    "#         if i in reserve:\n",
    "#             reserve.remove(i)\n",
    "#             lost.remove(i) # 해당 코드를 빠드려서 문제가 발생하기도\n",
    "# ------------------------------\n",
    "    _lost = [i for i in lost if i not in reseve]\n",
    "    _reserve  = [i for i in reseve if i not in lost] \n",
    "    for i in range(1,n+1):\n",
    "        if i not in _lost:\n",
    "            answer += 1\n",
    "        else:\n",
    "            if (i - 1) in _reserve:\n",
    "                answer += 1 \n",
    "                _reserve.remove(i-1)\n",
    "            elif (i+1) in _reserve:\n",
    "                answer +=1\n",
    "                _reserve.remove(i+1)\n",
    "    return answer"
   ]
  },
  {
   "cell_type": "code",
   "execution_count": 1,
   "id": "e9f20441",
   "metadata": {},
   "outputs": [],
   "source": [
    "n = 5\n",
    "lost = [2,4]\n",
    "reserve = [3]"
   ]
  },
  {
   "cell_type": "code",
   "execution_count": 16,
   "id": "2f86d36b",
   "metadata": {},
   "outputs": [],
   "source": [
    "n = 5\n",
    "lost = [1]\n",
    "reserve = [2,3,4]"
   ]
  },
  {
   "cell_type": "code",
   "execution_count": 36,
   "id": "261924f9",
   "metadata": {},
   "outputs": [],
   "source": [
    "answer = 0"
   ]
  },
  {
   "cell_type": "code",
   "execution_count": 37,
   "id": "b8521761",
   "metadata": {},
   "outputs": [],
   "source": [
    "# 테스트 케이스 (2)\n",
    "n = 10\n",
    "lost = [1,2,3,4,5,7]\n",
    "reserve = [1,2,4,5,7]"
   ]
  },
  {
   "cell_type": "code",
   "execution_count": 38,
   "id": "01c9246e",
   "metadata": {},
   "outputs": [
    {
     "name": "stdout",
     "output_type": "stream",
     "text": [
      "[2, 5]\n",
      "[2, 3, 5]\n"
     ]
    }
   ],
   "source": [
    "# https://ealuuu.tistory.com/m/11\n",
    "''' 순회하는 lost 값을 변경하기 때문에 문제가 발생하였다. '''\n",
    "# 따라서 List Comprehension 등의 방법으로 새로운 리스트를 만들어서 해결해야 한다.\n",
    "\n",
    "# 두 List의 중복된 요소 값 찾기 \n",
    "\n",
    "for i in lost:\n",
    "    if i in reserve:\n",
    "        reserve.remove(i)\n",
    "        lost.remove(i)\n",
    "print(reserve) # [2, 5]\n",
    "print(lost)  # [2, 3, 5]"
   ]
  },
  {
   "cell_type": "code",
   "execution_count": 19,
   "id": "25cdefa9",
   "metadata": {},
   "outputs": [],
   "source": [
    "for i in range(1,n+1):\n",
    "    if i not in lost:\n",
    "        answer += 1\n",
    "    else:\n",
    "        if (i - 1) in reserve:\n",
    "            answer += 1 \n",
    "            reserve.remove(i-1)\n",
    "        elif (i+1) in reserve:\n",
    "            answer +=1\n",
    "            reserve.remove(i+1)"
   ]
  },
  {
   "cell_type": "code",
   "execution_count": 20,
   "id": "a0a4da54",
   "metadata": {},
   "outputs": [
    {
     "data": {
      "text/plain": [
       "2"
      ]
     },
     "execution_count": 20,
     "metadata": {},
     "output_type": "execute_result"
    }
   ],
   "source": [
    "answer"
   ]
  },
  {
   "cell_type": "code",
   "execution_count": null,
   "id": "a8a15d4c",
   "metadata": {},
   "outputs": [],
   "source": [
    "def solution(n, lost, reserve):\n",
    "    answer = 0\n",
    "    return answer"
   ]
  },
  {
   "cell_type": "code",
   "execution_count": 30,
   "id": "1979c695",
   "metadata": {},
   "outputs": [],
   "source": [
    "# 테스트 케이스 (1)\n",
    "n = 5\n",
    "lost = [2,4]\n",
    "reserve = [3,5]"
   ]
  },
  {
   "cell_type": "code",
   "execution_count": 31,
   "id": "50a60f11",
   "metadata": {},
   "outputs": [
    {
     "data": {
      "text/plain": [
       "5"
      ]
     },
     "execution_count": 31,
     "metadata": {},
     "output_type": "execute_result"
    }
   ],
   "source": [
    "# 95/100  (실패)\n",
    "solution(n, lost, reserve)"
   ]
  },
  {
   "cell_type": "code",
   "execution_count": 32,
   "id": "f814a4a6",
   "metadata": {},
   "outputs": [],
   "source": [
    "# 테스트 케이스 (2)\n",
    "n = 5\n",
    "lost = [2,4]\n",
    "reserve = [1,3]"
   ]
  },
  {
   "cell_type": "code",
   "execution_count": 33,
   "id": "948a3246",
   "metadata": {},
   "outputs": [
    {
     "data": {
      "text/plain": [
       "5"
      ]
     },
     "execution_count": 33,
     "metadata": {},
     "output_type": "execute_result"
    }
   ],
   "source": [
    "solution(n, lost, reserve)"
   ]
  },
  {
   "cell_type": "code",
   "execution_count": 34,
   "id": "ada8dd00",
   "metadata": {},
   "outputs": [],
   "source": [
    "# 테스트 케이스 (2)\n",
    "n = 10\n",
    "lost = [1,2,3,4,5,7]\n",
    "reserve = [1,2,4,5,7]"
   ]
  },
  {
   "cell_type": "code",
   "execution_count": 35,
   "id": "6f85f50c",
   "metadata": {},
   "outputs": [
    {
     "data": {
      "text/plain": [
       "8"
      ]
     },
     "execution_count": 35,
     "metadata": {},
     "output_type": "execute_result"
    }
   ],
   "source": [
    "solution(n, lost, reserve) # 기댓값 9"
   ]
  },
  {
   "cell_type": "code",
   "execution_count": 27,
   "id": "911cbe68",
   "metadata": {},
   "outputs": [],
   "source": [
    "answer = 0"
   ]
  },
  {
   "cell_type": "code",
   "execution_count": 28,
   "id": "cc10fa07",
   "metadata": {},
   "outputs": [],
   "source": [
    "# 두 List의 중복된 요소 값 찾기 \n",
    "for i in lost:\n",
    "    if i in reserve:\n",
    "        reserve.remove(i)\n",
    "        lost.remove(i)"
   ]
  },
  {
   "cell_type": "code",
   "execution_count": null,
   "id": "2a450e9b",
   "metadata": {},
   "outputs": [],
   "source": [
    "def solution(n, lost, reserve):\n",
    "    answer = 0\n",
    "    # 두 List의 중복된 요소 값 찾기 \n",
    "    for i in lost:\n",
    "        if i in reserve:\n",
    "            reserve.remove(i)\n",
    "            lost.remove(i) # 해당 코드를 빠드려서 문제가 발생하기도\n",
    "            \n",
    "    for i in range(1,n+1):\n",
    "        if i not in lost:\n",
    "            answer += 1\n",
    "        else:\n",
    "            if ((i - 1) in reserve) and ((i+1) in reserve):\n",
    "                pass # 어떻게 해야할까....\n",
    "            elif (i - 1) in reserve:\n",
    "                answer += 1 \n",
    "                reserve.remove(i-1)\n",
    "            elif (i+1) in reserve:\n",
    "                answer +=1\n",
    "                reserve.remove(i+1)\n",
    "        \n",
    "    return answer"
   ]
  },
  {
   "cell_type": "markdown",
   "id": "e8bc96ea",
   "metadata": {},
   "source": [
    "#### 다른 사람의 풀이"
   ]
  },
  {
   "cell_type": "code",
   "execution_count": null,
   "id": "d10ca826",
   "metadata": {},
   "outputs": [],
   "source": [
    "def solution(n, lost, reserve):\n",
    "    # 중요한 부분\n",
    "    _reserve = [r for r in reserve if r not in lost]\n",
    "    _lost = [l for l in lost if l not in reserve]\n",
    "    for r in _reserve:\n",
    "        f = r - 1\n",
    "        b = r + 1\n",
    "        if f in _lost:\n",
    "            _lost.remove(f)\n",
    "        elif b in _lost:\n",
    "            _lost.remove(b)\n",
    "    return n - len(_lost)"
   ]
  },
  {
   "cell_type": "code",
   "execution_count": null,
   "id": "1a141eda",
   "metadata": {},
   "outputs": [],
   "source": [
    "# 다음 코드도 동작 중에 값을 건드리는데 \n",
    "# 비슷한 문제가 발생하지 않으려나??\n",
    "# 비슷한 문제 발생함..\n",
    "\n",
    "def solution(n, lost, reserve):\n",
    "    answer = 0\n",
    "    for i in range(1, n+1):\n",
    "        if i not in lost: #안 잃어버린 학생\n",
    "            answer += 1\n",
    "        else:\n",
    "            if i in reserve: #잃어버렸지만 여분도 있는 학생\n",
    "                answer += 1\n",
    "                reserve.remove(i)\n",
    "                lost.remove(i)\n",
    "\n",
    "    for i in lost: #잃어버리고 여분도 없어서 빌려야 하는 학생\n",
    "        if i-1 in reserve:\n",
    "            answer += 1\n",
    "            reserve.remove(i-1)\n",
    "\n",
    "        elif i+1 in reserve:\n",
    "            answer +=1\n",
    "            reserve.remove(i+1)\n",
    "\n",
    "    return answer"
   ]
  },
  {
   "cell_type": "code",
   "execution_count": null,
   "id": "3b441d1f",
   "metadata": {},
   "outputs": [],
   "source": []
  },
  {
   "cell_type": "code",
   "execution_count": null,
   "id": "93fec00b",
   "metadata": {},
   "outputs": [],
   "source": []
  },
  {
   "cell_type": "code",
   "execution_count": null,
   "id": "05b410f9",
   "metadata": {},
   "outputs": [],
   "source": []
  },
  {
   "cell_type": "code",
   "execution_count": null,
   "id": "ff92bd4c",
   "metadata": {},
   "outputs": [],
   "source": []
  },
  {
   "cell_type": "code",
   "execution_count": null,
   "id": "ecb54c72",
   "metadata": {},
   "outputs": [],
   "source": []
  },
  {
   "cell_type": "code",
   "execution_count": null,
   "id": "743f6dd0",
   "metadata": {},
   "outputs": [],
   "source": []
  }
 ],
 "metadata": {
  "kernelspec": {
   "display_name": "Python 3 (ipykernel)",
   "language": "python",
   "name": "python3"
  },
  "language_info": {
   "codemirror_mode": {
    "name": "ipython",
    "version": 3
   },
   "file_extension": ".py",
   "mimetype": "text/x-python",
   "name": "python",
   "nbconvert_exporter": "python",
   "pygments_lexer": "ipython3",
   "version": "3.9.7"
  }
 },
 "nbformat": 4,
 "nbformat_minor": 5
}
