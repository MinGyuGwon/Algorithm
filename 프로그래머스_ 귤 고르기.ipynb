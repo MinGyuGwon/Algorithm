{
 "cells": [
  {
   "cell_type": "markdown",
   "id": "cadca766",
   "metadata": {},
   "source": [
    "## 문제 링크"
   ]
  },
  {
   "cell_type": "markdown",
   "id": "873b149a",
   "metadata": {},
   "source": [
    "https://school.programmers.co.kr/learn/courses/30/lessons/138476?language=python3"
   ]
  },
  {
   "cell_type": "markdown",
   "id": "5471c7c2",
   "metadata": {},
   "source": [
    "## 문제 풀이"
   ]
  },
  {
   "cell_type": "code",
   "execution_count": null,
   "id": "33190c06",
   "metadata": {},
   "outputs": [],
   "source": [
    "# 15분 소요 \n",
    "from collections import Counter\n",
    "\n",
    "def solution(k, tangerine):\n",
    "    answer = 0\n",
    "    \n",
    "    total  =  len(tangerine)\n",
    "    rule_out = total - k\n",
    "    # 개수가 적은 크기의 귤들을 제거하고 뽑으면 종류를 최소화할 수 있다\n",
    "    # 크기별 개수를 구하기 위해 dict나 Counter 사용 \n",
    "    cnt_obj = Counter(tangerine)\n",
    "    # 딕셔너리를 값에 따라 정렬하기 ??\n",
    "    \n",
    "    sums = 0\n",
    "    type_total = len(list(cnt_obj.values()))\n",
    "    for idx,val in enumerate(sorted(list(cnt_obj.values()))):\n",
    "        sums += val\n",
    "        if sums > rule_out :\n",
    "            return type_total - (idx) \n",
    "        elif sums == rule_out:\n",
    "            return type_total - (idx + 1) \n",
    "    \n",
    "    return answer\n",
    "\n",
    "# cnt_obj = Counter(tangerine)\n",
    "# print(sort(cnt_obj, key = x.value()))"
   ]
  },
  {
   "cell_type": "markdown",
   "id": "5b0d8b16",
   "metadata": {},
   "source": [
    "## 참고"
   ]
  },
  {
   "cell_type": "markdown",
   "id": "db4ac44b",
   "metadata": {},
   "source": [
    "######  Dictionary 정렬 \n",
    "https://codechacha.com/ko/python-sorting-dict/\n",
    "\n",
    "sorted 안에 단순하게 dict를 넣는 것이 아니라, \n",
    "sorted 안에, dict.items()를 넣어주어야 정렬할 수 있다"
   ]
  },
  {
   "cell_type": "code",
   "execution_count": 2,
   "id": "238b4da4",
   "metadata": {},
   "outputs": [],
   "source": [
    "from collections import Counter\n",
    "\n",
    "tangerine = [1, 3, 2, 5, 4, 5, 2, 3]\n",
    "cnt_obj = Counter(tangerine)"
   ]
  },
  {
   "cell_type": "code",
   "execution_count": 4,
   "id": "3fad5151",
   "metadata": {},
   "outputs": [
    {
     "data": {
      "text/plain": [
       "Counter({1: 1, 3: 2, 2: 2, 5: 2, 4: 1})"
      ]
     },
     "execution_count": 4,
     "metadata": {},
     "output_type": "execute_result"
    }
   ],
   "source": [
    "cnt_obj"
   ]
  },
  {
   "cell_type": "code",
   "execution_count": 5,
   "id": "fef68978",
   "metadata": {},
   "outputs": [
    {
     "data": {
      "text/plain": [
       "[(1, 1), (2, 2), (3, 2), (4, 1), (5, 2)]"
      ]
     },
     "execution_count": 5,
     "metadata": {},
     "output_type": "execute_result"
    }
   ],
   "source": [
    "sorted(cnt_obj.items(), key= lambda item: item[0]) # key 기준 정렬 "
   ]
  },
  {
   "cell_type": "code",
   "execution_count": 6,
   "id": "d0a70e92",
   "metadata": {},
   "outputs": [
    {
     "data": {
      "text/plain": [
       "[(1, 1), (4, 1), (3, 2), (2, 2), (5, 2)]"
      ]
     },
     "execution_count": 6,
     "metadata": {},
     "output_type": "execute_result"
    }
   ],
   "source": [
    "sorted(cnt_obj.items(), key= lambda item: item[1]) # value 기준 정렬 "
   ]
  }
 ],
 "metadata": {
  "kernelspec": {
   "display_name": "Python 3 (ipykernel)",
   "language": "python",
   "name": "python3"
  },
  "language_info": {
   "codemirror_mode": {
    "name": "ipython",
    "version": 3
   },
   "file_extension": ".py",
   "mimetype": "text/x-python",
   "name": "python",
   "nbconvert_exporter": "python",
   "pygments_lexer": "ipython3",
   "version": "3.9.7"
  }
 },
 "nbformat": 4,
 "nbformat_minor": 5
}
