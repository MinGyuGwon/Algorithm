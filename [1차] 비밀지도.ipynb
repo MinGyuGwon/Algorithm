{
 "cells": [
  {
   "cell_type": "code",
   "execution_count": 108,
   "id": "d6e60a7e",
   "metadata": {},
   "outputs": [],
   "source": [
    "# 실패\n",
    "def solution(n, arr1, arr2):\n",
    "    answer = []\n",
    "    for i,j in zip(arr1 , arr2):\n",
    "        temp_a = f'{bin(i):>n}' # 변수를 넣을 수 없네 자릿수에 관한 것에 대해 \n",
    "        temp_b = f'{bin(j):>n}'\n",
    "        temp_str = ''\n",
    "        for k in range(-1,-(n+1),-1):\n",
    "            try:\n",
    "                if '1' in (temp_a[k], temp_b[k]):\n",
    "                    temp_str =  temp_str + '#'\n",
    "                else:\n",
    "                    temp_str =  temp_str  + ' '\n",
    "            except:\n",
    "                temp_str = temp_str  + ' '\n",
    "            finally:\n",
    "                answer.append(temp_str)\n",
    "    return answer"
   ]
  },
  {
   "cell_type": "code",
   "execution_count": 107,
   "id": "212a6ddc",
   "metadata": {},
   "outputs": [
    {
     "ename": "ValueError",
     "evalue": "Unknown format code 'n' for object of type 'str'",
     "output_type": "error",
     "traceback": [
      "\u001b[0;31m---------------------------------------------------------------------------\u001b[0m",
      "\u001b[0;31mValueError\u001b[0m                                Traceback (most recent call last)",
      "\u001b[0;32m/tmp/ipykernel_151/936721988.py\u001b[0m in \u001b[0;36m<module>\u001b[0;34m\u001b[0m\n\u001b[0;32m----> 1\u001b[0;31m \u001b[0msolution\u001b[0m\u001b[0;34m(\u001b[0m \u001b[0;36m5\u001b[0m\u001b[0;34m,\u001b[0m \u001b[0;34m[\u001b[0m\u001b[0;36m9\u001b[0m\u001b[0;34m,\u001b[0m \u001b[0;36m20\u001b[0m\u001b[0;34m,\u001b[0m \u001b[0;36m28\u001b[0m\u001b[0;34m,\u001b[0m \u001b[0;36m18\u001b[0m\u001b[0;34m,\u001b[0m \u001b[0;36m11\u001b[0m\u001b[0;34m]\u001b[0m\u001b[0;34m,\u001b[0m \u001b[0;34m[\u001b[0m\u001b[0;36m30\u001b[0m\u001b[0;34m,\u001b[0m \u001b[0;36m1\u001b[0m\u001b[0;34m,\u001b[0m \u001b[0;36m21\u001b[0m\u001b[0;34m,\u001b[0m \u001b[0;36m17\u001b[0m\u001b[0;34m,\u001b[0m \u001b[0;36m28\u001b[0m\u001b[0;34m]\u001b[0m\u001b[0;34m)\u001b[0m\u001b[0;34m\u001b[0m\u001b[0;34m\u001b[0m\u001b[0m\n\u001b[0m",
      "\u001b[0;32m/tmp/ipykernel_151/4248014169.py\u001b[0m in \u001b[0;36msolution\u001b[0;34m(n, arr1, arr2)\u001b[0m\n\u001b[1;32m      2\u001b[0m     \u001b[0manswer\u001b[0m \u001b[0;34m=\u001b[0m \u001b[0;34m[\u001b[0m\u001b[0;34m]\u001b[0m\u001b[0;34m\u001b[0m\u001b[0;34m\u001b[0m\u001b[0m\n\u001b[1;32m      3\u001b[0m     \u001b[0;32mfor\u001b[0m \u001b[0mi\u001b[0m\u001b[0;34m,\u001b[0m\u001b[0mj\u001b[0m \u001b[0;32min\u001b[0m \u001b[0mzip\u001b[0m\u001b[0;34m(\u001b[0m\u001b[0marr1\u001b[0m \u001b[0;34m,\u001b[0m \u001b[0marr2\u001b[0m\u001b[0;34m)\u001b[0m\u001b[0;34m:\u001b[0m\u001b[0;34m\u001b[0m\u001b[0;34m\u001b[0m\u001b[0m\n\u001b[0;32m----> 4\u001b[0;31m         \u001b[0mtemp_a\u001b[0m \u001b[0;34m=\u001b[0m \u001b[0;34mf'{bin(i):>n}'\u001b[0m\u001b[0;34m\u001b[0m\u001b[0;34m\u001b[0m\u001b[0m\n\u001b[0m\u001b[1;32m      5\u001b[0m         \u001b[0mtemp_b\u001b[0m \u001b[0;34m=\u001b[0m \u001b[0;34mf'{bin(j):>n}'\u001b[0m\u001b[0;34m\u001b[0m\u001b[0;34m\u001b[0m\u001b[0m\n\u001b[1;32m      6\u001b[0m         \u001b[0mtemp_str\u001b[0m \u001b[0;34m=\u001b[0m \u001b[0;34m''\u001b[0m\u001b[0;34m\u001b[0m\u001b[0;34m\u001b[0m\u001b[0m\n",
      "\u001b[0;31mValueError\u001b[0m: Unknown format code 'n' for object of type 'str'"
     ]
    }
   ],
   "source": [
    "solution( 5, [9, 20, 28, 18, 11], [30, 1, 21, 17, 28])"
   ]
  },
  {
   "cell_type": "code",
   "execution_count": 88,
   "id": "405aad53",
   "metadata": {},
   "outputs": [],
   "source": [
    "# 합계: 37.5 / 100.0\n",
    "def solution(n, arr1, arr2):\n",
    "    answer = []\n",
    "    for i,j in zip(arr1 , arr2):\n",
    "        temp_a = f'{bin(i):>5}'\n",
    "        temp_b = f'{bin(j):>5}'\n",
    "        temp_str = ''\n",
    "        for k in range(-1,-(n+1),-1):\n",
    "            try:\n",
    "                if '1' in (temp_a[k], temp_b[k]):\n",
    "                    temp_str = '#' + temp_str\n",
    "                else:\n",
    "                    temp_str = ' ' + temp_str\n",
    "            except:\n",
    "                temp_str = ' ' + temp_str\n",
    "            finally:\n",
    "                answer.append(temp_str)\n",
    "    return answer"
   ]
  },
  {
   "cell_type": "code",
   "execution_count": 75,
   "id": "29505885",
   "metadata": {},
   "outputs": [],
   "source": [
    "answer = []\n",
    "n = 6\n",
    "\n",
    "arr1 = [46, 33, 33 ,22, 31, 50]\n",
    "arr2 = [27 ,56, 19, 14, 14, 10]"
   ]
  },
  {
   "cell_type": "code",
   "execution_count": 76,
   "id": "47a8b7c9",
   "metadata": {},
   "outputs": [
    {
     "data": {
      "text/plain": [
       "'0b1001'"
      ]
     },
     "execution_count": 76,
     "metadata": {},
     "output_type": "execute_result"
    }
   ],
   "source": [
    "bin(9)"
   ]
  },
  {
   "cell_type": "code",
   "execution_count": 77,
   "id": "61c5bb46",
   "metadata": {},
   "outputs": [
    {
     "data": {
      "text/plain": [
       "'0b10100'"
      ]
     },
     "execution_count": 77,
     "metadata": {},
     "output_type": "execute_result"
    }
   ],
   "source": [
    "bin(20)"
   ]
  },
  {
   "cell_type": "code",
   "execution_count": 78,
   "id": "149908c5",
   "metadata": {},
   "outputs": [
    {
     "data": {
      "text/plain": [
       "'0b11100'"
      ]
     },
     "execution_count": 78,
     "metadata": {},
     "output_type": "execute_result"
    }
   ],
   "source": [
    "bin(28) #  '0b11100'"
   ]
  },
  {
   "cell_type": "code",
   "execution_count": 96,
   "id": "4b20b3e1",
   "metadata": {},
   "outputs": [
    {
     "data": {
      "text/plain": [
       "8"
      ]
     },
     "execution_count": 96,
     "metadata": {},
     "output_type": "execute_result"
    }
   ],
   "source": [
    "n+2"
   ]
  },
  {
   "cell_type": "code",
   "execution_count": 105,
   "id": "858feee1",
   "metadata": {},
   "outputs": [
    {
     "ename": "ValueError",
     "evalue": "Unknown format code 'n' for object of type 'str'",
     "output_type": "error",
     "traceback": [
      "\u001b[0;31m---------------------------------------------------------------------------\u001b[0m",
      "\u001b[0;31mValueError\u001b[0m                                Traceback (most recent call last)",
      "\u001b[0;32m/tmp/ipykernel_151/1244852368.py\u001b[0m in \u001b[0;36m<module>\u001b[0;34m\u001b[0m\n\u001b[0;32m----> 1\u001b[0;31m \u001b[0;34mf'{bin(4):>n}'\u001b[0m\u001b[0;34m\u001b[0m\u001b[0;34m\u001b[0m\u001b[0m\n\u001b[0m",
      "\u001b[0;31mValueError\u001b[0m: Unknown format code 'n' for object of type 'str'"
     ]
    }
   ],
   "source": [
    "f'{bin(4):>n}'"
   ]
  },
  {
   "cell_type": "code",
   "execution_count": 80,
   "id": "ab6d8d8d",
   "metadata": {},
   "outputs": [
    {
     "data": {
      "text/plain": [
       "'  0b1'"
      ]
     },
     "execution_count": 80,
     "metadata": {},
     "output_type": "execute_result"
    }
   ],
   "source": [
    "'{:>5}'.format(bin(1))"
   ]
  },
  {
   "cell_type": "code",
   "execution_count": 81,
   "id": "17fe253d",
   "metadata": {},
   "outputs": [
    {
     "data": {
      "text/plain": [
       "'0b10100'"
      ]
     },
     "execution_count": 81,
     "metadata": {},
     "output_type": "execute_result"
    }
   ],
   "source": [
    "bin(20)"
   ]
  },
  {
   "cell_type": "code",
   "execution_count": 82,
   "id": "ab4ffa04",
   "metadata": {},
   "outputs": [
    {
     "data": {
      "text/plain": [
       "'0b1'"
      ]
     },
     "execution_count": 82,
     "metadata": {},
     "output_type": "execute_result"
    }
   ],
   "source": [
    "bin(1)"
   ]
  },
  {
   "cell_type": "code",
   "execution_count": 83,
   "id": "b36a1c83",
   "metadata": {},
   "outputs": [],
   "source": [
    "# 길이가 같지 않은 것은 어떻게 맞춰서 처리하지?\n",
    "\n",
    "for i,j in zip(arr1 , arr2):\n",
    "    temp_a = f'{bin(i):>5}'\n",
    "    temp_b = f'{bin(j):>5}'\n",
    "    temp_str = ''\n",
    "    for k in range(-1,-(n+1),-1):\n",
    "        try:\n",
    "            if '1' in (temp_a[k], temp_b[k]):\n",
    "                temp_str = '#' + temp_str\n",
    "            else:\n",
    "                temp_str = ' ' + temp_str\n",
    "        except:\n",
    "            temp_str = ' ' + temp_str\n",
    "    answer.append(temp_str)"
   ]
  },
  {
   "cell_type": "code",
   "execution_count": 84,
   "id": "d87952d3",
   "metadata": {},
   "outputs": [
    {
     "data": {
      "text/plain": [
       "['######', '###  #', '##  ##', ' #### ', ' #####', '### # ']"
      ]
     },
     "execution_count": 84,
     "metadata": {},
     "output_type": "execute_result"
    }
   ],
   "source": [
    "answer"
   ]
  },
  {
   "cell_type": "code",
   "execution_count": 85,
   "id": "636b767d",
   "metadata": {},
   "outputs": [],
   "source": [
    "# 문자열 어떻게 뒤집더라?\n",
    "# 뒤집는 함수가 따로 없네.."
   ]
  },
  {
   "cell_type": "code",
   "execution_count": 86,
   "id": "62c14c9a",
   "metadata": {},
   "outputs": [
    {
     "data": {
      "text/plain": [
       "'0b10010'"
      ]
     },
     "execution_count": 86,
     "metadata": {},
     "output_type": "execute_result"
    }
   ],
   "source": [
    "bin(18)"
   ]
  },
  {
   "cell_type": "code",
   "execution_count": 74,
   "id": "94e71b8f",
   "metadata": {},
   "outputs": [
    {
     "data": {
      "text/plain": [
       "'0b10001'"
      ]
     },
     "execution_count": 74,
     "metadata": {},
     "output_type": "execute_result"
    }
   ],
   "source": [
    "bin(17)"
   ]
  },
  {
   "cell_type": "markdown",
   "id": "0c62f542",
   "metadata": {},
   "source": [
    "#### 다른 사람의 풀이"
   ]
  },
  {
   "cell_type": "markdown",
   "id": "8798d0a6",
   "metadata": {},
   "source": [
    "https://school.programmers.co.kr/learn/courses/30/lessons/17681/solution_groups?language=python3"
   ]
  },
  {
   "cell_type": "code",
   "execution_count": null,
   "id": "effa38b6",
   "metadata": {},
   "outputs": [],
   "source": [
    "def solution(n, arr1, arr2):\n",
    "    answer = []\n",
    "    for i,j in zip(arr1,arr2):\n",
    "        a12 = str(bin(i|j)[2:])\n",
    "        a12=a12.rjust(n,'0')\n",
    "        a12=a12.replace('1','#')\n",
    "        a12=a12.replace('0',' ')\n",
    "        answer.append(a12)\n",
    "    return answer"
   ]
  },
  {
   "cell_type": "code",
   "execution_count": 111,
   "id": "d20187bf",
   "metadata": {},
   "outputs": [
    {
     "data": {
      "text/plain": [
       "'  1234'"
      ]
     },
     "execution_count": 111,
     "metadata": {},
     "output_type": "execute_result"
    }
   ],
   "source": [
    "'1234'.rjust(6,' ')"
   ]
  },
  {
   "cell_type": "code",
   "execution_count": 117,
   "id": "cffacc11",
   "metadata": {},
   "outputs": [
    {
     "data": {
      "text/plain": [
       "'0b100'"
      ]
     },
     "execution_count": 117,
     "metadata": {},
     "output_type": "execute_result"
    }
   ],
   "source": [
    "bin(4)"
   ]
  },
  {
   "cell_type": "code",
   "execution_count": 118,
   "id": "23c20605",
   "metadata": {},
   "outputs": [
    {
     "data": {
      "text/plain": [
       "'0b101'"
      ]
     },
     "execution_count": 118,
     "metadata": {},
     "output_type": "execute_result"
    }
   ],
   "source": [
    "bin(5)"
   ]
  },
  {
   "cell_type": "code",
   "execution_count": 119,
   "id": "4053bd37",
   "metadata": {},
   "outputs": [
    {
     "data": {
      "text/plain": [
       "5"
      ]
     },
     "execution_count": 119,
     "metadata": {},
     "output_type": "execute_result"
    }
   ],
   "source": [
    "4|5"
   ]
  },
  {
   "cell_type": "code",
   "execution_count": 120,
   "id": "33f0edf8",
   "metadata": {},
   "outputs": [
    {
     "data": {
      "text/plain": [
       "'0b101'"
      ]
     },
     "execution_count": 120,
     "metadata": {},
     "output_type": "execute_result"
    }
   ],
   "source": [
    "bin(4|5)"
   ]
  },
  {
   "cell_type": "code",
   "execution_count": 121,
   "id": "fcd8ab03",
   "metadata": {},
   "outputs": [
    {
     "ename": "TypeError",
     "evalue": "unsupported operand type(s) for |: 'str' and 'str'",
     "output_type": "error",
     "traceback": [
      "\u001b[0;31m---------------------------------------------------------------------------\u001b[0m",
      "\u001b[0;31mTypeError\u001b[0m                                 Traceback (most recent call last)",
      "\u001b[0;32m/tmp/ipykernel_151/2442297227.py\u001b[0m in \u001b[0;36m<module>\u001b[0;34m\u001b[0m\n\u001b[0;32m----> 1\u001b[0;31m \u001b[0mbin\u001b[0m\u001b[0;34m(\u001b[0m\u001b[0;36m4\u001b[0m\u001b[0;34m)\u001b[0m\u001b[0;34m|\u001b[0m\u001b[0mbin\u001b[0m\u001b[0;34m(\u001b[0m\u001b[0;36m5\u001b[0m\u001b[0;34m)\u001b[0m\u001b[0;34m\u001b[0m\u001b[0;34m\u001b[0m\u001b[0m\n\u001b[0m",
      "\u001b[0;31mTypeError\u001b[0m: unsupported operand type(s) for |: 'str' and 'str'"
     ]
    }
   ],
   "source": [
    "bin(4)|bin(5)"
   ]
  },
  {
   "cell_type": "code",
   "execution_count": 113,
   "id": "286fdfb4",
   "metadata": {},
   "outputs": [
    {
     "data": {
      "text/plain": [
       "'0b10010'"
      ]
     },
     "execution_count": 113,
     "metadata": {},
     "output_type": "execute_result"
    }
   ],
   "source": [
    "bin(18|16)"
   ]
  },
  {
   "cell_type": "code",
   "execution_count": 114,
   "id": "ee9b3005",
   "metadata": {},
   "outputs": [
    {
     "data": {
      "text/plain": [
       "'0b10010'"
      ]
     },
     "execution_count": 114,
     "metadata": {},
     "output_type": "execute_result"
    }
   ],
   "source": [
    "bin(18)"
   ]
  },
  {
   "cell_type": "code",
   "execution_count": 115,
   "id": "1cc99e78",
   "metadata": {},
   "outputs": [
    {
     "data": {
      "text/plain": [
       "'0b10000'"
      ]
     },
     "execution_count": 115,
     "metadata": {},
     "output_type": "execute_result"
    }
   ],
   "source": [
    "bin(16)"
   ]
  },
  {
   "cell_type": "code",
   "execution_count": 122,
   "id": "c8bc985f",
   "metadata": {},
   "outputs": [],
   "source": [
    "def solution(n, *maps):\n",
    "    return [line(n, a | b) for a, b in zip(*maps)]\n",
    "\n",
    "\n",
    "def line(n, x):\n",
    "    return ''.join(' #'[int(i)] for i in f'{x:016b}'[-n:])\n",
    "\n",
    "\n",
    "def test_sample():\n",
    "    assert solution(5, [9, 20, 28, 18, 11], [30, 1, 21, 17, 28]) == [\n",
    "        '#####',\n",
    "        '# # #',\n",
    "        '### #',\n",
    "        '#  ##',\n",
    "        '#####',\n",
    "    ]\n",
    "    assert solution(6, [46, 33, 33, 22, 31, 50], [27, 56, 19, 14, 14, 10]) == [\n",
    "        '######',\n",
    "        '###  #',\n",
    "        '##  ##',\n",
    "        ' #### ',\n",
    "        ' #####',\n",
    "        '### # ',\n",
    "    ]\n",
    "\n",
    "\n",
    "def test_line():\n",
    "    assert line(5, 9) == ' #  #'\n",
    "    assert line(5, 30) == '#### '\n",
    "    assert line(5, 9 | 30) == '#####'\n"
   ]
  },
  {
   "cell_type": "code",
   "execution_count": 123,
   "id": "cfd1c100",
   "metadata": {},
   "outputs": [],
   "source": [
    "import re\n",
    "\n",
    "def solution(n, arr1, arr2):\n",
    "    answer = [\"#\"]*n\n",
    "    for i in range(0, n):\n",
    "        answer[i] = str(bin(arr1[i]|arr2[i]))[2:]\n",
    "        answer[i] = re.sub('1', '#', '0'*(n-len(answer[i]))+answer[i])\n",
    "        answer[i] = re.sub('0', ' ', answer[i])\n",
    "    return answer\n"
   ]
  },
  {
   "cell_type": "code",
   "execution_count": 124,
   "id": "b1507abe",
   "metadata": {},
   "outputs": [],
   "source": [
    "def solution(n, arr1, arr2):\n",
    "    answer = []\n",
    "    for i in range(n):\n",
    "        a = str(bin(arr1[i]|arr2[i])[2:]).rjust(n,'0').replace('1','#').replace('0',' ')\n",
    "        answer.append(a)\n",
    "    return answer"
   ]
  },
  {
   "cell_type": "code",
   "execution_count": 125,
   "id": "e5a7f5ad",
   "metadata": {},
   "outputs": [],
   "source": [
    "def solution(n, arr1, arr2) :\n",
    "    result = []\n",
    "\n",
    "    for j in range(0,len(arr1)) :\n",
    "        ret = ''\n",
    "        num = arr1[j] | arr2[j]\n",
    "\n",
    "        for i in range(0, n) :\n",
    "            if num % 2 == 0 :\n",
    "                ret = ' ' + ret\n",
    "\n",
    "            else : \n",
    "                ret = '#' + ret\n",
    "\n",
    "            num = int(num / 2)\n",
    "\n",
    "        result.append(ret)\n",
    "\n",
    "    return result"
   ]
  },
  {
   "cell_type": "code",
   "execution_count": 126,
   "id": "2a5fea08",
   "metadata": {},
   "outputs": [],
   "source": [
    "def solution(n, arr1, arr2):\n",
    "    answer = []\n",
    "    for index in range(0,n):\n",
    "        answer.append(str(bin(arr1[index] | arr2[index] | pow(2,n))).replace(\"0b1\",\"\").replace(\"1\",\"#\").replace(\"0\",\" \"))\n",
    "        pass\n",
    "\n",
    "    return answer"
   ]
  },
  {
   "cell_type": "code",
   "execution_count": null,
   "id": "9d0e74eb",
   "metadata": {},
   "outputs": [],
   "source": []
  },
  {
   "cell_type": "code",
   "execution_count": null,
   "id": "d52b6a1c",
   "metadata": {},
   "outputs": [],
   "source": []
  },
  {
   "cell_type": "code",
   "execution_count": null,
   "id": "6cdd8cd1",
   "metadata": {},
   "outputs": [],
   "source": []
  }
 ],
 "metadata": {
  "kernelspec": {
   "display_name": "Python 3 (ipykernel)",
   "language": "python",
   "name": "python3"
  },
  "language_info": {
   "codemirror_mode": {
    "name": "ipython",
    "version": 3
   },
   "file_extension": ".py",
   "mimetype": "text/x-python",
   "name": "python",
   "nbconvert_exporter": "python",
   "pygments_lexer": "ipython3",
   "version": "3.9.7"
  }
 },
 "nbformat": 4,
 "nbformat_minor": 5
}
