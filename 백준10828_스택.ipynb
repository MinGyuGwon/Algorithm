{
 "cells": [
  {
   "cell_type": "code",
   "execution_count": null,
   "id": "e0ae6391",
   "metadata": {},
   "outputs": [],
   "source": [
    "def process_cmd(cmd_input, lst):\n",
    "    cmd = cmd_input.split()\n",
    "    length = len(lst)\n",
    "    if cmd[0] == 'push':\n",
    "        lst.append(int(cmd[1]))\n",
    "    elif cmd[0] == 'pop':\n",
    "        if length >=1: \n",
    "            print(lst.pop())\n",
    "        else:\n",
    "            print(-1)\n",
    "    elif cmd[0] == 'size':\n",
    "        print(length)\n",
    "    elif cmd[0] == 'empty':\n",
    "        if length:\n",
    "            print(0)\n",
    "        else: \n",
    "            print(1)\n",
    "    elif cmd[0] == 'top':\n",
    "        if length == 0:\n",
    "            print(-1)\n",
    "        else:\n",
    "            print(lst[-1])"
   ]
  },
  {
   "cell_type": "code",
   "execution_count": null,
   "id": "44bbf42a",
   "metadata": {},
   "outputs": [],
   "source": [
    "import sys\n",
    "\n",
    "stack_lst = []\n",
    "N = int(sys.stdin.readline())\n",
    "\n",
    "for _ in range(N):\n",
    "    cmd = sys.stdin.readline()\n",
    "    process_cmd(cmd, stack_lst)"
   ]
  },
  {
   "cell_type": "markdown",
   "id": "4cbc0153",
   "metadata": {},
   "source": [
    "백준은 input 입력 받을 때 input() 함수로 입력 받으면 시간초과 발생"
   ]
  }
 ],
 "metadata": {
  "kernelspec": {
   "display_name": "Python 3 (ipykernel)",
   "language": "python",
   "name": "python3"
  },
  "language_info": {
   "codemirror_mode": {
    "name": "ipython",
    "version": 3
   },
   "file_extension": ".py",
   "mimetype": "text/x-python",
   "name": "python",
   "nbconvert_exporter": "python",
   "pygments_lexer": "ipython3",
   "version": "3.9.7"
  }
 },
 "nbformat": 4,
 "nbformat_minor": 5
}
