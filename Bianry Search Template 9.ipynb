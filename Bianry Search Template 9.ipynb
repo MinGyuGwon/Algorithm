{
 "cells": [
  {
   "cell_type": "markdown",
   "id": "c92eea93",
   "metadata": {},
   "source": [
    "https://towardsdatascience.com/powerful-ultimate-binary-search-template-and-many-leetcode-problems-1f850ef95651"
   ]
  },
  {
   "cell_type": "markdown",
   "id": "bedf383d",
   "metadata": {},
   "source": [
    "1283. Find the Smallest Divisor Given a Threshold https://leetcode.com/problems/find-the-smallest-divisor-given-a-threshold/"
   ]
  },
  {
   "cell_type": "code",
   "execution_count": 19,
   "id": "df96cdb2",
   "metadata": {},
   "outputs": [],
   "source": [
    "# 10: 15 ~ 10:25\n",
    "# 10: 30 ~ 10: 43\n",
    "# 10: 45 ~ \n",
    "\n",
    "# Test Case Completed \n",
    "# Wrong Answer\n",
    "# nums = [21212,10101,12121]\n",
    "# threshold = 1000000\n",
    "# Output : 10101\n",
    "# Expected : 1\n",
    "\n",
    "class Solution(object):\n",
    "    def smallestDivisor(self, nums, threshold):\n",
    "        \"\"\"\n",
    "        :type nums: List[int]\n",
    "        :type threshold: int\n",
    "        :rtype: int\n",
    "        \"\"\"        \n",
    "        def divide(val, div):\n",
    "            if val % div == 0:\n",
    "                return (val // div) \n",
    "            else:\n",
    "                return (val // div) + 1\n",
    "        \n",
    "        leng = len(nums)\n",
    "\n",
    "        def feasible(mid):\n",
    "            temp = 0\n",
    "            temp = sum(map(divide,nums,[mid]*leng))  ## 중요 \n",
    "            return temp <= threshold\n",
    "        \n",
    "        left, right = min(nums), max(nums)\n",
    "        while left < right :\n",
    "            mid = left + (right-left)//2\n",
    "            if feasible(mid):\n",
    "                right = mid \n",
    "            else:\n",
    "                left = mid +1\n",
    "        return left"
   ]
  },
  {
   "cell_type": "code",
   "execution_count": 25,
   "id": "d0e28918",
   "metadata": {},
   "outputs": [],
   "source": [
    "# Accepted \n",
    "class Solution(object):\n",
    "    def smallestDivisor(self, nums, threshold):\n",
    "        \"\"\"\n",
    "        :type nums: List[int]\n",
    "        :type threshold: int\n",
    "        :rtype: int\n",
    "        \"\"\"        \n",
    "        def divide(val, div):\n",
    "            if val % div == 0:\n",
    "                return (val // div) \n",
    "            else:\n",
    "                return (val // div) + 1\n",
    "        \n",
    "        leng = len(nums)\n",
    "\n",
    "        def feasible(mid):\n",
    "            temp = 0\n",
    "            temp = sum(map(divide,nums,[mid]*leng))\n",
    "            return temp <= threshold\n",
    "        \n",
    "        left, right = 1, max(nums)\n",
    "        while left < right :\n",
    "            mid = left + (right-left)//2\n",
    "            if feasible(mid):\n",
    "                right = mid \n",
    "            else:\n",
    "                left = mid +1\n",
    "        return left"
   ]
  },
  {
   "cell_type": "markdown",
   "id": "91f585eb",
   "metadata": {},
   "source": [
    "## 다른 풀이"
   ]
  },
  {
   "cell_type": "code",
   "execution_count": 27,
   "id": "de9d88d5",
   "metadata": {},
   "outputs": [],
   "source": [
    "def smallestDivisor(nums, threshold):\n",
    "    # 좋은 포인트 \n",
    "    def condition(divisor):\n",
    "        return sum((num - 1) // divisor + 1 for num in nums) <= threshold\n",
    "    ############\n",
    "    \n",
    "    left, right = 1, max(nums)\n",
    "    while left < right:\n",
    "        mid = left + (right - left) // 2\n",
    "        if condition(mid):\n",
    "            right = mid\n",
    "        else:\n",
    "            left = mid + 1\n",
    "    return left"
   ]
  }
 ],
 "metadata": {
  "kernelspec": {
   "display_name": "Python 3 (ipykernel)",
   "language": "python",
   "name": "python3"
  },
  "language_info": {
   "codemirror_mode": {
    "name": "ipython",
    "version": 3
   },
   "file_extension": ".py",
   "mimetype": "text/x-python",
   "name": "python",
   "nbconvert_exporter": "python",
   "pygments_lexer": "ipython3",
   "version": "3.9.7"
  }
 },
 "nbformat": 4,
 "nbformat_minor": 5
}
