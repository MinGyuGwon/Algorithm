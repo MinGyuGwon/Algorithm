{
  "nbformat": 4,
  "nbformat_minor": 0,
  "metadata": {
    "colab": {
      "name": "Untitled0 134. Gas Station.ipynb",
      "provenance": [],
      "collapsed_sections": []
    },
    "kernelspec": {
      "name": "python3",
      "display_name": "Python 3"
    },
    "language_info": {
      "name": "python"
    }
  },
  "cells": [
    {
      "cell_type": "markdown",
      "source": [
        "https://leetcode.com/problems/gas-station/"
      ],
      "metadata": {
        "id": "b98n-6rkI3HK"
      }
    },
    {
      "cell_type": "code",
      "execution_count": null,
      "metadata": {
        "id": "h--bRC7hIRRV"
      },
      "outputs": [],
      "source": [
        "# 나의 사고 과정 \n",
        "def canCompleteCircuit( gas, cost):\n",
        "  for i in range(len(starting_candidate)):\n",
        "    # 시작 위치가 다르기 때문에 각 시작 위치별로 리스트를 생성해준다 --> 효과적인 방법이 아니다, 최대한 포인터? 인덱스를 옮기는 방향으로 생각했었어야 함 \n",
        "    # 인덱스 옮기는 방향으로 왜 생각을 못했을까?\n",
        "    gas_temp = gas.copy()[starting_candidate[i]:] +  gas.copy()[:starting_candidate[i]]\n",
        "    cost_temp = cost.copy()[starting_candidate[i]:] +  cost.copy()[:starting_candidate[i]]\n",
        "\n",
        "    # 누적 GAS의 변화량을 저장한 tank 변수를 사용하여 \n",
        "    # tank변수가 한번도 마이너스로 안떨어지고,   ('한번도'라는 부분에서 '아예 성립할 수 없는 경우'가 언제일까 생각해보았어야... )\n",
        "    # 끝까지 양수로 마친 경우를 선택하려고 했음\n",
        "    tank = 0 \n",
        "    for j in range(len(gas_temp)):\n",
        "      tank  =  tank + gas_temp[j] - cost_temp[j]  \n",
        "      ''' \n",
        "      문제에서 주어진 예시 속 '4 - 3 + 2 = 3'같은 예시들을 수식으로 나타내기 어려웠음 \n",
        "      문제에서 주어진 숫자들의 규칙을 보면 \n",
        "\n",
        "      gas = [2,3,4], cost = [3,4,3] 일 때, \n",
        "      2번째 Station에서 출발하여, Gas를 4 단위만큼 채워서 tank 수치가 4 가 되고 \n",
        "      그 다음 단계부터 '누적 수치' + 해당 Station으로 이동하는데 소요되는 'Cost' + 해당 Station에서  충전할 수 있는 'Gas'인데 \n",
        "      도착해서 넣는 Gas가 더해진 변수로 비교를 하는 것은 \n",
        "      도착하는 중간(Cost)에 부족한 경우를 판단하기 어려울 것이라 생각하였음 \n",
        "      '''\n",
        "      if tank  < 0: # 다음 스테이션으로 갈 수 없는 경우 \n",
        "        break \n",
        "      if j == len(gas_temp): # for문이 끝까지 순회를 했다면\n",
        "        return starting_candidate[i]\n",
        "  return -1"
      ]
    },
    {
      "cell_type": "code",
      "source": [
        "canCompleteCircuit( gas = [1,2,3,4,5], cost = [3,4,5,1,2] )  # Expected : 3"
      ],
      "metadata": {
        "colab": {
          "base_uri": "https://localhost:8080/"
        },
        "id": "upF-z-znPNy0",
        "outputId": "aa61f845-f1c3-4875-e00d-b76c9e1d0850"
      },
      "execution_count": null,
      "outputs": [
        {
          "output_type": "execute_result",
          "data": {
            "text/plain": [
              "-1"
            ]
          },
          "metadata": {},
          "execution_count": 13
        }
      ]
    },
    {
      "cell_type": "code",
      "source": [
        "# Index 기준으로\n",
        "# 3아니면 4 Station에서 밖에 시작할 수 없을 듯 "
      ],
      "metadata": {
        "id": "VIGA0_nsKuZ_"
      },
      "execution_count": null,
      "outputs": []
    },
    {
      "cell_type": "code",
      "source": [
        "# 가능한 스타트 지점을 추리는 코드 \n",
        "gas =  [1,2,3,4,5]\n",
        "cost =  [3,4,5,1,2]\n",
        "\n",
        "starting_candidate = []\n",
        "for i in range(len(gas)):  \n",
        "  if gas[i] >= cost[i]:\n",
        "    ''' \n",
        "    cost[i] of gas to travel from the ith station to its next (i + 1)th station인 점을 참고하면, \n",
        "    위의 경우처럼 'gas[i] >= cost[i]' 비교하는 것이 의미가 없음 \n",
        "    스타트 지점에서는 어떠한 Cost도 필요하지 않기 때문에 ( cost[i]는 i번째에서 (i+1)번째로 이동할 때의 cost를 의미하기 때문 )\n",
        "    '''\n",
        "    starting_candidate.append(i)"
      ],
      "metadata": {
        "id": "DZWPgviuI26G"
      },
      "execution_count": null,
      "outputs": []
    },
    {
      "cell_type": "code",
      "source": [
        "starting_candidate"
      ],
      "metadata": {
        "colab": {
          "base_uri": "https://localhost:8080/"
        },
        "id": "Lcu61UOXIUEQ",
        "outputId": "7bfd5f9d-5e4d-4cac-ec02-f298727cf34a"
      },
      "execution_count": null,
      "outputs": [
        {
          "output_type": "execute_result",
          "data": {
            "text/plain": [
              "[3, 4]"
            ]
          },
          "metadata": {},
          "execution_count": 2
        }
      ]
    },
    {
      "cell_type": "markdown",
      "source": [
        "## **다른 풀이**"
      ],
      "metadata": {
        "id": "n8p96Q0-Y_Wl"
      }
    },
    {
      "cell_type": "code",
      "source": [
        "# 김X지 풀이\n",
        "class Solution:\n",
        "    def canCompleteCircuit(self, gas, cost):\n",
        "        size = len(gas)\n",
        "\n",
        "        for j in range(size):\n",
        "            # 시작 지점에 따라 새로운 리스트를 만들어줘서 전체 돌리기\n",
        "            gas_new = gas[j:] + gas[:j]\n",
        "            cost_new = cost[j:] + cost[:j]\n",
        "            gas_left = 0\n",
        "            possible = 0\n",
        "            for k in range(size):\n",
        "                # gas 더하기,  cost 빼기\n",
        "                gas_left += gas_new[k]\n",
        "                gas_left -= cost_new[k]\n",
        "                if gas_left < 0:\n",
        "                    result = -1\n",
        "                    break\n",
        "                possible += 1\n",
        "                print('possible', possible)\n",
        "            if possible == size:\n",
        "                result = j\n",
        "                break     \n",
        "        return result"
      ],
      "metadata": {
        "id": "JGPZqva5Y-1m"
      },
      "execution_count": null,
      "outputs": []
    },
    {
      "cell_type": "code",
      "source": [
        "solution = Solution()        \n",
        "solution.canCompleteCircuit(gas = [1,2,3,4,5], cost = [3,4,5,1,2])"
      ],
      "metadata": {
        "id": "WDz-osikY-4L"
      },
      "execution_count": null,
      "outputs": []
    },
    {
      "cell_type": "code",
      "source": [
        "# 제출한 답 > Time limit exceeded 뜸\n",
        "class Solution:\n",
        "    def canCompleteCircuit(self, gas, cost):\n",
        "        size = len(gas)\n",
        "        \n",
        "        # 시작하는 index 가능한 첫번째 지점 잡아주기\n",
        "        # 시간 줄여줘보고자\n",
        "        for i in range(size):\n",
        "            if gas[i] >= cost[i]:\n",
        "                start = i\n",
        "                break\n",
        "            else:\n",
        "                start = 0\n",
        "\n",
        "        for j in range(start, size):\n",
        "            gas_new = gas[j:] + gas[:j]\n",
        "            cost_new = cost[j:] + cost[:j]\n",
        "            gas_left = 0\n",
        "            possible = 0\n",
        "            for k in range(size):\n",
        "                gas_left += gas_new[k]\n",
        "                gas_left -= cost_new[k]\n",
        "                if gas_left < 0:\n",
        "                    result = -1\n",
        "                    break\n",
        "                possible += 1\n",
        "            if possible == size:\n",
        "                result = j\n",
        "                break     \n",
        "        return result   "
      ],
      "metadata": {
        "id": "7imZPxZSIYGa"
      },
      "execution_count": null,
      "outputs": []
    },
    {
      "cell_type": "code",
      "source": [
        "solution = Solution()        \n",
        "solution.canCompleteCircuit(gas = [1,2,3,4,5], cost = [3,4,5,1,2])"
      ],
      "metadata": {
        "id": "7mnep0apZPG7"
      },
      "execution_count": null,
      "outputs": []
    },
    {
      "cell_type": "markdown",
      "source": [
        "## **정답 풀이**"
      ],
      "metadata": {
        "id": "KQ8UXpvsFaV-"
      }
    },
    {
      "cell_type": "code",
      "source": [
        "# 다른 풀이 1\n",
        "# Aproach 2: Linear go through each element in the array in case if gas goes negative change the possition right away\n",
        "\n",
        "class Solution:\n",
        "    def canCompleteCircuit(self, gas, cost):\n",
        "        # 전체 gas양보다 비용이 많으면 주어진 gas로 비용을 감당하지 못하니까\n",
        "        # sum( )을 이용해서 불가능한 경우 미리 제거 \n",
        "        if sum(gas)<sum(cost): return -1\n",
        "        amount, pos = 0, 0\n",
        "        for i in range(len(gas)):\n",
        "            amount+=gas[i]-cost[i]  # 현재 Station에서 Gas를 충전해서 다음 Station으로 가는 상황을 생각하면 된다. \n",
        "            # gas보다 cost가 많으면 시작점을 이동\n",
        "            if amount<0:\n",
        "                pos=i+1\n",
        "                amount=0\n",
        "        return pos"
      ],
      "metadata": {
        "id": "CkLsc32QZPJK"
      },
      "execution_count": null,
      "outputs": []
    },
    {
      "cell_type": "code",
      "source": [
        "solution = Solution()        \n",
        "solution.canCompleteCircuit(gas = [1,2,3,4,5], cost = [3,4,5,1,2])"
      ],
      "metadata": {
        "id": "XUrmwRstZSQF"
      },
      "execution_count": null,
      "outputs": []
    },
    {
      "cell_type": "code",
      "source": [
        "# linked list 생각\n",
        "# list가 원형으로 이어져 있다고 생각\n",
        "# 파이썬 알고리즘 책에서 linked list 생각\n",
        "\n",
        "class Solution:\n",
        "    def canCompleteCircuit(self, gas, cost):\n",
        "        values = [g - c for g, c in zip(gas, cost)]\n",
        "        if sum(values) < 0:\n",
        "            return -1\n",
        "\n",
        "        class Node():\n",
        "            def __init__(self, index, val, next=None):\n",
        "                self.index = index\n",
        "                self.val = val\n",
        "                self.next = next\n",
        "        linked_list = []\n",
        "        for index, value in enumerate(values):\n",
        "            node = Node(index, value)\n",
        "            linked_list.append(node)\n",
        "            if index > 0:\n",
        "                linked_list[index - 1].next = node\n",
        "        linked_list[-1].next = linked_list[0]\n",
        "        node = linked_list[0]\n",
        "        while node.next != node:\n",
        "            if node.val >= 0 and node.val + node.next.val >= 0:\n",
        "                node.val += node.next.val\n",
        "                node.next = node.next.next\n",
        "            node = node.next\n",
        "        return node.index"
      ],
      "metadata": {
        "id": "6BaXkrBZZSSl"
      },
      "execution_count": null,
      "outputs": []
    },
    {
      "cell_type": "code",
      "source": [
        "# https://leetcode.com/problems/gas-station/discuss/1004074/Greedy-Method-or-Explanation-%2B-Visual-or-Python\n",
        "# 그림으로 설명이 잘 되어 있습니다\n",
        "def canCompleteCircuit(self, gas: List[int], cost: List[int]) -> int:\n",
        "\ttrip_tank, curr_tank, start, n = 0, 0, 0, len(gas)\n",
        "\tfor i in range(n):\n",
        "\t\ttrip_tank += gas[i] - cost[i] # 이건 굳이 필요 없을 것 같은데, \"sum(gas) - sum(cost)\"하는게 보다 좋았을 것 같다. \n",
        "\t\tcurr_tank += gas[i] - cost[i]\n",
        "\t\tif curr_tank < 0:\n",
        "\t\t\tstart = i + 1\n",
        "\t\t\tcurr_tank = 0 \n",
        "\treturn start if trip_tank >= 0 else -1"
      ],
      "metadata": {
        "id": "ji4PnLA0ZSTt"
      },
      "execution_count": null,
      "outputs": []
    },
    {
      "cell_type": "code",
      "source": [
        "class Solution:\n",
        "    def canCompleteCircuit(self, gas, cost):\n",
        "        trip_tank, curr_tank, start, n = 0, 0, 0, len(gas)\n",
        "        for i in range(n):\n",
        "            trip_tank += gas[i] - cost[i]\n",
        "            curr_tank += gas[i] - cost[i]\n",
        "            if curr_tank < 0:\n",
        "                start = i + 1\n",
        "                curr_tank = 0\n",
        "        return start if trip_tank >= 0 else -1"
      ],
      "metadata": {
        "id": "MtcuNsENZSWS"
      },
      "execution_count": null,
      "outputs": []
    },
    {
      "cell_type": "code",
      "source": [
        "solution = Solution()        \n",
        "solution.canCompleteCircuit(gas = [1,2,3,4,5], cost = [3,4,5,1,2])"
      ],
      "metadata": {
        "id": "95FKxAZ4ZPLr"
      },
      "execution_count": null,
      "outputs": []
    }
  ]
}