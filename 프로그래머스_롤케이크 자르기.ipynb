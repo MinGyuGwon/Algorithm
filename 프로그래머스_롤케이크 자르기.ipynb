{
 "cells": [
  {
   "cell_type": "markdown",
   "id": "26d79b7d",
   "metadata": {},
   "source": [
    "## 문제\n",
    "https://school.programmers.co.kr/learn/courses/30/lessons/132265"
   ]
  },
  {
   "cell_type": "code",
   "execution_count": null,
   "id": "72d30e0b",
   "metadata": {},
   "outputs": [],
   "source": [
    "# 실패 (시간 초과)\n",
    "def solution(topping):\n",
    "    answer = 0\n",
    "    \n",
    "    flag = True # 공평하게 나뉘었다가 공평하게 나뉘지 않는 경우가 발생하게 되는 것을 Check\n",
    "    length = len(topping)\n",
    "    point = 0\n",
    "    \n",
    "    # print(topping[:point])\n",
    "    while flag == True :\n",
    "        if point >= length:\n",
    "            break\n",
    "        left = len(set(topping[:point])) \n",
    "        right = len(set(topping[point:]))\n",
    "        \n",
    "        if left < right :\n",
    "            flag = True \n",
    "            print(f\"point : {point}\")\n",
    "        elif left == right :\n",
    "            answer +=1\n",
    "            # print(f\"point : {point}\")\n",
    "        else:\n",
    "            flag = False\n",
    "        point += 1\n",
    "        \n",
    "    return answer"
   ]
  },
  {
   "cell_type": "markdown",
   "id": "b9866f5f",
   "metadata": {},
   "source": [
    "Binary Search 활용"
   ]
  },
  {
   "cell_type": "code",
   "execution_count": 1,
   "id": "28dd34fd",
   "metadata": {},
   "outputs": [],
   "source": [
    "# 실행 시간 10초 초과 \n",
    "def solution(topping):\n",
    "    answer = 0\n",
    "    \n",
    "    length = len(topping)\n",
    "    mid = length // 2\n",
    "    temp = -1\n",
    "    flag = True\n",
    "    result = -1\n",
    "    while flag :\n",
    "        if len(set(topping[:mid])) < len(set(topping[mid:])):\n",
    "            mid = mid + (length - mid)//2\n",
    "        elif len(set(topping[:mid])) > len(set(topping[mid:])):\n",
    "            mid = mid - (length - mid)//2\n",
    "        else: # 같다면 \n",
    "            temp = mid \n",
    "    \n",
    "    if temp > 0 :\n",
    "        while True :\n",
    "            temp -= 1\n",
    "            if len(set(topping[:temp])) == len(set(topping[temp:])):\n",
    "                result = temp \n",
    "            else: \n",
    "                break\n",
    "    for idx in range(result,length):\n",
    "        if len(set(topping[:idx])) == len(set(topping[idx:])):\n",
    "            answer += 1\n",
    "\n",
    "    return answer"
   ]
  },
  {
   "cell_type": "markdown",
   "id": "0d5cc5af",
   "metadata": {},
   "source": [
    "## 다른 풀이 "
   ]
  },
  {
   "cell_type": "code",
   "execution_count": null,
   "id": "00583182",
   "metadata": {},
   "outputs": [],
   "source": [
    "# 출처 : https://velog.io/@i_am_developer/%ED%94%84%EB%A1%9C%EA%B7%B8%EB%9E%98%EB%A8%B8%EC%8A%A4-%EB%A1%A4%EC%BC%80%EC%9D%B4%ED%81%AC-%EC%9E%90%EB%A5%B4%EA%B8%B0\n",
    "\n",
    "'''\n",
    "나는 Slicing과 이분탐색으로 접근한 것에 반해, \n",
    "해당 풀이는 dict의 길이는 요소의 개수인 것을 활용하여 접근하였다.\n",
    "'''\n",
    "\n",
    "from collections import Counter\n",
    "\n",
    "def solution(topping):\n",
    "    dic=Counter(topping)\n",
    "    set_dic=set()\n",
    "    answer=0\n",
    "    for i in topping:\n",
    "        dic[i]-=1\n",
    "        set_dic.add(i)\n",
    "        if dic[i]==0:\n",
    "            dic.pop(i)\n",
    "        if len(dic)==len(set_dic):\n",
    "            answer+=1\n",
    "    \n",
    "    return answer"
   ]
  },
  {
   "cell_type": "code",
   "execution_count": 3,
   "id": "09d886c5",
   "metadata": {},
   "outputs": [],
   "source": [
    "dic = dict({1:1234 , 2:356})"
   ]
  },
  {
   "cell_type": "code",
   "execution_count": 4,
   "id": "753b5f41",
   "metadata": {},
   "outputs": [
    {
     "data": {
      "text/plain": [
       "2"
      ]
     },
     "execution_count": 4,
     "metadata": {},
     "output_type": "execute_result"
    }
   ],
   "source": [
    "len(dic)"
   ]
  }
 ],
 "metadata": {
  "kernelspec": {
   "display_name": "Python 3 (ipykernel)",
   "language": "python",
   "name": "python3"
  },
  "language_info": {
   "codemirror_mode": {
    "name": "ipython",
    "version": 3
   },
   "file_extension": ".py",
   "mimetype": "text/x-python",
   "name": "python",
   "nbconvert_exporter": "python",
   "pygments_lexer": "ipython3",
   "version": "3.9.7"
  }
 },
 "nbformat": 4,
 "nbformat_minor": 5
}
