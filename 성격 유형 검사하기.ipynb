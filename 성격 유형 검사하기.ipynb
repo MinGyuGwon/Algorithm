{
 "cells": [
  {
   "cell_type": "code",
   "execution_count": 5,
   "id": "fcdea06e",
   "metadata": {},
   "outputs": [],
   "source": [
    "# def solution(survey, choices):\n",
    "#     answer = ''\n",
    "#     return answer\n",
    "\n",
    "\n",
    "# 딕셔너리 사용하자\n",
    "# 성격 유형을 Key값으로 해서, Value값 업데이트\n",
    "\n",
    "\n",
    "survey = [\"AN\", \"CF\", \"MJ\", \"RT\", \"NA\"]\n",
    "choices =  [5, 3, 2, 7, 5]\n",
    "# 2개의 리스트가 나오고, 2개의 리스트의 각 인덱스가 연관성을 가지면, zip()을 사용한다는 생각 가지기!\n",
    "# zip을 사용하자\n",
    "\n",
    "mind = dict.fromkeys('RCJATFMN',0)\n",
    "\n",
    "for i,j in zip(survey, choices):\n",
    "    a, b = list(i)\n",
    "    if j < 4 : # 비동의\n",
    "        mind[a] += 1\n",
    "    elif j >4 : # 동의\n",
    "        mind[b] += 1"
   ]
  },
  {
   "cell_type": "code",
   "execution_count": 6,
   "id": "865079aa",
   "metadata": {},
   "outputs": [
    {
     "data": {
      "text/plain": [
       "{'R': 0, 'C': 1, 'J': 0, 'A': 1, 'T': 1, 'F': 0, 'M': 1, 'N': 1}"
      ]
     },
     "execution_count": 6,
     "metadata": {},
     "output_type": "execute_result"
    }
   ],
   "source": [
    "mind"
   ]
  },
  {
   "cell_type": "code",
   "execution_count": 11,
   "id": "0c74c23d",
   "metadata": {},
   "outputs": [
    {
     "data": {
      "text/plain": [
       "74"
      ]
     },
     "execution_count": 11,
     "metadata": {},
     "output_type": "execute_result"
    }
   ],
   "source": [
    "ord('J')"
   ]
  },
  {
   "cell_type": "code",
   "execution_count": 10,
   "id": "b9db3934",
   "metadata": {},
   "outputs": [
    {
     "data": {
      "text/plain": [
       "77"
      ]
     },
     "execution_count": 10,
     "metadata": {},
     "output_type": "execute_result"
    }
   ],
   "source": [
    "ord('M')"
   ]
  },
  {
   "cell_type": "code",
   "execution_count": 12,
   "id": "40d79a94",
   "metadata": {},
   "outputs": [],
   "source": [
    "result = ''\n",
    "if mind['R'] >= mind['T']:\n",
    "    result += 'R'\n",
    "else: \n",
    "    result += 'T'\n",
    "    \n",
    "if mind['C'] >= mind['F']:\n",
    "    result += 'C'\n",
    "else: \n",
    "    result += 'F'\n",
    "    \n",
    "if mind['J'] >= mind['M']:\n",
    "    result += 'J'\n",
    "else: \n",
    "    result += 'M'\n",
    "    \n",
    "if mind['A'] >= mind['N']:\n",
    "    result += 'A'\n",
    "else: \n",
    "    result += 'N'"
   ]
  },
  {
   "cell_type": "code",
   "execution_count": 13,
   "id": "e8fb78b4",
   "metadata": {},
   "outputs": [
    {
     "data": {
      "text/plain": [
       "'TCMA'"
      ]
     },
     "execution_count": 13,
     "metadata": {},
     "output_type": "execute_result"
    }
   ],
   "source": [
    "result"
   ]
  },
  {
   "cell_type": "code",
   "execution_count": 17,
   "id": "ac14df17",
   "metadata": {},
   "outputs": [],
   "source": [
    "def solution(survey, choices):\n",
    "    answer = ''\n",
    "\n",
    "    # zip을 사용하자\n",
    "\n",
    "    mind = dict.fromkeys('RCJATFMN',0)\n",
    "\n",
    "    for i,j in zip(survey, choices):\n",
    "        a, b = list(i)\n",
    "        if j < 4 : # 비동의\n",
    "            if j == 1:\n",
    "                mind[a] += 3\n",
    "            elif j ==2:\n",
    "                mind[a] += 2\n",
    "            else:\n",
    "                mind[a] += 1\n",
    "        elif j >4 : # 동의\n",
    "            if j == 5:\n",
    "                mind[b] += 1\n",
    "            elif j ==6:\n",
    "                mind[b] += 2\n",
    "            else:\n",
    "                mind[b] += 3\n",
    "\n",
    "    answer = ''\n",
    "    if mind['R'] >= mind['T']:\n",
    "        answer += 'R'\n",
    "    else: \n",
    "        answer += 'T'\n",
    "\n",
    "    if mind['C'] >= mind['F']:\n",
    "        answer += 'C'\n",
    "    else: \n",
    "        answer += 'F'\n",
    "\n",
    "    if mind['J'] >= mind['M']:\n",
    "        answer += 'J'\n",
    "    else: \n",
    "        answer += 'M'\n",
    "\n",
    "    if mind['A'] >= mind['N']:\n",
    "        answer += 'A'\n",
    "    else: \n",
    "        answer += 'N'\n",
    "\n",
    "    return answer"
   ]
  },
  {
   "cell_type": "code",
   "execution_count": 18,
   "id": "e8b6f654",
   "metadata": {},
   "outputs": [
    {
     "data": {
      "text/plain": [
       "'TCMA'"
      ]
     },
     "execution_count": 18,
     "metadata": {},
     "output_type": "execute_result"
    }
   ],
   "source": [
    "solution([\"AN\", \"CF\", \"MJ\", \"RT\", \"NA\"], [5, 3, 2, 7, 5])"
   ]
  },
  {
   "cell_type": "code",
   "execution_count": 19,
   "id": "3a1d24c4",
   "metadata": {},
   "outputs": [
    {
     "data": {
      "text/plain": [
       "'RCJA'"
      ]
     },
     "execution_count": 19,
     "metadata": {},
     "output_type": "execute_result"
    }
   ],
   "source": [
    "solution([\"TR\", \"RT\", \"TR\"], [7, 1, 3])"
   ]
  },
  {
   "cell_type": "markdown",
   "id": "285cce4b",
   "metadata": {},
   "source": [
    "#### 다른 사람의 풀이"
   ]
  },
  {
   "cell_type": "code",
   "execution_count": null,
   "id": "597985dd",
   "metadata": {},
   "outputs": [],
   "source": [
    "def solution(survey, choices):\n",
    "\n",
    "    my_dict = {\"RT\":0,\"CF\":0,\"JM\":0,\"AN\":0}\n",
    "    for A,B in zip(survey,choices):\n",
    "        if A not in my_dict.keys(): # 'AN' 뿐만 아니라 'NA'로 주어지는 경우도 있기 때문에\n",
    "            A = A[::-1] # 문자열 뒤집기\n",
    "            my_dict[A] -= B-4\n",
    "        else: \n",
    "            my_dict[A] += B-4  # 경우에 따라 1,2,3점 주는 대신에, B-4점을 통해 한번에 처리해준 것이 좋은 시도 \n",
    "\n",
    "    result = \"\"\n",
    "    for name in my_dict.keys():\n",
    "        if my_dict[name] > 0: # '동의'의 점수가 더 높았다는 의미  \n",
    "            result += name[1] # survey[i]의 두번째 캐릭터가 선택됨\n",
    "        elif my_dict[name] < 0:# '비동의' 점수가 더 높았다는 의미 \n",
    "            result += name[0] # survey[i]의 첫번째 캐릭터가 선택됨\n",
    "        else:\n",
    "            result += sorted(name)[0] # 점수가 같을 경우, 알파벳이 빠른 경우가 선택된다. \n",
    "\n",
    "    return result"
   ]
  },
  {
   "cell_type": "code",
   "execution_count": 21,
   "id": "dd46c861",
   "metadata": {},
   "outputs": [
    {
     "data": {
      "text/plain": [
       "['A', 'N']"
      ]
     },
     "execution_count": 21,
     "metadata": {},
     "output_type": "execute_result"
    }
   ],
   "source": [
    "sorted('NA') # 문자열에 대해서도 동작하지만, 반환은 List로 "
   ]
  },
  {
   "cell_type": "code",
   "execution_count": 22,
   "id": "be9572ce",
   "metadata": {},
   "outputs": [
    {
     "name": "stdout",
     "output_type": "stream",
     "text": [
      "Help on built-in function sorted in module builtins:\n",
      "\n",
      "sorted(iterable, /, *, key=None, reverse=False)\n",
      "    Return a new list containing all items from the iterable in ascending order.\n",
      "    \n",
      "    A custom key function can be supplied to customize the sort order, and the\n",
      "    reverse flag can be set to request the result in descending order.\n",
      "\n"
     ]
    }
   ],
   "source": [
    "help(sorted)"
   ]
  },
  {
   "cell_type": "code",
   "execution_count": 20,
   "id": "f926b475",
   "metadata": {},
   "outputs": [
    {
     "data": {
      "text/plain": [
       "'NA'"
      ]
     },
     "execution_count": 20,
     "metadata": {},
     "output_type": "execute_result"
    }
   ],
   "source": [
    "\"AN\"[::-1]"
   ]
  }
 ],
 "metadata": {
  "kernelspec": {
   "display_name": "Python 3 (ipykernel)",
   "language": "python",
   "name": "python3"
  },
  "language_info": {
   "codemirror_mode": {
    "name": "ipython",
    "version": 3
   },
   "file_extension": ".py",
   "mimetype": "text/x-python",
   "name": "python",
   "nbconvert_exporter": "python",
   "pygments_lexer": "ipython3",
   "version": "3.9.7"
  }
 },
 "nbformat": 4,
 "nbformat_minor": 5
}
