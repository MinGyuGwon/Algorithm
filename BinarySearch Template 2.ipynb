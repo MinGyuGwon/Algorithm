{
 "cells": [
  {
   "cell_type": "markdown",
   "id": "6bc750a5",
   "metadata": {},
   "source": [
    "https://towardsdatascience.com/powerful-ultimate-binary-search-template-and-many-leetcode-problems-1f850ef95651"
   ]
  },
  {
   "cell_type": "code",
   "execution_count": 1,
   "id": "ea6712cf",
   "metadata": {},
   "outputs": [],
   "source": [
    "def binary(array):\n",
    "    def condition(mid):\n",
    "        pass\n",
    "    left, right = 0, len(array)\n",
    "    while left < right :\n",
    "        mid = left + (right-left)//2\n",
    "        if condtion(mid):\n",
    "            right = mid \n",
    "        else:\n",
    "            left = mid + 1\n",
    "    return left "
   ]
  },
  {
   "cell_type": "markdown",
   "id": "f4a36bf5",
   "metadata": {},
   "source": [
    "### 예시 1 \n",
    "1011. Capacity To Ship Packages Within D Days : https://leetcode.com/problems/capacity-to-ship-packages-within-d-days/"
   ]
  },
  {
   "cell_type": "code",
   "execution_count": 21,
   "id": "d19f72c0",
   "metadata": {},
   "outputs": [],
   "source": [
    "def shipWithinDays(weights, D):\n",
    "    '''\n",
    "    True / False 문제로 치환하는 것이 핵심  \n",
    "    '''\n",
    "    def feasible(capacity): \n",
    "        # Greedy로 구현한 True / False 판정 \n",
    "        days = 1\n",
    "        total = 0\n",
    "        for weight in weights:\n",
    "            total += weight\n",
    "            if total > capacity:  # too heavy, wait for the next day\n",
    "                total = weight\n",
    "                days += 1\n",
    "                if days > D:  # cannot ship within D days\n",
    "                    return False\n",
    "        return True\n",
    "      \n",
    "    left, right = max(weights), sum(weights) # 중요한 Point 중 하나\n",
    "    while left < right:\n",
    "        mid = left + (right - left) // 2\n",
    "        if feasible(mid):\n",
    "            right = mid\n",
    "        else:\n",
    "            left = mid + 1\n",
    "    return left"
   ]
  }
 ],
 "metadata": {
  "kernelspec": {
   "display_name": "Python 3 (ipykernel)",
   "language": "python",
   "name": "python3"
  },
  "language_info": {
   "codemirror_mode": {
    "name": "ipython",
    "version": 3
   },
   "file_extension": ".py",
   "mimetype": "text/x-python",
   "name": "python",
   "nbconvert_exporter": "python",
   "pygments_lexer": "ipython3",
   "version": "3.9.7"
  }
 },
 "nbformat": 4,
 "nbformat_minor": 5
}
