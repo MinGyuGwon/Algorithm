{
 "cells": [
  {
   "cell_type": "markdown",
   "id": "9a4a04c1",
   "metadata": {},
   "source": [
    "https://towardsdatascience.com/powerful-ultimate-binary-search-template-and-many-leetcode-problems-1f850ef95651"
   ]
  },
  {
   "cell_type": "markdown",
   "id": "38184ab6",
   "metadata": {},
   "source": [
    "1482. Minimum Number of Days to Make m Bouquets\n",
    "https://leetcode.com/problems/minimum-number-of-days-to-make-m-bouquets/"
   ]
  },
  {
   "cell_type": "code",
   "execution_count": 3,
   "id": "746b2aa4",
   "metadata": {},
   "outputs": [],
   "source": [
    "# 문제 풀이 소요 시간 30분 \n",
    "class Solution(object):\n",
    "    def minDays(self, bloomDay, m, k):\n",
    "        \"\"\"\n",
    "        :type bloomDay: List[int]\n",
    "        :type m: int\n",
    "        :type k: int\n",
    "        :rtype: int\n",
    "        \"\"\"\n",
    "        if len(bloomDay) < m*k :  # 불가능 \n",
    "            return -1\n",
    "        def feasible(mid):\n",
    "            \n",
    "            cnt = 0\n",
    "            cnts = 0\n",
    "            for idx, value in enumerate(bloomDay):\n",
    "                if value <= mid:\n",
    "                    cnt += 1\n",
    "                    if cnt == k:\n",
    "                        cnts +=1\n",
    "                        cnt = 0\n",
    "                        if cnts >= m:\n",
    "                            return True\n",
    "                else:\n",
    "                    cnt = 0\n",
    "            return False\n",
    "                    \n",
    "            \n",
    "                \n",
    "                \n",
    "        left, right = 1, max(bloomDay)\n",
    "        while left < right :\n",
    "            mid = left + (right - left)//2\n",
    "            if feasible(mid):\n",
    "                right = mid \n",
    "            else:\n",
    "                left = mid + 1\n",
    "        return left "
   ]
  },
  {
   "cell_type": "markdown",
   "id": "eeb4545f",
   "metadata": {},
   "source": [
    "## 다른 풀이"
   ]
  },
  {
   "cell_type": "code",
   "execution_count": 7,
   "id": "2788f965",
   "metadata": {},
   "outputs": [],
   "source": [
    "def minDays(bloomDay, m, k):\n",
    "    def feasible(days) -> bool:\n",
    "        bonquets, flowers = 0, 0\n",
    "        for bloom in bloomDay:\n",
    "            if bloom > days:\n",
    "                flowers = 0\n",
    "            else:\n",
    "                # ---------------------------\n",
    "                bonquets += (flowers + 1) // k\n",
    "                flowers = (flowers + 1) % k\n",
    "                # ----------------------------\n",
    "        return bonquets >= m\n",
    "        \n",
    "    if len(bloomDay) < m * k:\n",
    "        return -1\n",
    "    left, right = 1, max(bloomDay)\n",
    "    while left < right:\n",
    "        mid = left + (right - left) // 2\n",
    "        if feasible(mid):\n",
    "            right = mid\n",
    "        else:\n",
    "            left = mid + 1\n",
    "    return left"
   ]
  }
 ],
 "metadata": {
  "kernelspec": {
   "display_name": "Python 3 (ipykernel)",
   "language": "python",
   "name": "python3"
  },
  "language_info": {
   "codemirror_mode": {
    "name": "ipython",
    "version": 3
   },
   "file_extension": ".py",
   "mimetype": "text/x-python",
   "name": "python",
   "nbconvert_exporter": "python",
   "pygments_lexer": "ipython3",
   "version": "3.9.7"
  }
 },
 "nbformat": 4,
 "nbformat_minor": 5
}
