{
 "cells": [
  {
   "cell_type": "code",
   "execution_count": null,
   "id": "0ee9809e",
   "metadata": {},
   "outputs": [],
   "source": [
    "# 문제 풀이 시간: 25분 \n",
    "def solution(board, moves):\n",
    "    answer = 0\n",
    "    depth =  len(board) # 칸의 깊이 \n",
    "    stack = []\n",
    "    \n",
    "    for i in moves :\n",
    "        num = i - 1 # index 위치로 계산하기\n",
    "        for j in range(depth):\n",
    "            if board[j][num] != 0:\n",
    "                temp = board[j][num] # pop 을 쓰면 당겨지기 때문에 안됨 \n",
    "                board[j][num] = 0\n",
    "                stack.append(temp)\n",
    "                if stack[-2:-1] == stack[-1:]:\n",
    "                    stack.pop()\n",
    "                    stack.pop()\n",
    "                    answer += 2\n",
    "                break\n",
    "    return answer"
   ]
  },
  {
   "cell_type": "code",
   "execution_count": 28,
   "id": "17c9f12b",
   "metadata": {},
   "outputs": [],
   "source": [
    "# 배열을 재구성할 수 있을까?\n",
    "# 각 column? 별로 값이 담기게?\n",
    "# zip 함수를 이용해 가능하다 \n",
    "list(zip(*board))"
   ]
  },
  {
   "cell_type": "code",
   "execution_count": 54,
   "id": "9e9786d9",
   "metadata": {},
   "outputs": [],
   "source": [
    "answer  = 0\n",
    "\n",
    "board = [[0,0,0,0,0],[0,0,1,0,3],[0,2,5,0,1],[4,2,4,4,2],[3,5,1,3,1]] # 위의 층부터 차례로 \n",
    "moves = [1,5,3,5,1,2,1,4]"
   ]
  },
  {
   "cell_type": "code",
   "execution_count": 55,
   "id": "496ef5ce",
   "metadata": {},
   "outputs": [],
   "source": [
    "depth =  len(board) # 칸의 깊이 "
   ]
  },
  {
   "cell_type": "code",
   "execution_count": 56,
   "id": "ae7d920c",
   "metadata": {},
   "outputs": [],
   "source": [
    "stack = []"
   ]
  },
  {
   "cell_type": "code",
   "execution_count": 57,
   "id": "55af4b20",
   "metadata": {},
   "outputs": [],
   "source": [
    "for i in moves :\n",
    "    num = i - 1 # index 위치로 계산하기\n",
    "    for j in range(depth):\n",
    "        if board[j][num] != 0:\n",
    "            temp = board[j][num] # pop 을 쓰면 당겨지기 때문에 안됨 \n",
    "            board[j][num] = 0\n",
    "            stack.append(temp)\n",
    "            # 0이 아닌 값이 있으면 해당 값 이후는 실행 반복문 실행 안되게 어떻게 하지?\n",
    "            if stack[-2:-1] == stack[-1:]:\n",
    "                stack.pop()\n",
    "                stack.pop()\n",
    "                answer += 2\n",
    "            break"
   ]
  },
  {
   "cell_type": "code",
   "execution_count": 58,
   "id": "1d6df79c",
   "metadata": {},
   "outputs": [
    {
     "data": {
      "text/plain": [
       "4"
      ]
     },
     "execution_count": 58,
     "metadata": {},
     "output_type": "execute_result"
    }
   ],
   "source": [
    "answer"
   ]
  },
  {
   "cell_type": "code",
   "execution_count": null,
   "id": "bd93b8ea",
   "metadata": {},
   "outputs": [],
   "source": [
    "# stack에 모두 담아두고, 마지막에 stack에 대한 처리를 하려고 했는데, \n",
    "# 그런 경우, 반복문 실행되면서, List 안의 값이 변경되는 경우있을 수 있기 때문에\n",
    "# 위에서 함께 처리를 해주었다. "
   ]
  },
  {
   "cell_type": "code",
   "execution_count": null,
   "id": "bdc3043c",
   "metadata": {},
   "outputs": [],
   "source": [
    "# flag = -1\n",
    "# for i in stack:\n",
    "#     if i "
   ]
  },
  {
   "cell_type": "markdown",
   "id": "591e0d54",
   "metadata": {},
   "source": [
    "#### 다른 사람의 풀이"
   ]
  },
  {
   "cell_type": "code",
   "execution_count": null,
   "id": "1b4e7160",
   "metadata": {},
   "outputs": [],
   "source": [
    "def solution(board, moves):\n",
    "    cols = list(map(lambda x: list(filter(lambda y: y > 0, x)), zip(*board)))\n",
    "    a, s = 0, [0]\n",
    "\n",
    "    for m in moves:\n",
    "        if len(cols[m - 1]) > 0:\n",
    "            if (d := cols[m - 1].pop(0)) == (l := s.pop()):\n",
    "                a += 2\n",
    "            else:\n",
    "                s.extend([l, d])\n",
    "\n",
    "    return a"
   ]
  },
  {
   "cell_type": "code",
   "execution_count": 59,
   "id": "9626affe",
   "metadata": {},
   "outputs": [],
   "source": [
    "board = [[0,0,0,0,0],[0,0,1,0,3],[0,2,5,0,1],[4,2,4,4,2],[3,5,1,3,1]] # 위의 층부터 차례로 \n",
    "moves = [1,5,3,5,1,2,1,4]"
   ]
  },
  {
   "cell_type": "code",
   "execution_count": 67,
   "id": "4b781e24",
   "metadata": {},
   "outputs": [
    {
     "data": {
      "text/plain": [
       "[(0, 0, 0, 4, 3),\n",
       " (0, 0, 2, 2, 5),\n",
       " (0, 1, 5, 4, 1),\n",
       " (0, 0, 0, 4, 3),\n",
       " (0, 3, 1, 2, 1)]"
      ]
     },
     "execution_count": 67,
     "metadata": {},
     "output_type": "execute_result"
    }
   ],
   "source": [
    "list(zip(*board))"
   ]
  },
  {
   "cell_type": "code",
   "execution_count": 64,
   "id": "e90ca3bd",
   "metadata": {},
   "outputs": [],
   "source": [
    "cols = list(map(lambda x: list(filter(lambda y: y > 0, x)), zip(*board))) # 0보다 큰 값만 남긴다. "
   ]
  },
  {
   "cell_type": "code",
   "execution_count": 65,
   "id": "1fd71e63",
   "metadata": {},
   "outputs": [
    {
     "data": {
      "text/plain": [
       "[[4, 3], [2, 2, 5], [1, 5, 4, 1], [4, 3], [3, 1, 2, 1]]"
      ]
     },
     "execution_count": 65,
     "metadata": {},
     "output_type": "execute_result"
    }
   ],
   "source": [
    "cols"
   ]
  }
 ],
 "metadata": {
  "kernelspec": {
   "display_name": "Python 3 (ipykernel)",
   "language": "python",
   "name": "python3"
  },
  "language_info": {
   "codemirror_mode": {
    "name": "ipython",
    "version": 3
   },
   "file_extension": ".py",
   "mimetype": "text/x-python",
   "name": "python",
   "nbconvert_exporter": "python",
   "pygments_lexer": "ipython3",
   "version": "3.9.7"
  }
 },
 "nbformat": 4,
 "nbformat_minor": 5
}
